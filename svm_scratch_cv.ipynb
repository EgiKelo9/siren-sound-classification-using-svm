{
 "cells": [
  {
   "cell_type": "markdown",
   "id": "b82f0237",
   "metadata": {},
   "source": [
    "# **0. Import Library**"
   ]
  },
  {
   "cell_type": "code",
   "execution_count": 1,
   "id": "57529c16",
   "metadata": {},
   "outputs": [],
   "source": [
    "import os\n",
    "import numpy as np\n",
    "import pandas as pd\n",
    "import scipy.fftpack\n",
    "import seaborn as sns\n",
    "import cloudpickle as pickle\n",
    "import matplotlib.pyplot as plt\n",
    "from tqdm import tqdm\n",
    "from scipy.io import wavfile\n",
    "from cvxopt import matrix, solvers\n",
    "from collections import Counter, defaultdict\n",
    "from sklearn.model_selection import train_test_split\n",
    "from sklearn.preprocessing import LabelEncoder, StandardScaler\n",
    "from sklearn.metrics import classification_report, confusion_matrix, accuracy_score"
   ]
  },
  {
   "cell_type": "markdown",
   "id": "883a001f",
   "metadata": {},
   "source": [
    "# **1. Data Preprocessing**"
   ]
  },
  {
   "cell_type": "markdown",
   "id": "f22436df",
   "metadata": {},
   "source": [
    "### **1.1. Set Important Variables**"
   ]
  },
  {
   "cell_type": "code",
   "execution_count": 2,
   "id": "8daabf2c",
   "metadata": {},
   "outputs": [],
   "source": [
    "base_path = './sounds/'\n",
    "categories = ['ambulance', 'firetruck', 'traffic']\n",
    "data_path = []\n",
    "labels = []"
   ]
  },
  {
   "cell_type": "markdown",
   "id": "4ff43cda",
   "metadata": {},
   "source": [
    "### **1.2. Load Dataset**"
   ]
  },
  {
   "cell_type": "code",
   "execution_count": 3,
   "id": "3173d2c8",
   "metadata": {},
   "outputs": [],
   "source": [
    "for category in categories:\n",
    "    folder_path = f'sounds/{category}'\n",
    "    for file_name in os.listdir(folder_path):\n",
    "        if file_name.endswith('.wav'):\n",
    "            file_path = os.path.join(folder_path, file_name)\n",
    "            data_path.append(file_path)\n",
    "            labels.append(category)"
   ]
  },
  {
   "cell_type": "code",
   "execution_count": 4,
   "id": "1aa50da5",
   "metadata": {},
   "outputs": [
    {
     "name": "stdout",
     "output_type": "stream",
     "text": [
      "Number of labels: 600\n",
      "Unique labels: {'traffic', 'ambulance', 'firetruck'}\n",
      "Number of each label: {'ambulance': 200, 'firetruck': 200, 'traffic': 200}\n"
     ]
    }
   ],
   "source": [
    "print(f\"Number of labels: {len(labels)}\")\n",
    "print(f\"Unique labels: {set(labels)}\")\n",
    "label_counts = Counter(labels)\n",
    "print(f\"Number of each label: {dict(label_counts)}\")"
   ]
  },
  {
   "cell_type": "markdown",
   "id": "052e79cc",
   "metadata": {},
   "source": [
    "### **1.3. Data Augmentation**"
   ]
  },
  {
   "cell_type": "code",
   "execution_count": 5,
   "id": "2406d09c",
   "metadata": {},
   "outputs": [],
   "source": [
    "def add_noise(signal, noise_level=0.005):\n",
    "    noise = np.random.randn(len(signal))\n",
    "    augmented = signal + noise_level * noise\n",
    "    return augmented.astype(np.float32)\n",
    "\n",
    "def time_stretch(signal, stretch_factor=1.1):\n",
    "    indices = np.arange(0, len(signal), stretch_factor)\n",
    "    indices = indices[indices < len(signal)].astype(int)\n",
    "    return signal[indices]\n",
    "\n",
    "def pitch_shift(signal, sr, n_steps=2):\n",
    "    factor = 2 ** (n_steps / 12)\n",
    "    resampled = scipy.signal.resample(signal, int(len(signal) / factor))\n",
    "    if len(resampled) < len(signal):\n",
    "        pad_width = len(signal) - len(resampled)\n",
    "        resampled = np.pad(resampled, (0, pad_width), mode='constant')\n",
    "    else:\n",
    "        resampled = resampled[:len(signal)]\n",
    "    return resampled.astype(np.float32)\n",
    "\n",
    "def volume_perturb(signal, gain=1.2):\n",
    "    return (signal * gain).astype(np.float32)\n",
    "\n",
    "def fix_len(sig, target_len):\n",
    "    if len(sig) < target_len:\n",
    "        return np.pad(sig, (0, target_len - len(sig)), mode='constant')\n",
    "    else:\n",
    "        return sig[:target_len]"
   ]
  },
  {
   "cell_type": "code",
   "execution_count": 6,
   "id": "fa4b7072",
   "metadata": {},
   "outputs": [],
   "source": [
    "def augment_audio(signal, sr):\n",
    "    aug1 = signal\n",
    "    aug2 = add_noise(signal)\n",
    "    aug3 = time_stretch(signal, 1.1)\n",
    "    aug4 = pitch_shift(signal, sr, n_steps=2)\n",
    "    aug5 = volume_perturb(signal, gain=0.8)\n",
    "\n",
    "    original_len = len(signal)\n",
    "    all_signals = [fix_len(s, original_len) for s in [aug1, aug2, aug3, aug4, aug5]]\n",
    "    return all_signals"
   ]
  },
  {
   "cell_type": "code",
   "execution_count": 7,
   "id": "357c3d62",
   "metadata": {},
   "outputs": [],
   "source": [
    "def load_audio(filepath):\n",
    "    sr, data = wavfile.read(filepath)\n",
    "    if len(data.shape) > 1:\n",
    "        data = data[:, 0]\n",
    "    data = data.astype(np.float32)\n",
    "    return sr, data"
   ]
  },
  {
   "cell_type": "code",
   "execution_count": 8,
   "id": "90506174",
   "metadata": {},
   "outputs": [],
   "source": [
    "def augment_signal(filepath):\n",
    "    sr, signal = load_audio(filepath)\n",
    "    augmented_signals = augment_audio(signal, sr)\n",
    "    sr_signal_pair = []\n",
    "    for aug_signal in augmented_signals:\n",
    "        sr_signal_pair.append((sr, aug_signal))\n",
    "    return sr_signal_pair"
   ]
  },
  {
   "cell_type": "code",
   "execution_count": 9,
   "id": "b09fc85a",
   "metadata": {},
   "outputs": [
    {
     "name": "stderr",
     "output_type": "stream",
     "text": [
      "Augmenting audio files: 100%|██████████| 600/600 [00:22<00:00, 26.98it/s]\n"
     ]
    },
    {
     "name": "stdout",
     "output_type": "stream",
     "text": [
      "Total augmented samples: 3000\n",
      "      sample_rate                                             signal  \\\n",
      "0           44100  [0.0, 0.0, 0.0, 0.0, 0.0, 0.0, 0.0, 0.0, 0.0, ...   \n",
      "1           44100  [-4.495439e-05, -0.0044727484, -0.007466108, -...   \n",
      "2           44100  [0.0, 0.0, 0.0, 0.0, 0.0, 0.0, 0.0, 0.0, 0.0, ...   \n",
      "3           44100  [14.3213005, -4.9273396, 2.7958882, -1.9206804...   \n",
      "4           44100  [0.0, 0.0, 0.0, 0.0, 0.0, 0.0, 0.0, 0.0, 0.0, ...   \n",
      "...           ...                                                ...   \n",
      "2995        44100  [-1113.0, -858.0, -563.0, -230.0, 98.0, 357.0,...   \n",
      "2996        44100  [-1112.9956, -857.9987, -563.0009, -229.99007,...   \n",
      "2997        44100  [-1113.0, -858.0, -563.0, -230.0, 98.0, 357.0,...   \n",
      "2998        44100  [-1075.7485, -837.7126, -476.45578, -110.32513...   \n",
      "2999        44100  [-890.4, -686.4, -450.4, -184.0, 78.4, 285.6, ...   \n",
      "\n",
      "          label  \n",
      "0     ambulance  \n",
      "1     ambulance  \n",
      "2     ambulance  \n",
      "3     ambulance  \n",
      "4     ambulance  \n",
      "...         ...  \n",
      "2995    traffic  \n",
      "2996    traffic  \n",
      "2997    traffic  \n",
      "2998    traffic  \n",
      "2999    traffic  \n",
      "\n",
      "[3000 rows x 3 columns]\n"
     ]
    }
   ],
   "source": [
    "augmented_data = []\n",
    "for file_path in tqdm(data_path, desc=\"Augmenting audio files\"):\n",
    "    augmented_data.extend(augment_signal(file_path))\n",
    "print(f\"Total augmented samples: {len(augmented_data)}\")\n",
    "\n",
    "augmented_df = pd.DataFrame(augmented_data, columns=['sample_rate', 'signal'])\n",
    "augmented_df['label'] = np.repeat(labels, 5)\n",
    "print(augmented_df)"
   ]
  },
  {
   "cell_type": "markdown",
   "id": "a0562de8",
   "metadata": {},
   "source": [
    "# **2. Feature Extraction**"
   ]
  },
  {
   "cell_type": "markdown",
   "id": "ad12a090",
   "metadata": {},
   "source": [
    "### **2.1. Time Domain**"
   ]
  },
  {
   "cell_type": "code",
   "execution_count": 10,
   "id": "d4d65e18",
   "metadata": {},
   "outputs": [],
   "source": [
    "def time_domain_features(signal):\n",
    "    zcr = np.mean(np.abs(np.diff(np.sign(signal)))) / 2\n",
    "    rms = np.sqrt(np.mean(signal**2))\n",
    "    return zcr, rms"
   ]
  },
  {
   "cell_type": "markdown",
   "id": "04b25fbc",
   "metadata": {},
   "source": [
    "### **2.2. Domain Frekuensi**"
   ]
  },
  {
   "cell_type": "code",
   "execution_count": 11,
   "id": "34029ff0",
   "metadata": {},
   "outputs": [],
   "source": [
    "def frequency_domain_features(signal, sr):\n",
    "    N = len(signal)\n",
    "    fft = np.fft.rfft(signal)\n",
    "    mag = np.abs(fft)\n",
    "    freqs = np.fft.rfftfreq(N, d=1/sr)\n",
    "\n",
    "    spec_centroid = np.sum(freqs * mag) / np.sum(mag)\n",
    "    spec_bandwidth = np.sqrt(np.sum(((freqs - spec_centroid)**2) * mag) / np.sum(mag))\n",
    "    rolloff_thresh = 0.85 * np.sum(mag)\n",
    "    rolloff_freq = freqs[np.where(np.cumsum(mag) >= rolloff_thresh)[0][0]]\n",
    "\n",
    "    return spec_centroid, spec_bandwidth, rolloff_freq"
   ]
  },
  {
   "cell_type": "markdown",
   "id": "491e1686",
   "metadata": {},
   "source": [
    "### **2.3. MFCC Feature**"
   ]
  },
  {
   "cell_type": "code",
   "execution_count": 12,
   "id": "50564fb4",
   "metadata": {},
   "outputs": [],
   "source": [
    "def hz_to_mel(hz): return 2595 * np.log10(1 + hz / 700.0)\n",
    "def mel_to_hz(mel): return 700 * (10**(mel / 2595.0) - 1)\n",
    "\n",
    "def mfcc(signal, sr, n_mfcc=13, n_filters=26, n_fft=512):\n",
    "    # 1. Framing\n",
    "    frame_len = int(0.025 * sr)\n",
    "    frame_step = int(0.010 * sr)\n",
    "    signal_len = len(signal)\n",
    "    num_frames = int(np.ceil(float(np.abs(signal_len - frame_len)) / frame_step)) + 1\n",
    "\n",
    "    pad_len = num_frames * frame_step + frame_len\n",
    "    z = np.zeros((pad_len - signal_len))\n",
    "    pad_signal = np.append(signal, z)\n",
    "\n",
    "    indices = np.tile(np.arange(0, frame_len), (num_frames, 1)) + \\\n",
    "              np.tile(np.arange(0, num_frames * frame_step, frame_step), (frame_len, 1)).T\n",
    "    frames = pad_signal[indices.astype(np.int32, copy=False)]\n",
    "\n",
    "    # 2. Windowing\n",
    "    frames *= np.hamming(frame_len)\n",
    "\n",
    "    # 3. FFT and power spectrum\n",
    "    mag_frames = np.absolute(np.fft.rfft(frames, n_fft))\n",
    "    pow_frames = ((1.0 / n_fft) * (mag_frames ** 2))\n",
    "\n",
    "    # 4. Mel filterbank\n",
    "    low_mel = hz_to_mel(0)\n",
    "    high_mel = hz_to_mel(sr / 2)\n",
    "    mel_points = np.linspace(low_mel, high_mel, n_filters + 2)\n",
    "    hz_points = mel_to_hz(mel_points)\n",
    "    bin = np.floor((n_fft + 1) * hz_points / sr).astype(int)\n",
    "\n",
    "    fbank = np.zeros((n_filters, int(n_fft / 2 + 1)))\n",
    "    for m in range(1, n_filters + 1):\n",
    "        f_m_minus, f_m, f_m_plus = bin[m - 1], bin[m], bin[m + 1]\n",
    "        for k in range(f_m_minus, f_m):\n",
    "            fbank[m - 1, k] = (k - bin[m - 1]) / (bin[m] - bin[m - 1])\n",
    "        for k in range(f_m, f_m_plus):\n",
    "            fbank[m - 1, k] = (bin[m + 1] - k) / (bin[m + 1] - bin[m])\n",
    "\n",
    "    filter_banks = np.dot(pow_frames, fbank.T)\n",
    "    filter_banks = np.where(filter_banks == 0, np.finfo(float).eps, filter_banks)\n",
    "    log_fbanks = np.log(filter_banks)\n",
    "\n",
    "    # 5. DCT\n",
    "    mfccs = scipy.fftpack.dct(log_fbanks, type=2, axis=1, norm='ortho')[:, :n_mfcc]\n",
    "    return np.mean(mfccs, axis=0)\n"
   ]
  },
  {
   "cell_type": "markdown",
   "id": "939bee18",
   "metadata": {},
   "source": [
    "### **2.4. Extract Features From Data**"
   ]
  },
  {
   "cell_type": "code",
   "execution_count": 13,
   "id": "7113fb61",
   "metadata": {},
   "outputs": [],
   "source": [
    "def extract_all_features(sr, signal):\n",
    "    zcr, rms = time_domain_features(signal)\n",
    "    centroid, bandwidth, rolloff = frequency_domain_features(signal, sr)\n",
    "    mfccs = mfcc(signal, sr)\n",
    "    return np.array([zcr, rms, centroid, bandwidth, rolloff] + mfccs.tolist())"
   ]
  },
  {
   "cell_type": "code",
   "execution_count": 14,
   "id": "0adb633c",
   "metadata": {},
   "outputs": [
    {
     "name": "stderr",
     "output_type": "stream",
     "text": [
      "Extracting features: 100%|██████████| 3000/3000 [00:55<00:00, 54.25it/s]\n"
     ]
    }
   ],
   "source": [
    "extracted_data = []\n",
    "for data in tqdm(augmented_data, desc=\"Extracting features\"):\n",
    "    sr, signal = data[0], data[1]\n",
    "    features = extract_all_features(sr, signal)\n",
    "    extracted_data.append(features)"
   ]
  },
  {
   "cell_type": "code",
   "execution_count": 15,
   "id": "73b5c88d",
   "metadata": {},
   "outputs": [
    {
     "name": "stdout",
     "output_type": "stream",
     "text": [
      "Shape of feature matrix X: (3000, 18)\n",
      "Shape of label vector y: (3000,)\n"
     ]
    }
   ],
   "source": [
    "data_uniform = []\n",
    "for feature_list in extracted_data:\n",
    "    processed_features = []\n",
    "    for feature in feature_list:\n",
    "        if isinstance(feature, np.ndarray):\n",
    "            processed_features.append(feature.item())\n",
    "        else:\n",
    "            processed_features.append(feature)\n",
    "    data_uniform.append(processed_features)\n",
    "\n",
    "X = np.array(data_uniform)\n",
    "y = np.array(np.repeat(labels, 5))\n",
    "\n",
    "print(f\"Shape of feature matrix X: {X.shape}\")\n",
    "print(f\"Shape of label vector y: {y.shape}\")"
   ]
  },
  {
   "cell_type": "markdown",
   "id": "8aad72a7",
   "metadata": {},
   "source": [
    "# **3. Set Up and Train Model**"
   ]
  },
  {
   "cell_type": "markdown",
   "id": "ff038081",
   "metadata": {},
   "source": [
    "### **3.1. Support Vector Machine (SVM) Model**"
   ]
  },
  {
   "cell_type": "code",
   "execution_count": 16,
   "id": "ace2af66",
   "metadata": {},
   "outputs": [],
   "source": [
    "class SVM:\n",
    "    \n",
    "    # Fungsi konstruktor untuk menginisialisasi parameter SVM\n",
    "    def __init__(self, kernel='rbf', C=10.0, degree=3, gamma=0.01):\n",
    "        self.kernel_type = kernel\n",
    "        self.C = C\n",
    "        self.degree = degree\n",
    "        self.gamma = gamma\n",
    "        self.models = {}\n",
    "        self.is_multiclass = False\n",
    "    \n",
    "    # Fungsi untuk mendapatkan parameter SVM\n",
    "    def get_params(self):\n",
    "        return {\n",
    "            \"C\": self.C,\n",
    "            \"kernel\": self._compute_kernel,\n",
    "            \"gamma\": self.gamma,\n",
    "            \"degree\": self.degree,\n",
    "        }\n",
    "\n",
    "    # Fungsi untuk mengatur parameter SVM\n",
    "    def set_params(self, **parameters):\n",
    "        for parameter, value in parameters.items():\n",
    "            setattr(self, parameter, value)\n",
    "        return self\n",
    "    \n",
    "    # Fungsi untuk menghitung kernel\n",
    "    def _compute_kernel(self, x, y):\n",
    "        if self.kernel_type == 'linear':\n",
    "            return np.dot(x, y)\n",
    "        elif self.kernel_type == 'poly':\n",
    "            return (1 + self.gamma * np.dot(x, y)) ** self.degree\n",
    "        elif self.kernel_type == 'rbf':\n",
    "            return np.exp(-self._gamma * np.linalg.norm(x - y) ** 2)\n",
    "        else:\n",
    "            raise ValueError(\"Unknown kernel\")\n",
    "\n",
    "    # Fungsi untuk melakukan proses fitting model SVM\n",
    "    def fit(self, X, y):\n",
    "        self.classes = np.unique(y)\n",
    "        n_classes = len(self.classes)\n",
    "        self.is_multiclass = n_classes > 2\n",
    "\n",
    "        if self.is_multiclass:\n",
    "            self.models = {}\n",
    "            print(f\"Training {n_classes} OvR SVM models...\")\n",
    "            for cls in tqdm(self.classes, desc=\"OvR SVM Training\"):\n",
    "                y_binary = np.where(y == cls, 1, -1)\n",
    "                model = SVM(kernel=self.kernel_type, C=self.C, degree=self.degree, gamma=self.gamma)\n",
    "                model.fit(X, y_binary)\n",
    "                self.models[cls] = model\n",
    "        else:\n",
    "            y = y.astype(float)\n",
    "            n_samples, n_features = X.shape\n",
    "            self.X = X\n",
    "            self.y = y\n",
    "\n",
    "            if self.kernel_type == 'rbf':\n",
    "                self._gamma = self.gamma if self.gamma else 1 / n_features\n",
    "\n",
    "            # Gram matrix\n",
    "            K = np.zeros((n_samples, n_samples))\n",
    "            for i in range(n_samples):\n",
    "                for j in range(n_samples):\n",
    "                    K[i, j] = self._compute_kernel(X[i], X[j])\n",
    "\n",
    "            P = matrix(np.outer(y, y) * K)\n",
    "            q = matrix(-np.ones(n_samples))\n",
    "            A = matrix(y.reshape(1, -1))\n",
    "            b = matrix(0.0)\n",
    "\n",
    "            if self.C is None:\n",
    "                G = matrix(-np.eye(n_samples))\n",
    "                h = matrix(np.zeros(n_samples))\n",
    "            else:\n",
    "                G = matrix(np.vstack((-np.eye(n_samples), np.eye(n_samples))))\n",
    "                h = matrix(np.hstack((np.zeros(n_samples), np.ones(n_samples) * self.C)))\n",
    "\n",
    "            solvers.options['show_progress'] = False\n",
    "            solution = solvers.qp(P, q, G, h, A, b)\n",
    "            alphas = np.ravel(solution['x'])\n",
    "\n",
    "            # Support vectors\n",
    "            sv = alphas > 1e-5\n",
    "            self.alphas = alphas[sv]\n",
    "            self.support_vectors = X[sv]\n",
    "            self.support_vector_labels = y[sv]\n",
    "\n",
    "            # Intercept\n",
    "            self.b = np.mean([\n",
    "                y_k - np.sum(self.alphas * self.support_vector_labels *\n",
    "                             [self._compute_kernel(x_k, x_i) for x_i in self.support_vectors])\n",
    "                for (x_k, y_k) in zip(self.support_vectors, self.support_vector_labels)\n",
    "            ])\n",
    "\n",
    "    # Fungsi untuk menghitung nilai keputusan\n",
    "    def project(self, X):\n",
    "        if self.is_multiclass:\n",
    "            decision_values = np.column_stack([\n",
    "                model.project(X) for model in self.models.values()\n",
    "            ])\n",
    "            return decision_values\n",
    "        else:\n",
    "            y_predict = np.zeros(len(X))\n",
    "            for i in range(len(X)):\n",
    "                s = 0\n",
    "                for alpha, sv_y, sv in zip(self.alphas, self.support_vector_labels, self.support_vectors):\n",
    "                    s += alpha * sv_y * self._compute_kernel(X[i], sv)\n",
    "                y_predict[i] = s\n",
    "            return y_predict + self.b\n",
    "    \n",
    "    # Fungsi untuk menghitung probabilitas prediksi\n",
    "    def predict_proba(self, X):\n",
    "        if not self.is_multiclass:\n",
    "            raise NotImplementedError(\"predict_proba hanya didukung untuk mode multiclass OvR\")\n",
    "\n",
    "        decision = self.project(X)\n",
    "        # Softmax untuk setiap baris\n",
    "        exp_scores = np.exp(decision - np.max(decision, axis=1, keepdims=True))  # stabilisasi\n",
    "        probs = exp_scores / np.sum(exp_scores, axis=1, keepdims=True)\n",
    "        return probs\n",
    "\n",
    "    # Fungsi untuk melakukan prediksi\n",
    "    def predict(self, X):\n",
    "        if self.is_multiclass:\n",
    "            decision = self.project(X)\n",
    "            predictions = np.argmax(decision, axis=1)\n",
    "            return self.classes[predictions]\n",
    "        else:\n",
    "            return np.sign(self.project(X))"
   ]
  },
  {
   "cell_type": "markdown",
   "id": "beaafc4f",
   "metadata": {},
   "source": [
    "### **3.2. Train Test Split Data**"
   ]
  },
  {
   "cell_type": "code",
   "execution_count": 17,
   "id": "c6ba6a79",
   "metadata": {},
   "outputs": [
    {
     "name": "stdout",
     "output_type": "stream",
     "text": [
      "Total dataset: 3000 samples\n",
      "Training set: 2400 samples (80.0%)\n",
      "Test set: 600 samples (20.0%)\n",
      "\n",
      "Training Set:\n",
      "  ambulance: 800 samples (33.3%)\n",
      "  firetruck: 800 samples (33.3%)\n",
      "  traffic: 800 samples (33.3%)\n",
      "\n",
      "Test Set:\n",
      "  ambulance: 200 samples (33.3%)\n",
      "  firetruck: 200 samples (33.3%)\n",
      "  traffic: 200 samples (33.3%)\n",
      "\n",
      "Processed data shapes:\n",
      "X_train: (2400, 18)\n",
      "X_test: (600, 18)\n",
      "y_train: (2400,)\n",
      "y_test: (600,)\n",
      "\n",
      "Label mapping: {np.str_('ambulance'): 0, np.str_('firetruck'): 1, np.str_('traffic'): 2}\n"
     ]
    }
   ],
   "source": [
    "# Split data menjadi train (80%) dan test (20%)\n",
    "X_train_raw, X_test_raw, y_train_raw, y_test_raw = train_test_split(\n",
    "    X, y, test_size=0.2, random_state=42, stratify=y\n",
    ")\n",
    "\n",
    "print(f\"Total dataset: {X.shape[0]} samples\")\n",
    "print(f\"Training set: {X_train_raw.shape[0]} samples ({X_train_raw.shape[0]/X.shape[0]*100:.1f}%)\")\n",
    "print(f\"Test set: {X_test_raw.shape[0]} samples ({X_test_raw.shape[0]/X.shape[0]*100:.1f}%)\")\n",
    "\n",
    "# Cek distribusi kelas\n",
    "def print_class_distribution(y, set_name):\n",
    "    unique, counts = np.unique(y, return_counts=True)\n",
    "    print(f\"\\n{set_name}:\")\n",
    "    total = len(y)\n",
    "    for label, count in zip(unique, counts):\n",
    "        percentage = count / total * 100\n",
    "        print(f\"  {label}: {count} samples ({percentage:.1f}%)\")\n",
    "\n",
    "print_class_distribution(y_train_raw, \"Training Set\")\n",
    "print_class_distribution(y_test_raw, \"Test Set\")\n",
    "\n",
    "# Standardize features\n",
    "scaler = StandardScaler()\n",
    "X_train = scaler.fit_transform(X_train_raw)\n",
    "X_test = scaler.transform(X_test_raw)\n",
    "\n",
    "# Encode labels\n",
    "label_encoder = LabelEncoder()\n",
    "y_train = label_encoder.fit_transform(y_train_raw)\n",
    "y_test = label_encoder.transform(y_test_raw)\n",
    "\n",
    "print(f\"\\nProcessed data shapes:\")\n",
    "print(f\"X_train: {X_train.shape}\")\n",
    "print(f\"X_test: {X_test.shape}\")\n",
    "print(f\"y_train: {y_train.shape}\")\n",
    "print(f\"y_test: {y_test.shape}\")\n",
    "\n",
    "print(f\"\\nLabel mapping: {dict(zip(label_encoder.classes_, range(len(label_encoder.classes_))))}\")"
   ]
  },
  {
   "cell_type": "markdown",
   "id": "6e33b239",
   "metadata": {},
   "source": [
    "### **3.3. Grid Search Cross Validation**"
   ]
  },
  {
   "cell_type": "code",
   "execution_count": 18,
   "id": "fd4c6d58",
   "metadata": {},
   "outputs": [],
   "source": [
    "def grid_search_cv(X, y, param_grid, cv=5, scoring='accuracy', random_state=None):\n",
    "    def generate_combinations():\n",
    "        param_combinations = []\n",
    "        kernel_params = {\n",
    "            'linear': ['C'],\n",
    "            'poly': ['C', 'gamma', 'degree'],\n",
    "            'rbf': ['C', 'gamma']\n",
    "        }\n",
    "        \n",
    "        for kernel in param_grid['kernel']:\n",
    "            relevant_params = kernel_params[kernel]\n",
    "            base_combination = {'kernel': kernel}\n",
    "            \n",
    "            def add_params(param_idx=0, current_combination=None):\n",
    "                if current_combination is None:\n",
    "                    current_combination = base_combination.copy()\n",
    "                    \n",
    "                if param_idx == len(relevant_params):\n",
    "                    param_combinations.append(current_combination.copy())\n",
    "                    return\n",
    "                    \n",
    "                param_name = relevant_params[param_idx]\n",
    "                if param_name in param_grid:\n",
    "                    param_values = param_grid[param_name]\n",
    "                    for value in param_values:\n",
    "                        new_combination = current_combination.copy()\n",
    "                        new_combination[param_name] = value\n",
    "                        add_params(param_idx + 1, new_combination)\n",
    "                else:\n",
    "                    add_params(param_idx + 1, current_combination)\n",
    "                    \n",
    "            add_params()\n",
    "        return param_combinations\n",
    "    \n",
    "    def stratified_k_fold(X, y, k=5, random_state=None):\n",
    "        if random_state is not None:\n",
    "            np.random.seed(random_state)\n",
    "            \n",
    "        # Kelompokkan indeks berdasarkan label kelas\n",
    "        class_indices = defaultdict(list)\n",
    "        for idx, label in enumerate(y):\n",
    "            class_indices[label].append(idx)\n",
    "            \n",
    "        # Acakkan indeks dalam setiap kelas\n",
    "        for label in class_indices:\n",
    "            np.random.shuffle(class_indices[label])\n",
    "        \n",
    "        # Buat k lipatan kosong\n",
    "        folds = [[] for _ in range(k)]\n",
    "        \n",
    "        # Distribusikan sampel dari setiap kelas secara merata\n",
    "        for label, indices in class_indices.items():\n",
    "            fold_sizes = np.array([len(indices) // k] * k)\n",
    "            remainder = len(indices) % k\n",
    "            if remainder > 0:\n",
    "                fold_sizes[:remainder] += 1\n",
    "            \n",
    "            start_idx = 0\n",
    "            for fold_idx, size in enumerate(fold_sizes):\n",
    "                end_idx = start_idx + size\n",
    "                folds[fold_idx].extend(indices[start_idx:end_idx])\n",
    "                start_idx = end_idx\n",
    "                \n",
    "        return [np.array(fold) for fold in folds]\n",
    "    \n",
    "    def cross_validate_params(params, X, y, cv_folds):\n",
    "        fold_scores = []\n",
    "        \n",
    "        for i, val_indices in enumerate(cv_folds):\n",
    "            # Create train indices (semua fold kecuali fold validation saat ini)\n",
    "            train_indices = np.concatenate([\n",
    "                cv_folds[j] for j in range(len(cv_folds)) if j != i\n",
    "            ])\n",
    "            \n",
    "            # Split data training menjadi train dan validation untuk fold ini\n",
    "            X_train_fold, X_val_fold = X[train_indices], X[val_indices]\n",
    "            y_train_fold, y_val_fold = y[train_indices], y[val_indices]\n",
    "            \n",
    "            # Train model dengan parameter saat ini\n",
    "            model = SVM(**params)\n",
    "            model.fit(X_train_fold, y_train_fold)\n",
    "            \n",
    "            # Evaluate pada validation fold\n",
    "            y_pred = model.predict(X_val_fold)\n",
    "            if scoring == 'accuracy':\n",
    "                score = accuracy_score(y_val_fold, y_pred)\n",
    "            else:\n",
    "                raise ValueError(f\"Scoring '{scoring}' not implemented\")\n",
    "                \n",
    "            fold_scores.append(score)\n",
    "        \n",
    "        return np.array(fold_scores)\n",
    "    \n",
    "    # Generate parameter combinations\n",
    "    param_combinations = generate_combinations()\n",
    "    \n",
    "    # Prepare CV folds (hanya menggunakan training data)\n",
    "    cv_folds = stratified_k_fold(X, y, k=cv, random_state=random_state)\n",
    "    \n",
    "    # Convert to numpy arrays\n",
    "    X = np.array(X)\n",
    "    y = np.array(y)\n",
    "    \n",
    "    # Initialize results storage\n",
    "    best_score = -np.inf\n",
    "    best_params = None\n",
    "    cv_results = {\n",
    "        'params': [],\n",
    "        'mean_test_score': [],\n",
    "        'std_test_score': [],\n",
    "        'rank_test_score': [],\n",
    "        'split_scores': []\n",
    "    }\n",
    "    \n",
    "    print(f\"Fitting {cv} folds for each of {len(param_combinations)} candidates, \"\n",
    "          f\"totalling {cv * len(param_combinations)} fits\")\n",
    "    print(f\"Training data shape: {X.shape}\\n\\n\")\n",
    "    \n",
    "    # Evaluate setiap parameter combination\n",
    "    for i, params in enumerate(tqdm(param_combinations, desc=\"Grid Search CV\")):\n",
    "        print(f\"\\nEvaluating: {params}\")\n",
    "        \n",
    "        # Perform cross validation pada training data\n",
    "        fold_scores = cross_validate_params(params, X, y, cv_folds)\n",
    "        mean_score = np.mean(fold_scores)\n",
    "        std_score = np.std(fold_scores)\n",
    "        \n",
    "        print(f\"CV Scores: {fold_scores}\")\n",
    "        print(f\"Mean: {mean_score:.4f} (+/- {std_score * 2:.4f})\")\n",
    "        \n",
    "        # Store results\n",
    "        cv_results['params'].append(params)\n",
    "        cv_results['mean_test_score'].append(mean_score)\n",
    "        cv_results['std_test_score'].append(std_score)\n",
    "        cv_results['split_scores'].append(fold_scores)\n",
    "        \n",
    "        # Update best parameters\n",
    "        if mean_score > best_score:\n",
    "            best_score = mean_score\n",
    "            best_params = params\n",
    "            print(f\"★ New best score: {best_score:.4f}\")\n",
    "    \n",
    "    # Calculate ranking\n",
    "    scores_array = np.array(cv_results['mean_test_score'])\n",
    "    ranks = np.argsort(-scores_array) + 1  # Descending order, 1-indexed\n",
    "    cv_results['rank_test_score'] = [ranks[i] for i in range(len(ranks))]\n",
    "    \n",
    "    # Refit dengan best parameters pada seluruh training data\n",
    "    print(f\"\\nRefitting model with best parameters on full training set...\")\n",
    "    best_estimator = SVM(**best_params)\n",
    "    best_estimator.fit(X, y)\n",
    "    \n",
    "    print(\"\\nGRID SEARCH RESULTS\\n\")\n",
    "    print(f\"Best parameters: {best_params}\")\n",
    "    print(f\"Best cross-validation score: {best_score:.4f}\")\n",
    "    \n",
    "    # Show top 5 results\n",
    "    print(f\"\\nTop 5 parameter combinations:\")\n",
    "    sorted_indices = np.argsort(-scores_array)[:5]\n",
    "    for i, idx in enumerate(sorted_indices):\n",
    "        params = cv_results['params'][idx]\n",
    "        score = cv_results['mean_test_score'][idx]\n",
    "        std = cv_results['std_test_score'][idx]\n",
    "        print(f\"{i+1}. {params}\")\n",
    "        print(f\"   Score: {score:.4f} (+/- {std*2:.4f})\")\n",
    "    \n",
    "    return best_estimator, best_params, best_score, cv_results"
   ]
  },
  {
   "cell_type": "code",
   "execution_count": 20,
   "id": "48212065",
   "metadata": {},
   "outputs": [
    {
     "name": "stdout",
     "output_type": "stream",
     "text": [
      "GRID SEARCH CROSS VALIDATION\n",
      "\n",
      "Fitting 5 folds for each of 12 candidates, totalling 60 fits\n",
      "Training data shape: (2400, 18)\n",
      "\n",
      "\n"
     ]
    },
    {
     "name": "stderr",
     "output_type": "stream",
     "text": [
      "Grid Search CV:   0%|          | 0/12 [00:00<?, ?it/s]"
     ]
    },
    {
     "name": "stdout",
     "output_type": "stream",
     "text": [
      "\n",
      "Evaluating: {'kernel': 'linear', 'C': 0.1}\n",
      "Training 3 OvR SVM models...\n"
     ]
    },
    {
     "name": "stderr",
     "output_type": "stream",
     "text": [
      "OvR SVM Training: 100%|██████████| 3/3 [00:53<00:00, 17.79s/it]\n"
     ]
    },
    {
     "name": "stdout",
     "output_type": "stream",
     "text": [
      "Training 3 OvR SVM models...\n"
     ]
    },
    {
     "name": "stderr",
     "output_type": "stream",
     "text": [
      "OvR SVM Training: 100%|██████████| 3/3 [01:41<00:00, 33.92s/it]\n"
     ]
    },
    {
     "name": "stdout",
     "output_type": "stream",
     "text": [
      "Training 3 OvR SVM models...\n"
     ]
    },
    {
     "name": "stderr",
     "output_type": "stream",
     "text": [
      "OvR SVM Training: 100%|██████████| 3/3 [01:52<00:00, 37.61s/it]\n"
     ]
    },
    {
     "name": "stdout",
     "output_type": "stream",
     "text": [
      "Training 3 OvR SVM models...\n"
     ]
    },
    {
     "name": "stderr",
     "output_type": "stream",
     "text": [
      "OvR SVM Training: 100%|██████████| 3/3 [00:56<00:00, 18.77s/it]\n"
     ]
    },
    {
     "name": "stdout",
     "output_type": "stream",
     "text": [
      "Training 3 OvR SVM models...\n"
     ]
    },
    {
     "name": "stderr",
     "output_type": "stream",
     "text": [
      "OvR SVM Training: 100%|██████████| 3/3 [02:01<00:00, 40.65s/it]\n",
      "Grid Search CV:   8%|▊         | 1/12 [07:31<1:22:50, 451.87s/it]"
     ]
    },
    {
     "name": "stdout",
     "output_type": "stream",
     "text": [
      "CV Scores: [0.9625     0.93125    0.92291667 0.90625    0.91875   ]\n",
      "Mean: 0.9283 (+/- 0.0378)\n",
      "★ New best score: 0.9283\n",
      "\n",
      "Evaluating: {'kernel': 'linear', 'C': 1.0}\n",
      "Training 3 OvR SVM models...\n"
     ]
    },
    {
     "name": "stderr",
     "output_type": "stream",
     "text": [
      "OvR SVM Training: 100%|██████████| 3/3 [02:46<00:00, 55.52s/it]\n"
     ]
    },
    {
     "name": "stdout",
     "output_type": "stream",
     "text": [
      "Training 3 OvR SVM models...\n"
     ]
    },
    {
     "name": "stderr",
     "output_type": "stream",
     "text": [
      "OvR SVM Training: 100%|██████████| 3/3 [02:52<00:00, 57.41s/it]\n"
     ]
    },
    {
     "name": "stdout",
     "output_type": "stream",
     "text": [
      "Training 3 OvR SVM models...\n"
     ]
    },
    {
     "name": "stderr",
     "output_type": "stream",
     "text": [
      "OvR SVM Training: 100%|██████████| 3/3 [02:38<00:00, 52.93s/it]\n"
     ]
    },
    {
     "name": "stdout",
     "output_type": "stream",
     "text": [
      "Training 3 OvR SVM models...\n"
     ]
    },
    {
     "name": "stderr",
     "output_type": "stream",
     "text": [
      "OvR SVM Training: 100%|██████████| 3/3 [02:12<00:00, 44.25s/it]\n"
     ]
    },
    {
     "name": "stdout",
     "output_type": "stream",
     "text": [
      "Training 3 OvR SVM models...\n"
     ]
    },
    {
     "name": "stderr",
     "output_type": "stream",
     "text": [
      "OvR SVM Training: 100%|██████████| 3/3 [00:59<00:00, 19.93s/it]\n",
      "Grid Search CV:  17%|█▋        | 2/12 [19:07<1:39:15, 595.51s/it]"
     ]
    },
    {
     "name": "stdout",
     "output_type": "stream",
     "text": [
      "CV Scores: [0.95833333 0.93333333 0.93333333 0.92291667 0.93125   ]\n",
      "Mean: 0.9358 (+/- 0.0238)\n",
      "★ New best score: 0.9358\n",
      "\n",
      "Evaluating: {'kernel': 'linear', 'C': 10.0}\n",
      "Training 3 OvR SVM models...\n"
     ]
    },
    {
     "name": "stderr",
     "output_type": "stream",
     "text": [
      "OvR SVM Training: 100%|██████████| 3/3 [01:02<00:00, 20.82s/it]\n"
     ]
    },
    {
     "name": "stdout",
     "output_type": "stream",
     "text": [
      "Training 3 OvR SVM models...\n"
     ]
    },
    {
     "name": "stderr",
     "output_type": "stream",
     "text": [
      "OvR SVM Training: 100%|██████████| 3/3 [01:08<00:00, 22.84s/it]\n"
     ]
    },
    {
     "name": "stdout",
     "output_type": "stream",
     "text": [
      "Training 3 OvR SVM models...\n"
     ]
    },
    {
     "name": "stderr",
     "output_type": "stream",
     "text": [
      "OvR SVM Training: 100%|██████████| 3/3 [01:04<00:00, 21.37s/it]\n"
     ]
    },
    {
     "name": "stdout",
     "output_type": "stream",
     "text": [
      "Training 3 OvR SVM models...\n"
     ]
    },
    {
     "name": "stderr",
     "output_type": "stream",
     "text": [
      "OvR SVM Training: 100%|██████████| 3/3 [01:10<00:00, 23.46s/it]\n"
     ]
    },
    {
     "name": "stdout",
     "output_type": "stream",
     "text": [
      "Training 3 OvR SVM models...\n"
     ]
    },
    {
     "name": "stderr",
     "output_type": "stream",
     "text": [
      "OvR SVM Training: 100%|██████████| 3/3 [01:09<00:00, 23.12s/it]\n",
      "Grid Search CV:  25%|██▌       | 3/12 [24:45<1:11:38, 477.56s/it]"
     ]
    },
    {
     "name": "stdout",
     "output_type": "stream",
     "text": [
      "CV Scores: [0.96041667 0.93333333 0.93541667 0.92083333 0.93541667]\n",
      "Mean: 0.9371 (+/- 0.0257)\n",
      "★ New best score: 0.9371\n",
      "\n",
      "Evaluating: {'kernel': 'rbf', 'C': 0.1, 'gamma': 0.001}\n",
      "Training 3 OvR SVM models...\n"
     ]
    },
    {
     "name": "stderr",
     "output_type": "stream",
     "text": [
      "OvR SVM Training: 100%|██████████| 3/3 [01:40<00:00, 33.40s/it]\n"
     ]
    },
    {
     "name": "stdout",
     "output_type": "stream",
     "text": [
      "Training 3 OvR SVM models...\n"
     ]
    },
    {
     "name": "stderr",
     "output_type": "stream",
     "text": [
      "OvR SVM Training: 100%|██████████| 3/3 [02:11<00:00, 43.79s/it]\n"
     ]
    },
    {
     "name": "stdout",
     "output_type": "stream",
     "text": [
      "Training 3 OvR SVM models...\n"
     ]
    },
    {
     "name": "stderr",
     "output_type": "stream",
     "text": [
      "OvR SVM Training: 100%|██████████| 3/3 [03:05<00:00, 61.84s/it]\n"
     ]
    },
    {
     "name": "stdout",
     "output_type": "stream",
     "text": [
      "Training 3 OvR SVM models...\n"
     ]
    },
    {
     "name": "stderr",
     "output_type": "stream",
     "text": [
      "OvR SVM Training: 100%|██████████| 3/3 [01:40<00:00, 33.41s/it]\n"
     ]
    },
    {
     "name": "stdout",
     "output_type": "stream",
     "text": [
      "Training 3 OvR SVM models...\n"
     ]
    },
    {
     "name": "stderr",
     "output_type": "stream",
     "text": [
      "OvR SVM Training: 100%|██████████| 3/3 [02:25<00:00, 48.51s/it]\n",
      "Grid Search CV:  33%|███▎      | 4/12 [37:06<1:17:32, 581.54s/it]"
     ]
    },
    {
     "name": "stdout",
     "output_type": "stream",
     "text": [
      "CV Scores: [0.91041667 0.89583333 0.88333333 0.85833333 0.88541667]\n",
      "Mean: 0.8867 (+/- 0.0342)\n",
      "\n",
      "Evaluating: {'kernel': 'rbf', 'C': 0.1, 'gamma': 0.01}\n",
      "Training 3 OvR SVM models...\n"
     ]
    },
    {
     "name": "stderr",
     "output_type": "stream",
     "text": [
      "OvR SVM Training: 100%|██████████| 3/3 [01:59<00:00, 39.84s/it]\n"
     ]
    },
    {
     "name": "stdout",
     "output_type": "stream",
     "text": [
      "Training 3 OvR SVM models...\n"
     ]
    },
    {
     "name": "stderr",
     "output_type": "stream",
     "text": [
      "OvR SVM Training: 100%|██████████| 3/3 [01:17<00:00, 25.90s/it]\n"
     ]
    },
    {
     "name": "stdout",
     "output_type": "stream",
     "text": [
      "Training 3 OvR SVM models...\n"
     ]
    },
    {
     "name": "stderr",
     "output_type": "stream",
     "text": [
      "OvR SVM Training: 100%|██████████| 3/3 [01:18<00:00, 26.06s/it]\n"
     ]
    },
    {
     "name": "stdout",
     "output_type": "stream",
     "text": [
      "Training 3 OvR SVM models...\n"
     ]
    },
    {
     "name": "stderr",
     "output_type": "stream",
     "text": [
      "OvR SVM Training: 100%|██████████| 3/3 [01:16<00:00, 25.34s/it]\n"
     ]
    },
    {
     "name": "stdout",
     "output_type": "stream",
     "text": [
      "Training 3 OvR SVM models...\n"
     ]
    },
    {
     "name": "stderr",
     "output_type": "stream",
     "text": [
      "OvR SVM Training: 100%|██████████| 3/3 [01:22<00:00, 27.52s/it]\n",
      "Grid Search CV:  42%|████▏     | 5/12 [44:46<1:02:44, 537.77s/it]"
     ]
    },
    {
     "name": "stdout",
     "output_type": "stream",
     "text": [
      "CV Scores: [0.91875    0.91875    0.91666667 0.88333333 0.89791667]\n",
      "Mean: 0.9071 (+/- 0.0285)\n",
      "\n",
      "Evaluating: {'kernel': 'rbf', 'C': 0.1, 'gamma': 0.1}\n",
      "Training 3 OvR SVM models...\n"
     ]
    },
    {
     "name": "stderr",
     "output_type": "stream",
     "text": [
      "OvR SVM Training: 100%|██████████| 3/3 [01:31<00:00, 30.44s/it]\n"
     ]
    },
    {
     "name": "stdout",
     "output_type": "stream",
     "text": [
      "Training 3 OvR SVM models...\n"
     ]
    },
    {
     "name": "stderr",
     "output_type": "stream",
     "text": [
      "OvR SVM Training: 100%|██████████| 3/3 [01:19<00:00, 26.36s/it]\n"
     ]
    },
    {
     "name": "stdout",
     "output_type": "stream",
     "text": [
      "Training 3 OvR SVM models...\n"
     ]
    },
    {
     "name": "stderr",
     "output_type": "stream",
     "text": [
      "OvR SVM Training: 100%|██████████| 3/3 [01:16<00:00, 25.42s/it]\n"
     ]
    },
    {
     "name": "stdout",
     "output_type": "stream",
     "text": [
      "Training 3 OvR SVM models...\n"
     ]
    },
    {
     "name": "stderr",
     "output_type": "stream",
     "text": [
      "OvR SVM Training: 100%|██████████| 3/3 [01:14<00:00, 24.92s/it]\n"
     ]
    },
    {
     "name": "stdout",
     "output_type": "stream",
     "text": [
      "Training 3 OvR SVM models...\n"
     ]
    },
    {
     "name": "stderr",
     "output_type": "stream",
     "text": [
      "OvR SVM Training: 100%|██████████| 3/3 [01:14<00:00, 24.97s/it]\n",
      "Grid Search CV:  50%|█████     | 6/12 [51:40<49:33, 495.64s/it]  "
     ]
    },
    {
     "name": "stdout",
     "output_type": "stream",
     "text": [
      "CV Scores: [0.95416667 0.94791667 0.96458333 0.93541667 0.94583333]\n",
      "Mean: 0.9496 (+/- 0.0193)\n",
      "★ New best score: 0.9496\n",
      "\n",
      "Evaluating: {'kernel': 'rbf', 'C': 1.0, 'gamma': 0.001}\n",
      "Training 3 OvR SVM models...\n"
     ]
    },
    {
     "name": "stderr",
     "output_type": "stream",
     "text": [
      "OvR SVM Training: 100%|██████████| 3/3 [01:15<00:00, 25.14s/it]\n"
     ]
    },
    {
     "name": "stdout",
     "output_type": "stream",
     "text": [
      "Training 3 OvR SVM models...\n"
     ]
    },
    {
     "name": "stderr",
     "output_type": "stream",
     "text": [
      "OvR SVM Training: 100%|██████████| 3/3 [01:16<00:00, 25.39s/it]\n"
     ]
    },
    {
     "name": "stdout",
     "output_type": "stream",
     "text": [
      "Training 3 OvR SVM models...\n"
     ]
    },
    {
     "name": "stderr",
     "output_type": "stream",
     "text": [
      "OvR SVM Training: 100%|██████████| 3/3 [01:18<00:00, 26.04s/it]\n"
     ]
    },
    {
     "name": "stdout",
     "output_type": "stream",
     "text": [
      "Training 3 OvR SVM models...\n"
     ]
    },
    {
     "name": "stderr",
     "output_type": "stream",
     "text": [
      "OvR SVM Training: 100%|██████████| 3/3 [01:15<00:00, 25.29s/it]\n"
     ]
    },
    {
     "name": "stdout",
     "output_type": "stream",
     "text": [
      "Training 3 OvR SVM models...\n"
     ]
    },
    {
     "name": "stderr",
     "output_type": "stream",
     "text": [
      "OvR SVM Training: 100%|██████████| 3/3 [01:15<00:00, 25.18s/it]\n",
      "Grid Search CV:  58%|█████▊    | 7/12 [58:19<38:40, 464.11s/it]"
     ]
    },
    {
     "name": "stdout",
     "output_type": "stream",
     "text": [
      "CV Scores: [0.91041667 0.90208333 0.90416667 0.87291667 0.8875    ]\n",
      "Mean: 0.8954 (+/- 0.0271)\n",
      "\n",
      "Evaluating: {'kernel': 'rbf', 'C': 1.0, 'gamma': 0.01}\n",
      "Training 3 OvR SVM models...\n"
     ]
    },
    {
     "name": "stderr",
     "output_type": "stream",
     "text": [
      "OvR SVM Training: 100%|██████████| 3/3 [01:14<00:00, 24.83s/it]\n"
     ]
    },
    {
     "name": "stdout",
     "output_type": "stream",
     "text": [
      "Training 3 OvR SVM models...\n"
     ]
    },
    {
     "name": "stderr",
     "output_type": "stream",
     "text": [
      "OvR SVM Training: 100%|██████████| 3/3 [01:15<00:00, 25.19s/it]\n"
     ]
    },
    {
     "name": "stdout",
     "output_type": "stream",
     "text": [
      "Training 3 OvR SVM models...\n"
     ]
    },
    {
     "name": "stderr",
     "output_type": "stream",
     "text": [
      "OvR SVM Training: 100%|██████████| 3/3 [01:13<00:00, 24.40s/it]\n"
     ]
    },
    {
     "name": "stdout",
     "output_type": "stream",
     "text": [
      "Training 3 OvR SVM models...\n"
     ]
    },
    {
     "name": "stderr",
     "output_type": "stream",
     "text": [
      "OvR SVM Training: 100%|██████████| 3/3 [01:13<00:00, 24.63s/it]\n"
     ]
    },
    {
     "name": "stdout",
     "output_type": "stream",
     "text": [
      "Training 3 OvR SVM models...\n"
     ]
    },
    {
     "name": "stderr",
     "output_type": "stream",
     "text": [
      "OvR SVM Training: 100%|██████████| 3/3 [01:15<00:00, 25.31s/it]\n",
      "Grid Search CV:  67%|██████▋   | 8/12 [1:04:42<29:13, 438.46s/it]"
     ]
    },
    {
     "name": "stdout",
     "output_type": "stream",
     "text": [
      "CV Scores: [0.95416667 0.94166667 0.95       0.92083333 0.93333333]\n",
      "Mean: 0.9400 (+/- 0.0239)\n",
      "\n",
      "Evaluating: {'kernel': 'rbf', 'C': 1.0, 'gamma': 0.1}\n",
      "Training 3 OvR SVM models...\n"
     ]
    },
    {
     "name": "stderr",
     "output_type": "stream",
     "text": [
      "OvR SVM Training: 100%|██████████| 3/3 [01:11<00:00, 23.87s/it]\n"
     ]
    },
    {
     "name": "stdout",
     "output_type": "stream",
     "text": [
      "Training 3 OvR SVM models...\n"
     ]
    },
    {
     "name": "stderr",
     "output_type": "stream",
     "text": [
      "OvR SVM Training: 100%|██████████| 3/3 [01:13<00:00, 24.57s/it]\n"
     ]
    },
    {
     "name": "stdout",
     "output_type": "stream",
     "text": [
      "Training 3 OvR SVM models...\n"
     ]
    },
    {
     "name": "stderr",
     "output_type": "stream",
     "text": [
      "OvR SVM Training: 100%|██████████| 3/3 [01:15<00:00, 25.03s/it]\n"
     ]
    },
    {
     "name": "stdout",
     "output_type": "stream",
     "text": [
      "Training 3 OvR SVM models...\n"
     ]
    },
    {
     "name": "stderr",
     "output_type": "stream",
     "text": [
      "OvR SVM Training: 100%|██████████| 3/3 [01:11<00:00, 23.98s/it]\n"
     ]
    },
    {
     "name": "stdout",
     "output_type": "stream",
     "text": [
      "Training 3 OvR SVM models...\n"
     ]
    },
    {
     "name": "stderr",
     "output_type": "stream",
     "text": [
      "OvR SVM Training: 100%|██████████| 3/3 [01:15<00:00, 25.01s/it]\n",
      "Grid Search CV:  75%|███████▌  | 9/12 [1:11:00<20:58, 419.48s/it]"
     ]
    },
    {
     "name": "stdout",
     "output_type": "stream",
     "text": [
      "CV Scores: [0.98958333 0.975      0.98125    0.96041667 0.98541667]\n",
      "Mean: 0.9783 (+/- 0.0203)\n",
      "★ New best score: 0.9783\n",
      "\n",
      "Evaluating: {'kernel': 'rbf', 'C': 10.0, 'gamma': 0.001}\n",
      "Training 3 OvR SVM models...\n"
     ]
    },
    {
     "name": "stderr",
     "output_type": "stream",
     "text": [
      "OvR SVM Training: 100%|██████████| 3/3 [01:20<00:00, 26.85s/it]\n"
     ]
    },
    {
     "name": "stdout",
     "output_type": "stream",
     "text": [
      "Training 3 OvR SVM models...\n"
     ]
    },
    {
     "name": "stderr",
     "output_type": "stream",
     "text": [
      "OvR SVM Training: 100%|██████████| 3/3 [01:21<00:00, 27.12s/it]\n"
     ]
    },
    {
     "name": "stdout",
     "output_type": "stream",
     "text": [
      "Training 3 OvR SVM models...\n"
     ]
    },
    {
     "name": "stderr",
     "output_type": "stream",
     "text": [
      "OvR SVM Training: 100%|██████████| 3/3 [01:18<00:00, 26.17s/it]\n"
     ]
    },
    {
     "name": "stdout",
     "output_type": "stream",
     "text": [
      "Training 3 OvR SVM models...\n"
     ]
    },
    {
     "name": "stderr",
     "output_type": "stream",
     "text": [
      "OvR SVM Training: 100%|██████████| 3/3 [01:21<00:00, 27.32s/it]\n"
     ]
    },
    {
     "name": "stdout",
     "output_type": "stream",
     "text": [
      "Training 3 OvR SVM models...\n"
     ]
    },
    {
     "name": "stderr",
     "output_type": "stream",
     "text": [
      "OvR SVM Training: 100%|██████████| 3/3 [01:22<00:00, 27.38s/it]\n",
      "Grid Search CV:  83%|████████▎ | 10/12 [1:17:56<13:56, 418.38s/it]"
     ]
    },
    {
     "name": "stdout",
     "output_type": "stream",
     "text": [
      "CV Scores: [0.94166667 0.93333333 0.92708333 0.90833333 0.9125    ]\n",
      "Mean: 0.9246 (+/- 0.0251)\n",
      "\n",
      "Evaluating: {'kernel': 'rbf', 'C': 10.0, 'gamma': 0.01}\n",
      "Training 3 OvR SVM models...\n"
     ]
    },
    {
     "name": "stderr",
     "output_type": "stream",
     "text": [
      "OvR SVM Training: 100%|██████████| 3/3 [01:19<00:00, 26.42s/it]\n"
     ]
    },
    {
     "name": "stdout",
     "output_type": "stream",
     "text": [
      "Training 3 OvR SVM models...\n"
     ]
    },
    {
     "name": "stderr",
     "output_type": "stream",
     "text": [
      "OvR SVM Training: 100%|██████████| 3/3 [01:19<00:00, 26.58s/it]\n"
     ]
    },
    {
     "name": "stdout",
     "output_type": "stream",
     "text": [
      "Training 3 OvR SVM models...\n"
     ]
    },
    {
     "name": "stderr",
     "output_type": "stream",
     "text": [
      "OvR SVM Training: 100%|██████████| 3/3 [01:20<00:00, 26.95s/it]\n"
     ]
    },
    {
     "name": "stdout",
     "output_type": "stream",
     "text": [
      "Training 3 OvR SVM models...\n"
     ]
    },
    {
     "name": "stderr",
     "output_type": "stream",
     "text": [
      "OvR SVM Training: 100%|██████████| 3/3 [01:19<00:00, 26.40s/it]\n"
     ]
    },
    {
     "name": "stdout",
     "output_type": "stream",
     "text": [
      "Training 3 OvR SVM models...\n"
     ]
    },
    {
     "name": "stderr",
     "output_type": "stream",
     "text": [
      "OvR SVM Training: 100%|██████████| 3/3 [01:23<00:00, 27.85s/it]\n",
      "Grid Search CV:  92%|█████████▏| 11/12 [1:24:45<06:55, 415.62s/it]"
     ]
    },
    {
     "name": "stdout",
     "output_type": "stream",
     "text": [
      "CV Scores: [0.97291667 0.96875    0.975      0.95833333 0.97708333]\n",
      "Mean: 0.9704 (+/- 0.0133)\n",
      "\n",
      "Evaluating: {'kernel': 'rbf', 'C': 10.0, 'gamma': 0.1}\n",
      "Training 3 OvR SVM models...\n"
     ]
    },
    {
     "name": "stderr",
     "output_type": "stream",
     "text": [
      "OvR SVM Training: 100%|██████████| 3/3 [01:13<00:00, 24.46s/it]\n"
     ]
    },
    {
     "name": "stdout",
     "output_type": "stream",
     "text": [
      "Training 3 OvR SVM models...\n"
     ]
    },
    {
     "name": "stderr",
     "output_type": "stream",
     "text": [
      "OvR SVM Training: 100%|██████████| 3/3 [01:14<00:00, 24.98s/it]\n"
     ]
    },
    {
     "name": "stdout",
     "output_type": "stream",
     "text": [
      "Training 3 OvR SVM models...\n"
     ]
    },
    {
     "name": "stderr",
     "output_type": "stream",
     "text": [
      "OvR SVM Training: 100%|██████████| 3/3 [01:13<00:00, 24.54s/it]\n"
     ]
    },
    {
     "name": "stdout",
     "output_type": "stream",
     "text": [
      "Training 3 OvR SVM models...\n"
     ]
    },
    {
     "name": "stderr",
     "output_type": "stream",
     "text": [
      "OvR SVM Training: 100%|██████████| 3/3 [01:13<00:00, 24.55s/it]\n"
     ]
    },
    {
     "name": "stdout",
     "output_type": "stream",
     "text": [
      "Training 3 OvR SVM models...\n"
     ]
    },
    {
     "name": "stderr",
     "output_type": "stream",
     "text": [
      "OvR SVM Training: 100%|██████████| 3/3 [01:12<00:00, 24.09s/it]\n",
      "Grid Search CV: 100%|██████████| 12/12 [1:31:01<00:00, 455.16s/it]\n"
     ]
    },
    {
     "name": "stdout",
     "output_type": "stream",
     "text": [
      "CV Scores: [0.99375    0.99375    0.99166667 0.97083333 0.99583333]\n",
      "Mean: 0.9892 (+/- 0.0185)\n",
      "★ New best score: 0.9892\n",
      "\n",
      "Refitting model with best parameters on full training set...\n",
      "Training 3 OvR SVM models...\n"
     ]
    },
    {
     "name": "stderr",
     "output_type": "stream",
     "text": [
      "OvR SVM Training: 100%|██████████| 3/3 [02:04<00:00, 41.50s/it]\n"
     ]
    },
    {
     "name": "stdout",
     "output_type": "stream",
     "text": [
      "\n",
      "GRID SEARCH RESULTS\n",
      "\n",
      "Best parameters: {'kernel': 'rbf', 'C': 10.0, 'gamma': 0.1}\n",
      "Best cross-validation score: 0.9892\n",
      "\n",
      "Top 5 parameter combinations:\n",
      "1. {'kernel': 'rbf', 'C': 10.0, 'gamma': 0.1}\n",
      "   Score: 0.9892 (+/- 0.0185)\n",
      "2. {'kernel': 'rbf', 'C': 1.0, 'gamma': 0.1}\n",
      "   Score: 0.9783 (+/- 0.0203)\n",
      "3. {'kernel': 'rbf', 'C': 10.0, 'gamma': 0.01}\n",
      "   Score: 0.9704 (+/- 0.0133)\n",
      "4. {'kernel': 'rbf', 'C': 0.1, 'gamma': 0.1}\n",
      "   Score: 0.9496 (+/- 0.0193)\n",
      "5. {'kernel': 'rbf', 'C': 1.0, 'gamma': 0.01}\n",
      "   Score: 0.9400 (+/- 0.0239)\n",
      "\n",
      "FINAL EVALUATION ON TEST SET\n",
      "\n",
      "Best CV score (on training data): 0.9892\n",
      "Test score (on unseen data): 0.9983\n",
      "CV vs Test gap: -0.0092\n",
      "✅ Good model generalization - similar CV and test performance\n",
      "\n",
      "Best Parameters: {'kernel': 'rbf', 'C': 10.0, 'gamma': 0.1}\n",
      "Best CV Score: 0.9892\n",
      "Test Score: 0.9983\n"
     ]
    }
   ],
   "source": [
    "# Jalankan Grid Search CV (seperti sklearn)\n",
    "param_grid = {\n",
    "    'kernel': ['linear', 'rbf'],\n",
    "    'C': [0.1, 1.0, 10.0],\n",
    "    'gamma': [0.001, 0.01, 0.1],\n",
    "}\n",
    "\n",
    "print(\"GRID SEARCH CROSS VALIDATION\\n\")\n",
    "\n",
    "# Grid search hanya menggunakan training data\n",
    "best_model, best_params, best_cv_score, cv_results = grid_search_cv(\n",
    "    X_train, y_train, param_grid, cv=5, random_state=42\n",
    ")\n",
    "\n",
    "# Evaluasi final pada test set (data yang benar-benar unseen)\n",
    "print(\"\\nFINAL EVALUATION ON TEST SET\\n\")\n",
    "\n",
    "y_test_pred = best_model.predict(X_test)\n",
    "test_score = accuracy_score(y_test, y_test_pred)\n",
    "\n",
    "print(f\"Best CV score (on training data): {best_cv_score:.4f}\")\n",
    "print(f\"Test score (on unseen data): {test_score:.4f}\")\n",
    "\n",
    "# Performance analysis\n",
    "cv_test_gap = best_cv_score - test_score\n",
    "print(f\"CV vs Test gap: {cv_test_gap:.4f}\")\n",
    "\n",
    "if cv_test_gap > 0.05:\n",
    "    print(\"⚠️  Warning: Large gap between CV and test scores may indicate overfitting\")\n",
    "elif cv_test_gap < -0.02:\n",
    "    print(\"⚠️  Note: Test score higher than CV score - good generalization\")\n",
    "else:\n",
    "    print(\"✅ Good model generalization - similar CV and test performance\")\n",
    "\n",
    "print(f\"\\nBest Parameters: {best_params}\")\n",
    "print(f\"Best CV Score: {best_cv_score:.4f}\")\n",
    "print(f\"Test Score: {test_score:.4f}\")"
   ]
  },
  {
   "cell_type": "markdown",
   "id": "c253938a",
   "metadata": {},
   "source": [
    "# **4. Evaluate Model**"
   ]
  },
  {
   "cell_type": "markdown",
   "id": "d514bc66",
   "metadata": {},
   "source": [
    "### **4.1. Labels Prediction**"
   ]
  },
  {
   "cell_type": "code",
   "execution_count": 21,
   "id": "6a6381db",
   "metadata": {},
   "outputs": [
    {
     "name": "stdout",
     "output_type": "stream",
     "text": [
      "Training 3 OvR SVM models...\n"
     ]
    },
    {
     "name": "stderr",
     "output_type": "stream",
     "text": [
      "OvR SVM Training: 100%|██████████| 3/3 [03:42<00:00, 74.05s/it] \n"
     ]
    }
   ],
   "source": [
    "best_model = SVM(**best_params)\n",
    "best_model.fit(X_train, y_train)"
   ]
  },
  {
   "cell_type": "code",
   "execution_count": 22,
   "id": "1fd34b66",
   "metadata": {},
   "outputs": [
    {
     "name": "stdout",
     "output_type": "stream",
     "text": [
      "Accuracy: 99.83%\n"
     ]
    }
   ],
   "source": [
    "y_pred = best_model.predict(X_test)\n",
    "acc = accuracy_score(y_test, y_pred)\n",
    "print(f\"Accuracy: {acc*100:.2f}%\")"
   ]
  },
  {
   "cell_type": "markdown",
   "id": "d05524a1",
   "metadata": {},
   "source": [
    "### **4.2. Metrics Evaluation**"
   ]
  },
  {
   "cell_type": "code",
   "execution_count": 23,
   "id": "328e419a",
   "metadata": {},
   "outputs": [
    {
     "name": "stdout",
     "output_type": "stream",
     "text": [
      "DETAILED EVALUATION\n",
      "\n",
      "Test Set Classification Report:\n",
      "              precision    recall  f1-score   support\n",
      "\n",
      "   ambulance       1.00      0.99      1.00       200\n",
      "   firetruck       1.00      1.00      1.00       200\n",
      "     traffic       1.00      1.00      1.00       200\n",
      "\n",
      "    accuracy                           1.00       600\n",
      "   macro avg       1.00      1.00      1.00       600\n",
      "weighted avg       1.00      1.00      1.00       600\n",
      "\n"
     ]
    },
    {
     "data": {
      "image/png": "[encoded data removed]",
      "text/plain": [
       "<Figure size 800x600 with 2 Axes>"
      ]
     },
     "metadata": {},
     "output_type": "display_data"
    },
    {
     "name": "stdout",
     "output_type": "stream",
     "text": [
      "SUMMARY\n",
      "\n",
      "Total samples: 3000\n",
      "Training samples: 2400\n",
      "Test samples: 600\n",
      "Features: 18\n",
      "Classes: 3 (ambulance, firetruck, traffic)\n"
     ]
    }
   ],
   "source": [
    "print(\"DETAILED EVALUATION\\n\")\n",
    "\n",
    "print(\"Test Set Classification Report:\")\n",
    "print(classification_report(y_test, y_pred, target_names=label_encoder.classes_))\n",
    "\n",
    "# Confusion matrix\n",
    "cm = confusion_matrix(y_test, y_pred)\n",
    "plt.figure(figsize=(8, 6))\n",
    "sns.heatmap(cm, annot=True, fmt='d', cmap='Blues', \n",
    "           xticklabels=label_encoder.classes_, yticklabels=label_encoder.classes_)\n",
    "plt.title('Confusion Matrix - SVM (Test Set)')\n",
    "plt.xlabel('Predicted Label')\n",
    "plt.ylabel('True Label')\n",
    "plt.tight_layout()\n",
    "plt.show()\n",
    "\n",
    "# Summary\n",
    "print(\"SUMMARY\\n\")\n",
    "print(f\"Total samples: {X.shape[0]}\")\n",
    "print(f\"Training samples: {X_train.shape[0]}\")\n",
    "print(f\"Test samples: {X_test.shape[0]}\")\n",
    "print(f\"Features: {X_train.shape[1]}\")\n",
    "print(f\"Classes: {len(label_encoder.classes_)} ({', '.join(label_encoder.classes_)})\")"
   ]
  },
  {
   "cell_type": "markdown",
   "id": "6675d7ea",
   "metadata": {},
   "source": [
    "# **5. Export Model**"
   ]
  },
  {
   "cell_type": "code",
   "execution_count": 24,
   "id": "e2aa3487",
   "metadata": {},
   "outputs": [],
   "source": [
    "with open(\"svm_model.pkl\", \"wb\") as f:\n",
    "    pickle.dump(best_model, f)"
   ]
  },
  {
   "cell_type": "code",
   "execution_count": 25,
   "id": "2aee7eb7",
   "metadata": {},
   "outputs": [],
   "source": [
    "with open(\"svm_scaler.pkl\", \"wb\") as f:\n",
    "    pickle.dump(scaler, f)"
   ]
  },
  {
   "cell_type": "code",
   "execution_count": 26,
   "id": "1d3d11f0",
   "metadata": {},
   "outputs": [],
   "source": [
    "with open(\"svm_encoder.pkl\", \"wb\") as f:\n",
    "    pickle.dump(label_encoder, f)"
   ]
  }
 ],
 "metadata": {
  "kernelspec": {
   "display_name": ".venv",
   "language": "python",
   "name": "python3"
  },
  "language_info": {
   "codemirror_mode": {
    "name": "ipython",
    "version": 3
   },
   "file_extension": ".py",
   "mimetype": "text/x-python",
   "name": "python",
   "nbconvert_exporter": "python",
   "pygments_lexer": "ipython3",
   "version": "3.12.4"
  }
 },
 "nbformat": 4,
 "nbformat_minor": 5
}
