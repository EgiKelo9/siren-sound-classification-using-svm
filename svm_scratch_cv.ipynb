{
 "cells": [
  {
   "cell_type": "markdown",
   "id": "b82f0237",
   "metadata": {},
   "source": [
    "# **0. Import Library**"
   ]
  },
  {
   "cell_type": "code",
   "execution_count": 1,
   "id": "57529c16",
   "metadata": {},
   "outputs": [],
   "source": [
    "import os\n",
    "import numpy as np\n",
    "import pandas as pd\n",
    "import scipy.fftpack\n",
    "import seaborn as sns\n",
    "import cloudpickle as pickle\n",
    "import matplotlib.pyplot as plt\n",
    "from tqdm import tqdm\n",
    "from scipy.io import wavfile\n",
    "from cvxopt import matrix, solvers\n",
    "from collections import Counter, defaultdict\n",
    "from sklearn.model_selection import train_test_split\n",
    "from sklearn.preprocessing import LabelEncoder, StandardScaler\n",
    "from sklearn.metrics import classification_report, confusion_matrix, accuracy_score"
   ]
  },
  {
   "cell_type": "markdown",
   "id": "883a001f",
   "metadata": {},
   "source": [
    "# **1. Data Preprocessing**"
   ]
  },
  {
   "cell_type": "markdown",
   "id": "f22436df",
   "metadata": {},
   "source": [
    "### **1.1. Set Important Variables**"
   ]
  },
  {
   "cell_type": "code",
   "execution_count": 2,
   "id": "8daabf2c",
   "metadata": {},
   "outputs": [],
   "source": [
    "base_path = './sounds/'\n",
    "categories = ['ambulance', 'firetruck', 'traffic']\n",
    "data_path = []\n",
    "labels = []"
   ]
  },
  {
   "cell_type": "markdown",
   "id": "4ff43cda",
   "metadata": {},
   "source": [
    "### **1.2. Load Dataset**"
   ]
  },
  {
   "cell_type": "code",
   "execution_count": 3,
   "id": "3173d2c8",
   "metadata": {},
   "outputs": [],
   "source": [
    "for category in categories:\n",
    "    folder_path = f'sounds/{category}'\n",
    "    for file_name in os.listdir(folder_path):\n",
    "        if file_name.endswith('.wav'):\n",
    "            file_path = os.path.join(folder_path, file_name)\n",
    "            data_path.append(file_path)\n",
    "            labels.append(category)"
   ]
  },
  {
   "cell_type": "code",
   "execution_count": 4,
   "id": "1aa50da5",
   "metadata": {},
   "outputs": [
    {
     "name": "stdout",
     "output_type": "stream",
     "text": [
      "Number of labels: 600\n",
      "Unique labels: {'traffic', 'firetruck', 'ambulance'}\n",
      "Number of each label: {'ambulance': 200, 'firetruck': 200, 'traffic': 200}\n"
     ]
    }
   ],
   "source": [
    "print(f\"Number of labels: {len(labels)}\")\n",
    "print(f\"Unique labels: {set(labels)}\")\n",
    "label_counts = Counter(labels)\n",
    "print(f\"Number of each label: {dict(label_counts)}\")"
   ]
  },
  {
   "cell_type": "markdown",
   "id": "052e79cc",
   "metadata": {},
   "source": [
    "### **1.3. Data Augmentation**"
   ]
  },
  {
   "cell_type": "code",
   "execution_count": 5,
   "id": "2406d09c",
   "metadata": {},
   "outputs": [],
   "source": [
    "def add_noise(signal, noise_level=0.005):\n",
    "    noise = np.random.randn(len(signal))\n",
    "    augmented = signal + noise_level * noise\n",
    "    return augmented.astype(np.float32)\n",
    "\n",
    "def time_stretch(signal, stretch_factor=1.1):\n",
    "    indices = np.arange(0, len(signal), stretch_factor)\n",
    "    indices = indices[indices < len(signal)].astype(int)\n",
    "    return signal[indices]\n",
    "\n",
    "def pitch_shift(signal, sr, n_steps=2):\n",
    "    factor = 2 ** (n_steps / 12)\n",
    "    resampled = scipy.signal.resample(signal, int(len(signal) / factor))\n",
    "    if len(resampled) < len(signal):\n",
    "        pad_width = len(signal) - len(resampled)\n",
    "        resampled = np.pad(resampled, (0, pad_width), mode='constant')\n",
    "    else:\n",
    "        resampled = resampled[:len(signal)]\n",
    "    return resampled.astype(np.float32)\n",
    "\n",
    "def volume_perturb(signal, gain=1.2):\n",
    "    return (signal * gain).astype(np.float32)\n",
    "\n",
    "def fix_len(sig, target_len):\n",
    "    if len(sig) < target_len:\n",
    "        return np.pad(sig, (0, target_len - len(sig)), mode='constant')\n",
    "    else:\n",
    "        return sig[:target_len]"
   ]
  },
  {
   "cell_type": "code",
   "execution_count": 6,
   "id": "fa4b7072",
   "metadata": {},
   "outputs": [],
   "source": [
    "def augment_audio(signal, sr):\n",
    "    aug1 = signal\n",
    "    aug2 = add_noise(signal)\n",
    "    aug3 = time_stretch(signal, 1.1)\n",
    "    aug4 = pitch_shift(signal, sr, n_steps=2)\n",
    "    aug5 = volume_perturb(signal, gain=0.8)\n",
    "\n",
    "    original_len = len(signal)\n",
    "    all_signals = [fix_len(s, original_len) for s in [aug1, aug2, aug3, aug4, aug5]]\n",
    "    return all_signals"
   ]
  },
  {
   "cell_type": "code",
   "execution_count": 7,
   "id": "357c3d62",
   "metadata": {},
   "outputs": [],
   "source": [
    "def load_audio(filepath):\n",
    "    sr, data = wavfile.read(filepath)\n",
    "    if len(data.shape) > 1:\n",
    "        data = data[:, 0]\n",
    "    data = data.astype(np.float32)\n",
    "    return sr, data"
   ]
  },
  {
   "cell_type": "code",
   "execution_count": 8,
   "id": "90506174",
   "metadata": {},
   "outputs": [],
   "source": [
    "def augment_signal(filepath):\n",
    "    sr, signal = load_audio(filepath)\n",
    "    augmented_signals = augment_audio(signal, sr)\n",
    "    sr_signal_pair = []\n",
    "    for aug_signal in augmented_signals:\n",
    "        sr_signal_pair.append((sr, aug_signal))\n",
    "    return sr_signal_pair"
   ]
  },
  {
   "cell_type": "code",
   "execution_count": 9,
   "id": "b09fc85a",
   "metadata": {},
   "outputs": [
    {
     "name": "stderr",
     "output_type": "stream",
     "text": [
      "Augmenting audio files: 100%|██████████| 600/600 [00:16<00:00, 35.30it/s]"
     ]
    },
    {
     "name": "stdout",
     "output_type": "stream",
     "text": [
      "Total augmented samples: 3000\n",
      "      sample_rate                                             signal  \\\n",
      "0           44100  [0.0, 0.0, 0.0, 0.0, 0.0, 0.0, 0.0, 0.0, 0.0, ...   \n",
      "1           44100  [0.0010738333, 0.00021466939, 0.012021801, -0....   \n",
      "2           44100  [0.0, 0.0, 0.0, 0.0, 0.0, 0.0, 0.0, 0.0, 0.0, ...   \n",
      "3           44100  [14.3213005, -4.9273396, 2.7958882, -1.9206804...   \n",
      "4           44100  [0.0, 0.0, 0.0, 0.0, 0.0, 0.0, 0.0, 0.0, 0.0, ...   \n",
      "...           ...                                                ...   \n",
      "2995        44100  [-1113.0, -858.0, -563.0, -230.0, 98.0, 357.0,...   \n",
      "2996        44100  [-1112.9976, -857.9981, -563.0019, -230.0037, ...   \n",
      "2997        44100  [-1113.0, -858.0, -563.0, -230.0, 98.0, 357.0,...   \n",
      "2998        44100  [-1075.7485, -837.7126, -476.45578, -110.32513...   \n",
      "2999        44100  [-890.4, -686.4, -450.4, -184.0, 78.4, 285.6, ...   \n",
      "\n",
      "          label  \n",
      "0     ambulance  \n",
      "1     ambulance  \n",
      "2     ambulance  \n",
      "3     ambulance  \n",
      "4     ambulance  \n",
      "...         ...  \n",
      "2995    traffic  \n",
      "2996    traffic  \n",
      "2997    traffic  \n",
      "2998    traffic  \n",
      "2999    traffic  \n",
      "\n",
      "[3000 rows x 3 columns]\n"
     ]
    },
    {
     "name": "stderr",
     "output_type": "stream",
     "text": [
      "\n"
     ]
    }
   ],
   "source": [
    "augmented_data = []\n",
    "for file_path in tqdm(data_path, desc=\"Augmenting audio files\"):\n",
    "    augmented_data.extend(augment_signal(file_path))\n",
    "print(f\"Total augmented samples: {len(augmented_data)}\")\n",
    "\n",
    "augmented_df = pd.DataFrame(augmented_data, columns=['sample_rate', 'signal'])\n",
    "augmented_df['label'] = np.repeat(labels, 5)\n",
    "print(augmented_df)"
   ]
  },
  {
   "cell_type": "markdown",
   "id": "a0562de8",
   "metadata": {},
   "source": [
    "# **2. Feature Extraction**"
   ]
  },
  {
   "cell_type": "markdown",
   "id": "ad12a090",
   "metadata": {},
   "source": [
    "### **2.1. Time Domain**"
   ]
  },
  {
   "cell_type": "code",
   "execution_count": null,
   "id": "d4d65e18",
   "metadata": {},
   "outputs": [],
   "source": [
    "def time_domain_features(signal):\n",
    "    zcr = np.mean(np.abs(np.diff(np.sign(signal)))) / 2\n",
    "    rms = np.sqrt(np.mean(signal**2))\n",
    "    return zcr, rms"
   ]
  },
  {
   "cell_type": "markdown",
   "id": "04b25fbc",
   "metadata": {},
   "source": [
    "### **2.2. Domain Frekuensi**"
   ]
  },
  {
   "cell_type": "code",
   "execution_count": null,
   "id": "34029ff0",
   "metadata": {},
   "outputs": [],
   "source": [
    "def frequency_domain_features(signal, sr):\n",
    "    N = len(signal)\n",
    "    fft = np.fft.rfft(signal)\n",
    "    mag = np.abs(fft)\n",
    "    freqs = np.fft.rfftfreq(N, d=1/sr)\n",
    "\n",
    "    spec_centroid = np.sum(freqs * mag) / np.sum(mag)\n",
    "    spec_bandwidth = np.sqrt(np.sum(((freqs - spec_centroid)**2) * mag) / np.sum(mag))\n",
    "    rolloff_thresh = 0.85 * np.sum(mag)\n",
    "    rolloff_freq = freqs[np.where(np.cumsum(mag) >= rolloff_thresh)[0][0]]\n",
    "\n",
    "    return spec_centroid, spec_bandwidth, rolloff_freq"
   ]
  },
  {
   "cell_type": "markdown",
   "id": "491e1686",
   "metadata": {},
   "source": [
    "### **2.3. MFCC Feature**"
   ]
  },
  {
   "cell_type": "code",
   "execution_count": 12,
   "id": "50564fb4",
   "metadata": {},
   "outputs": [],
   "source": [
    "def hz_to_mel(hz): return 2595 * np.log10(1 + hz / 700.0)\n",
    "def mel_to_hz(mel): return 700 * (10**(mel / 2595.0) - 1)\n",
    "\n",
    "def mfcc(signal, sr, n_mfcc=13, n_filters=26, n_fft=512):\n",
    "    # 1. Framing\n",
    "    frame_len = int(0.025 * sr)\n",
    "    frame_step = int(0.010 * sr)\n",
    "    signal_len = len(signal)\n",
    "    num_frames = int(np.ceil(float(np.abs(signal_len - frame_len)) / frame_step)) + 1\n",
    "\n",
    "    pad_len = num_frames * frame_step + frame_len\n",
    "    z = np.zeros((pad_len - signal_len))\n",
    "    pad_signal = np.append(signal, z)\n",
    "\n",
    "    indices = np.tile(np.arange(0, frame_len), (num_frames, 1)) + \\\n",
    "              np.tile(np.arange(0, num_frames * frame_step, frame_step), (frame_len, 1)).T\n",
    "    frames = pad_signal[indices.astype(np.int32, copy=False)]\n",
    "\n",
    "    # 2. Windowing\n",
    "    frames *= np.hamming(frame_len)\n",
    "\n",
    "    # 3. FFT and power spectrum\n",
    "    mag_frames = np.absolute(np.fft.rfft(frames, n_fft))\n",
    "    pow_frames = ((1.0 / n_fft) * (mag_frames ** 2))\n",
    "\n",
    "    # 4. Mel filterbank\n",
    "    low_mel = hz_to_mel(0)\n",
    "    high_mel = hz_to_mel(sr / 2)\n",
    "    mel_points = np.linspace(low_mel, high_mel, n_filters + 2)\n",
    "    hz_points = mel_to_hz(mel_points)\n",
    "    bin = np.floor((n_fft + 1) * hz_points / sr).astype(int)\n",
    "\n",
    "    fbank = np.zeros((n_filters, int(n_fft / 2 + 1)))\n",
    "    for m in range(1, n_filters + 1):\n",
    "        f_m_minus, f_m, f_m_plus = bin[m - 1], bin[m], bin[m + 1]\n",
    "        for k in range(f_m_minus, f_m):\n",
    "            fbank[m - 1, k] = (k - bin[m - 1]) / (bin[m] - bin[m - 1])\n",
    "        for k in range(f_m, f_m_plus):\n",
    "            fbank[m - 1, k] = (bin[m + 1] - k) / (bin[m + 1] - bin[m])\n",
    "\n",
    "    filter_banks = np.dot(pow_frames, fbank.T)\n",
    "    filter_banks = np.where(filter_banks == 0, np.finfo(float).eps, filter_banks)\n",
    "    log_fbanks = np.log(filter_banks)\n",
    "\n",
    "    # 5. DCT\n",
    "    mfccs = scipy.fftpack.dct(log_fbanks, type=2, axis=1, norm='ortho')[:, :n_mfcc]\n",
    "    return np.mean(mfccs, axis=0)\n"
   ]
  },
  {
   "cell_type": "markdown",
   "id": "939bee18",
   "metadata": {},
   "source": [
    "### **2.4. Extract Features From Data**"
   ]
  },
  {
   "cell_type": "code",
   "execution_count": null,
   "id": "7113fb61",
   "metadata": {},
   "outputs": [],
   "source": [
    "def extract_all_features(sr, signal):\n",
    "    zcr, rms = time_domain_features(signal)\n",
    "    centroid, bandwidth, rolloff = frequency_domain_features(signal, sr)\n",
    "    mfccs = mfcc(signal, sr)\n",
    "    return np.array([zcr, rms, centroid, bandwidth, rolloff] + mfccs.tolist())"
   ]
  },
  {
   "cell_type": "code",
   "execution_count": 14,
   "id": "0adb633c",
   "metadata": {},
   "outputs": [
    {
     "name": "stderr",
     "output_type": "stream",
     "text": [
      "Extracting features: 100%|██████████| 3000/3000 [01:28<00:00, 33.99it/s]\n"
     ]
    }
   ],
   "source": [
    "extracted_data = []\n",
    "for data in tqdm(augmented_data, desc=\"Extracting features\"):\n",
    "    sr, signal = data[0], data[1]\n",
    "    features = extract_all_features(sr, signal)\n",
    "    extracted_data.append(features)"
   ]
  },
  {
   "cell_type": "code",
   "execution_count": 15,
   "id": "73b5c88d",
   "metadata": {},
   "outputs": [
    {
     "name": "stdout",
     "output_type": "stream",
     "text": [
      "Shape of feature matrix X: (3000, 23)\n",
      "Shape of label vector y: (3000,)\n"
     ]
    }
   ],
   "source": [
    "data_uniform = []\n",
    "for feature_list in extracted_data:\n",
    "    processed_features = []\n",
    "    for feature in feature_list:\n",
    "        if isinstance(feature, np.ndarray):\n",
    "            processed_features.append(feature.item())\n",
    "        else:\n",
    "            processed_features.append(feature)\n",
    "    data_uniform.append(processed_features)\n",
    "\n",
    "X = np.array(data_uniform)\n",
    "y = np.array(np.repeat(labels, 5))\n",
    "\n",
    "print(f\"Shape of feature matrix X: {X.shape}\")\n",
    "print(f\"Shape of label vector y: {y.shape}\")"
   ]
  },
  {
   "cell_type": "markdown",
   "id": "8aad72a7",
   "metadata": {},
   "source": [
    "# **3. Set Up and Train Model**"
   ]
  },
  {
   "cell_type": "markdown",
   "id": "ff038081",
   "metadata": {},
   "source": [
    "### **3.1. Support Vector Machine (SVM) Model**"
   ]
  },
  {
   "cell_type": "code",
   "execution_count": null,
   "id": "ace2af66",
   "metadata": {},
   "outputs": [],
   "source": [
    "class SVM:\n",
    "    \n",
    "    # Fungsi konstruktor untuk menginisialisasi parameter SVM\n",
    "    def __init__(self, kernel='rbf', C=10.0, degree=3, gamma=0.01):\n",
    "        self.kernel_type = kernel\n",
    "        self.C = C\n",
    "        self.degree = degree\n",
    "        self.gamma = gamma\n",
    "        self.models = {}\n",
    "        self.is_multiclass = False\n",
    "    \n",
    "    # Fungsi untuk mendapatkan parameter SVM\n",
    "    def get_params(self):\n",
    "        return {\n",
    "            \"C\": self.C,\n",
    "            \"kernel\": self._compute_kernel,\n",
    "            \"gamma\": self.gamma,\n",
    "            \"degree\": self.degree,\n",
    "        }\n",
    "\n",
    "    # Fungsi untuk mengatur parameter SVM\n",
    "    def set_params(self, **parameters):\n",
    "        for parameter, value in parameters.items():\n",
    "            setattr(self, parameter, value)\n",
    "        return self\n",
    "    \n",
    "    # Fungsi untuk menghitung kernel\n",
    "    def _compute_kernel(self, x, y):\n",
    "        if self.kernel_type == 'linear':\n",
    "            return np.dot(x, y)\n",
    "        elif self.kernel_type == 'poly':\n",
    "            return (1 + self.gamma * np.dot(x, y)) ** self.degree\n",
    "        elif self.kernel_type == 'rbf':\n",
    "            return np.exp(-self._gamma * np.linalg.norm(x - y) ** 2)\n",
    "        else:\n",
    "            raise ValueError(\"Unknown kernel\")\n",
    "\n",
    "    # Fungsi untuk melakukan proses fitting model SVM\n",
    "    def fit(self, X, y):\n",
    "        self.classes = np.unique(y)\n",
    "        n_classes = len(self.classes)\n",
    "        self.is_multiclass = n_classes > 2\n",
    "\n",
    "        if self.is_multiclass:\n",
    "            self.models = {}\n",
    "            print(f\"Training {n_classes} OvR SVM models...\")\n",
    "            for cls in tqdm(self.classes, desc=\"OvR SVM Training\"):\n",
    "                y_binary = np.where(y == cls, 1, -1)\n",
    "                model = SVM(kernel=self.kernel_type, C=self.C, degree=self.degree, gamma=self.gamma)\n",
    "                model.fit(X, y_binary)\n",
    "                self.models[cls] = model\n",
    "        else:\n",
    "            y = y.astype(float)\n",
    "            n_samples, n_features = X.shape\n",
    "            self.X = X\n",
    "            self.y = y\n",
    "\n",
    "            if self.kernel_type == 'rbf':\n",
    "                self._gamma = self.gamma if self.gamma else 1 / n_features\n",
    "\n",
    "            # Gram matrix\n",
    "            K = np.zeros((n_samples, n_samples))\n",
    "            for i in range(n_samples):\n",
    "                for j in range(n_samples):\n",
    "                    K[i, j] = self._compute_kernel(X[i], X[j])\n",
    "\n",
    "            P = matrix(np.outer(y, y) * K)\n",
    "            q = matrix(-np.ones(n_samples))\n",
    "            A = matrix(y.reshape(1, -1))\n",
    "            b = matrix(0.0)\n",
    "\n",
    "            if self.C is None:\n",
    "                G = matrix(-np.eye(n_samples))\n",
    "                h = matrix(np.zeros(n_samples))\n",
    "            else:\n",
    "                G = matrix(np.vstack((-np.eye(n_samples), np.eye(n_samples))))\n",
    "                h = matrix(np.hstack((np.zeros(n_samples), np.ones(n_samples) * self.C)))\n",
    "\n",
    "            solvers.options['show_progress'] = False\n",
    "            solution = solvers.qp(P, q, G, h, A, b)\n",
    "            alphas = np.ravel(solution['x'])\n",
    "\n",
    "            # Support vectors\n",
    "            sv = alphas > 1e-5\n",
    "            self.alphas = alphas[sv]\n",
    "            self.support_vectors = X[sv]\n",
    "            self.support_vector_labels = y[sv]\n",
    "\n",
    "            # Intercept\n",
    "            self.b = np.mean([\n",
    "                y_k - np.sum(self.alphas * self.support_vector_labels *\n",
    "                             [self._compute_kernel(x_k, x_i) for x_i in self.support_vectors])\n",
    "                for (x_k, y_k) in zip(self.support_vectors, self.support_vector_labels)\n",
    "            ])\n",
    "\n",
    "    # Fungsi untuk menghitung nilai keputusan\n",
    "    def project(self, X):\n",
    "        if self.is_multiclass:\n",
    "            decision_values = np.column_stack([\n",
    "                model.project(X) for model in self.models.values()\n",
    "            ])\n",
    "            return decision_values\n",
    "        else:\n",
    "            y_predict = np.zeros(len(X))\n",
    "            for i in range(len(X)):\n",
    "                s = 0\n",
    "                for alpha, sv_y, sv in zip(self.alphas, self.support_vector_labels, self.support_vectors):\n",
    "                    s += alpha * sv_y * self._compute_kernel(X[i], sv)\n",
    "                y_predict[i] = s\n",
    "            return y_predict + self.b\n",
    "    \n",
    "    # Fungsi untuk menghitung probabilitas prediksi\n",
    "    def predict_proba(self, X):\n",
    "        if not self.is_multiclass:\n",
    "            raise NotImplementedError(\"predict_proba hanya didukung untuk mode multiclass OvR\")\n",
    "\n",
    "        decision = self.project(X)\n",
    "        # Softmax untuk setiap baris\n",
    "        exp_scores = np.exp(decision - np.max(decision, axis=1, keepdims=True))  # stabilisasi\n",
    "        probs = exp_scores / np.sum(exp_scores, axis=1, keepdims=True)\n",
    "        return probs\n",
    "\n",
    "    # Fungsi untuk melakukan prediksi\n",
    "    def predict(self, X):\n",
    "        if self.is_multiclass:\n",
    "            decision = self.project(X)\n",
    "            predictions = np.argmax(decision, axis=1)\n",
    "            return self.classes[predictions]\n",
    "        else:\n",
    "            return np.sign(self.project(X))"
   ]
  },
  {
   "cell_type": "markdown",
   "id": "beaafc4f",
   "metadata": {},
   "source": [
    "### **3.2. Train Test Split Data**"
   ]
  },
  {
   "cell_type": "code",
   "execution_count": 17,
   "id": "c6ba6a79",
   "metadata": {},
   "outputs": [
    {
     "name": "stdout",
     "output_type": "stream",
     "text": [
      "Total dataset: 3000 samples\n",
      "Training set: 2400 samples (80.0%)\n",
      "Test set: 600 samples (20.0%)\n",
      "\n",
      "Training Set:\n",
      "  ambulance: 800 samples (33.3%)\n",
      "  firetruck: 800 samples (33.3%)\n",
      "  traffic: 800 samples (33.3%)\n",
      "\n",
      "Test Set:\n",
      "  ambulance: 200 samples (33.3%)\n",
      "  firetruck: 200 samples (33.3%)\n",
      "  traffic: 200 samples (33.3%)\n",
      "\n",
      "Processed data shapes:\n",
      "X_train: (2400, 23)\n",
      "X_test: (600, 23)\n",
      "y_train: (2400,)\n",
      "y_test: (600,)\n",
      "\n",
      "Label mapping: {np.str_('ambulance'): 0, np.str_('firetruck'): 1, np.str_('traffic'): 2}\n"
     ]
    }
   ],
   "source": [
    "# Split data menjadi train (80%) dan test (20%)\n",
    "X_train_raw, X_test_raw, y_train_raw, y_test_raw = train_test_split(\n",
    "    X, y, test_size=0.2, random_state=42, stratify=y\n",
    ")\n",
    "\n",
    "print(f\"Total dataset: {X.shape[0]} samples\")\n",
    "print(f\"Training set: {X_train_raw.shape[0]} samples ({X_train_raw.shape[0]/X.shape[0]*100:.1f}%)\")\n",
    "print(f\"Test set: {X_test_raw.shape[0]} samples ({X_test_raw.shape[0]/X.shape[0]*100:.1f}%)\")\n",
    "\n",
    "# Cek distribusi kelas\n",
    "def print_class_distribution(y, set_name):\n",
    "    unique, counts = np.unique(y, return_counts=True)\n",
    "    print(f\"\\n{set_name}:\")\n",
    "    total = len(y)\n",
    "    for label, count in zip(unique, counts):\n",
    "        percentage = count / total * 100\n",
    "        print(f\"  {label}: {count} samples ({percentage:.1f}%)\")\n",
    "\n",
    "print_class_distribution(y_train_raw, \"Training Set\")\n",
    "print_class_distribution(y_test_raw, \"Test Set\")\n",
    "\n",
    "# Standardize features\n",
    "scaler = StandardScaler()\n",
    "X_train = scaler.fit_transform(X_train_raw)\n",
    "X_test = scaler.transform(X_test_raw)\n",
    "\n",
    "# Encode labels\n",
    "label_encoder = LabelEncoder()\n",
    "y_train = label_encoder.fit_transform(y_train_raw)\n",
    "y_test = label_encoder.transform(y_test_raw)\n",
    "\n",
    "print(f\"\\nProcessed data shapes:\")\n",
    "print(f\"X_train: {X_train.shape}\")\n",
    "print(f\"X_test: {X_test.shape}\")\n",
    "print(f\"y_train: {y_train.shape}\")\n",
    "print(f\"y_test: {y_test.shape}\")\n",
    "\n",
    "print(f\"\\nLabel mapping: {dict(zip(label_encoder.classes_, range(len(label_encoder.classes_))))}\")"
   ]
  },
  {
   "cell_type": "markdown",
   "id": "6e33b239",
   "metadata": {},
   "source": [
    "### **3.3. Grid Search Cross Validation**"
   ]
  },
  {
   "cell_type": "code",
   "execution_count": 18,
   "id": "fd4c6d58",
   "metadata": {},
   "outputs": [],
   "source": [
    "def grid_search_cv(X, y, param_grid, cv=5, scoring='accuracy', random_state=None):\n",
    "    def generate_combinations():\n",
    "        param_combinations = []\n",
    "        kernel_params = {\n",
    "            'linear': ['C'],\n",
    "            'poly': ['C', 'gamma', 'degree'],\n",
    "            'rbf': ['C', 'gamma']\n",
    "        }\n",
    "        \n",
    "        for kernel in param_grid['kernel']:\n",
    "            relevant_params = kernel_params[kernel]\n",
    "            base_combination = {'kernel': kernel}\n",
    "            \n",
    "            def add_params(param_idx=0, current_combination=None):\n",
    "                if current_combination is None:\n",
    "                    current_combination = base_combination.copy()\n",
    "                    \n",
    "                if param_idx == len(relevant_params):\n",
    "                    param_combinations.append(current_combination.copy())\n",
    "                    return\n",
    "                    \n",
    "                param_name = relevant_params[param_idx]\n",
    "                if param_name in param_grid:\n",
    "                    param_values = param_grid[param_name]\n",
    "                    for value in param_values:\n",
    "                        new_combination = current_combination.copy()\n",
    "                        new_combination[param_name] = value\n",
    "                        add_params(param_idx + 1, new_combination)\n",
    "                else:\n",
    "                    add_params(param_idx + 1, current_combination)\n",
    "                    \n",
    "            add_params()\n",
    "        return param_combinations\n",
    "    \n",
    "    def stratified_k_fold(X, y, k=5, random_state=None):\n",
    "        if random_state is not None:\n",
    "            np.random.seed(random_state)\n",
    "            \n",
    "        # Kelompokkan indeks berdasarkan label kelas\n",
    "        class_indices = defaultdict(list)\n",
    "        for idx, label in enumerate(y):\n",
    "            class_indices[label].append(idx)\n",
    "            \n",
    "        # Acakkan indeks dalam setiap kelas\n",
    "        for label in class_indices:\n",
    "            np.random.shuffle(class_indices[label])\n",
    "        \n",
    "        # Buat k lipatan kosong\n",
    "        folds = [[] for _ in range(k)]\n",
    "        \n",
    "        # Distribusikan sampel dari setiap kelas secara merata\n",
    "        for label, indices in class_indices.items():\n",
    "            fold_sizes = np.array([len(indices) // k] * k)\n",
    "            remainder = len(indices) % k\n",
    "            if remainder > 0:\n",
    "                fold_sizes[:remainder] += 1\n",
    "            \n",
    "            start_idx = 0\n",
    "            for fold_idx, size in enumerate(fold_sizes):\n",
    "                end_idx = start_idx + size\n",
    "                folds[fold_idx].extend(indices[start_idx:end_idx])\n",
    "                start_idx = end_idx\n",
    "                \n",
    "        return [np.array(fold) for fold in folds]\n",
    "    \n",
    "    def cross_validate_params(params, X, y, cv_folds):\n",
    "        fold_scores = []\n",
    "        \n",
    "        for i, val_indices in enumerate(cv_folds):\n",
    "            # Create train indices (semua fold kecuali fold validation saat ini)\n",
    "            train_indices = np.concatenate([\n",
    "                cv_folds[j] for j in range(len(cv_folds)) if j != i\n",
    "            ])\n",
    "            \n",
    "            # Split data training menjadi train dan validation untuk fold ini\n",
    "            X_train_fold, X_val_fold = X[train_indices], X[val_indices]\n",
    "            y_train_fold, y_val_fold = y[train_indices], y[val_indices]\n",
    "            \n",
    "            # Train model dengan parameter saat ini\n",
    "            model = SVM(**params)\n",
    "            model.fit(X_train_fold, y_train_fold)\n",
    "            \n",
    "            # Evaluate pada validation fold\n",
    "            y_pred = model.predict(X_val_fold)\n",
    "            if scoring == 'accuracy':\n",
    "                score = accuracy_score(y_val_fold, y_pred)\n",
    "            else:\n",
    "                raise ValueError(f\"Scoring '{scoring}' not implemented\")\n",
    "                \n",
    "            fold_scores.append(score)\n",
    "        \n",
    "        return np.array(fold_scores)\n",
    "    \n",
    "    # Generate parameter combinations\n",
    "    param_combinations = generate_combinations()\n",
    "    \n",
    "    # Prepare CV folds (hanya menggunakan training data)\n",
    "    cv_folds = stratified_k_fold(X, y, k=cv, random_state=random_state)\n",
    "    \n",
    "    # Convert to numpy arrays\n",
    "    X = np.array(X)\n",
    "    y = np.array(y)\n",
    "    \n",
    "    # Initialize results storage\n",
    "    best_score = -np.inf\n",
    "    best_params = None\n",
    "    cv_results = {\n",
    "        'params': [],\n",
    "        'mean_test_score': [],\n",
    "        'std_test_score': [],\n",
    "        'rank_test_score': [],\n",
    "        'split_scores': []\n",
    "    }\n",
    "    \n",
    "    print(f\"Fitting {cv} folds for each of {len(param_combinations)} candidates, \"\n",
    "          f\"totalling {cv * len(param_combinations)} fits\")\n",
    "    print(f\"Training data shape: {X.shape}\\n\\n\")\n",
    "    \n",
    "    # Evaluate setiap parameter combination\n",
    "    for i, params in enumerate(tqdm(param_combinations, desc=\"Grid Search CV\")):\n",
    "        print(f\"\\nEvaluating: {params}\")\n",
    "        \n",
    "        # Perform cross validation pada training data\n",
    "        fold_scores = cross_validate_params(params, X, y, cv_folds)\n",
    "        mean_score = np.mean(fold_scores)\n",
    "        std_score = np.std(fold_scores)\n",
    "        \n",
    "        print(f\"CV Scores: {fold_scores}\")\n",
    "        print(f\"Mean: {mean_score:.4f} (+/- {std_score * 2:.4f})\")\n",
    "        \n",
    "        # Store results\n",
    "        cv_results['params'].append(params)\n",
    "        cv_results['mean_test_score'].append(mean_score)\n",
    "        cv_results['std_test_score'].append(std_score)\n",
    "        cv_results['split_scores'].append(fold_scores)\n",
    "        \n",
    "        # Update best parameters\n",
    "        if mean_score > best_score:\n",
    "            best_score = mean_score\n",
    "            best_params = params\n",
    "            print(f\"★ New best score: {best_score:.4f}\")\n",
    "    \n",
    "    # Calculate ranking\n",
    "    scores_array = np.array(cv_results['mean_test_score'])\n",
    "    ranks = np.argsort(-scores_array) + 1  # Descending order, 1-indexed\n",
    "    cv_results['rank_test_score'] = [ranks[i] for i in range(len(ranks))]\n",
    "    \n",
    "    # Refit dengan best parameters pada seluruh training data\n",
    "    print(f\"\\nRefitting model with best parameters on full training set...\")\n",
    "    best_estimator = SVM(**best_params)\n",
    "    best_estimator.fit(X, y)\n",
    "    \n",
    "    print(\"\\nGRID SEARCH RESULTS\\n\")\n",
    "    print(f\"Best parameters: {best_params}\")\n",
    "    print(f\"Best cross-validation score: {best_score:.4f}\")\n",
    "    \n",
    "    # Show top 5 results\n",
    "    print(f\"\\nTop 5 parameter combinations:\")\n",
    "    sorted_indices = np.argsort(-scores_array)[:5]\n",
    "    for i, idx in enumerate(sorted_indices):\n",
    "        params = cv_results['params'][idx]\n",
    "        score = cv_results['mean_test_score'][idx]\n",
    "        std = cv_results['std_test_score'][idx]\n",
    "        print(f\"{i+1}. {params}\")\n",
    "        print(f\"   Score: {score:.4f} (+/- {std*2:.4f})\")\n",
    "    \n",
    "    return best_estimator, best_params, best_score, cv_results"
   ]
  },
  {
   "cell_type": "code",
   "execution_count": 19,
   "id": "48212065",
   "metadata": {},
   "outputs": [
    {
     "name": "stdout",
     "output_type": "stream",
     "text": [
      "GRID SEARCH CROSS VALIDATION\n",
      "\n",
      "Fitting 5 folds for each of 30 candidates, totalling 150 fits\n",
      "Training data shape: (2400, 23)\n",
      "\n",
      "\n"
     ]
    },
    {
     "name": "stderr",
     "output_type": "stream",
     "text": [
      "Grid Search CV:   0%|          | 0/30 [00:00<?, ?it/s]"
     ]
    },
    {
     "name": "stdout",
     "output_type": "stream",
     "text": [
      "\n",
      "Evaluating: {'kernel': 'linear', 'C': 0.1}\n",
      "Training 3 OvR SVM models...\n",
      "\n"
     ]
    },
    {
     "name": "stderr",
     "output_type": "stream",
     "text": [
      "OvR SVM Training: 100%|██████████| 3/3 [00:49<00:00, 16.34s/it]\n"
     ]
    },
    {
     "name": "stdout",
     "output_type": "stream",
     "text": [
      "Training 3 OvR SVM models...\n",
      "\n"
     ]
    },
    {
     "name": "stderr",
     "output_type": "stream",
     "text": [
      "OvR SVM Training: 100%|██████████| 3/3 [00:45<00:00, 15.23s/it]\n"
     ]
    },
    {
     "name": "stdout",
     "output_type": "stream",
     "text": [
      "Training 3 OvR SVM models...\n",
      "\n"
     ]
    },
    {
     "name": "stderr",
     "output_type": "stream",
     "text": [
      "OvR SVM Training: 100%|██████████| 3/3 [00:47<00:00, 15.92s/it]\n"
     ]
    },
    {
     "name": "stdout",
     "output_type": "stream",
     "text": [
      "Training 3 OvR SVM models...\n",
      "\n"
     ]
    },
    {
     "name": "stderr",
     "output_type": "stream",
     "text": [
      "OvR SVM Training: 100%|██████████| 3/3 [00:47<00:00, 15.84s/it]\n"
     ]
    },
    {
     "name": "stdout",
     "output_type": "stream",
     "text": [
      "Training 3 OvR SVM models...\n",
      "\n"
     ]
    },
    {
     "name": "stderr",
     "output_type": "stream",
     "text": [
      "OvR SVM Training: 100%|██████████| 3/3 [00:45<00:00, 15.17s/it]\n",
      "Grid Search CV:   3%|▎         | 1/30 [03:58<1:55:18, 238.58s/it]"
     ]
    },
    {
     "name": "stdout",
     "output_type": "stream",
     "text": [
      "CV Scores: [0.94791667 0.91666667 0.90416667 0.9125     0.90208333]\n",
      "Mean: 0.9167 (+/- 0.0330)\n",
      "★ New best score: 0.9167\n",
      "\n",
      "Evaluating: {'kernel': 'linear', 'C': 1.0}\n",
      "Training 3 OvR SVM models...\n",
      "\n"
     ]
    },
    {
     "name": "stderr",
     "output_type": "stream",
     "text": [
      "OvR SVM Training: 100%|██████████| 3/3 [00:45<00:00, 15.02s/it]\n"
     ]
    },
    {
     "name": "stdout",
     "output_type": "stream",
     "text": [
      "Training 3 OvR SVM models...\n",
      "\n"
     ]
    },
    {
     "name": "stderr",
     "output_type": "stream",
     "text": [
      "OvR SVM Training: 100%|██████████| 3/3 [00:45<00:00, 15.31s/it]\n"
     ]
    },
    {
     "name": "stdout",
     "output_type": "stream",
     "text": [
      "Training 3 OvR SVM models...\n",
      "\n"
     ]
    },
    {
     "name": "stderr",
     "output_type": "stream",
     "text": [
      "OvR SVM Training: 100%|██████████| 3/3 [00:43<00:00, 14.60s/it]\n"
     ]
    },
    {
     "name": "stdout",
     "output_type": "stream",
     "text": [
      "Training 3 OvR SVM models...\n",
      "\n"
     ]
    },
    {
     "name": "stderr",
     "output_type": "stream",
     "text": [
      "OvR SVM Training: 100%|██████████| 3/3 [00:47<00:00, 15.68s/it]\n"
     ]
    },
    {
     "name": "stdout",
     "output_type": "stream",
     "text": [
      "Training 3 OvR SVM models...\n",
      "\n"
     ]
    },
    {
     "name": "stderr",
     "output_type": "stream",
     "text": [
      "OvR SVM Training: 100%|██████████| 3/3 [00:45<00:00, 15.15s/it]\n",
      "Grid Search CV:   7%|▋         | 2/30 [07:48<1:48:53, 233.33s/it]"
     ]
    },
    {
     "name": "stdout",
     "output_type": "stream",
     "text": [
      "CV Scores: [0.95416667 0.92708333 0.91875    0.91458333 0.925     ]\n",
      "Mean: 0.9279 (+/- 0.0277)\n",
      "★ New best score: 0.9279\n",
      "\n",
      "Evaluating: {'kernel': 'linear', 'C': 10.0}\n",
      "Training 3 OvR SVM models...\n",
      "\n"
     ]
    },
    {
     "name": "stderr",
     "output_type": "stream",
     "text": [
      "OvR SVM Training: 100%|██████████| 3/3 [01:03<00:00, 21.18s/it]\n"
     ]
    },
    {
     "name": "stdout",
     "output_type": "stream",
     "text": [
      "Training 3 OvR SVM models...\n",
      "\n"
     ]
    },
    {
     "name": "stderr",
     "output_type": "stream",
     "text": [
      "OvR SVM Training: 100%|██████████| 3/3 [00:52<00:00, 17.51s/it]\n"
     ]
    },
    {
     "name": "stdout",
     "output_type": "stream",
     "text": [
      "Training 3 OvR SVM models...\n",
      "\n"
     ]
    },
    {
     "name": "stderr",
     "output_type": "stream",
     "text": [
      "OvR SVM Training: 100%|██████████| 3/3 [00:53<00:00, 17.88s/it]\n"
     ]
    },
    {
     "name": "stdout",
     "output_type": "stream",
     "text": [
      "Training 3 OvR SVM models...\n",
      "\n"
     ]
    },
    {
     "name": "stderr",
     "output_type": "stream",
     "text": [
      "OvR SVM Training: 100%|██████████| 3/3 [00:52<00:00, 17.43s/it]\n"
     ]
    },
    {
     "name": "stdout",
     "output_type": "stream",
     "text": [
      "Training 3 OvR SVM models...\n",
      "\n"
     ]
    },
    {
     "name": "stderr",
     "output_type": "stream",
     "text": [
      "OvR SVM Training: 100%|██████████| 3/3 [00:53<00:00, 17.93s/it]\n",
      "Grid Search CV:  10%|█         | 3/30 [12:26<1:54:10, 253.72s/it]"
     ]
    },
    {
     "name": "stdout",
     "output_type": "stream",
     "text": [
      "CV Scores: [0.95416667 0.93125    0.92916667 0.91041667 0.93125   ]\n",
      "Mean: 0.9313 (+/- 0.0278)\n",
      "★ New best score: 0.9313\n",
      "\n",
      "Evaluating: {'kernel': 'poly', 'C': 0.1, 'gamma': 0.001, 'degree': 2}\n",
      "Training 3 OvR SVM models...\n",
      "\n"
     ]
    },
    {
     "name": "stderr",
     "output_type": "stream",
     "text": [
      "OvR SVM Training: 100%|██████████| 3/3 [00:45<00:00, 15.23s/it]\n"
     ]
    },
    {
     "name": "stdout",
     "output_type": "stream",
     "text": [
      "Training 3 OvR SVM models...\n",
      "\n"
     ]
    },
    {
     "name": "stderr",
     "output_type": "stream",
     "text": [
      "OvR SVM Training: 100%|██████████| 3/3 [00:44<00:00, 14.82s/it]\n"
     ]
    },
    {
     "name": "stdout",
     "output_type": "stream",
     "text": [
      "Training 3 OvR SVM models...\n",
      "\n"
     ]
    },
    {
     "name": "stderr",
     "output_type": "stream",
     "text": [
      "OvR SVM Training: 100%|██████████| 3/3 [00:45<00:00, 15.19s/it]\n"
     ]
    },
    {
     "name": "stdout",
     "output_type": "stream",
     "text": [
      "Training 3 OvR SVM models...\n",
      "\n"
     ]
    },
    {
     "name": "stderr",
     "output_type": "stream",
     "text": [
      "OvR SVM Training: 100%|██████████| 3/3 [00:45<00:00, 15.11s/it]\n"
     ]
    },
    {
     "name": "stdout",
     "output_type": "stream",
     "text": [
      "Training 3 OvR SVM models...\n",
      "\n"
     ]
    },
    {
     "name": "stderr",
     "output_type": "stream",
     "text": [
      "OvR SVM Training: 100%|██████████| 3/3 [00:45<00:00, 15.26s/it]\n",
      "Grid Search CV:  13%|█▎        | 4/30 [16:26<1:47:33, 248.23s/it]"
     ]
    },
    {
     "name": "stdout",
     "output_type": "stream",
     "text": [
      "CV Scores: [0.86875    0.88333333 0.86875    0.84791667 0.84166667]\n",
      "Mean: 0.8621 (+/- 0.0304)\n",
      "\n",
      "Evaluating: {'kernel': 'poly', 'C': 0.1, 'gamma': 0.001, 'degree': 3}\n",
      "Training 3 OvR SVM models...\n",
      "\n"
     ]
    },
    {
     "name": "stderr",
     "output_type": "stream",
     "text": [
      "OvR SVM Training: 100%|██████████| 3/3 [00:41<00:00, 13.87s/it]\n"
     ]
    },
    {
     "name": "stdout",
     "output_type": "stream",
     "text": [
      "Training 3 OvR SVM models...\n",
      "\n"
     ]
    },
    {
     "name": "stderr",
     "output_type": "stream",
     "text": [
      "OvR SVM Training: 100%|██████████| 3/3 [00:41<00:00, 13.81s/it]\n"
     ]
    },
    {
     "name": "stdout",
     "output_type": "stream",
     "text": [
      "Training 3 OvR SVM models...\n",
      "\n"
     ]
    },
    {
     "name": "stderr",
     "output_type": "stream",
     "text": [
      "OvR SVM Training: 100%|██████████| 3/3 [00:42<00:00, 14.07s/it]\n"
     ]
    },
    {
     "name": "stdout",
     "output_type": "stream",
     "text": [
      "Training 3 OvR SVM models...\n",
      "\n"
     ]
    },
    {
     "name": "stderr",
     "output_type": "stream",
     "text": [
      "OvR SVM Training: 100%|██████████| 3/3 [00:42<00:00, 14.03s/it]\n"
     ]
    },
    {
     "name": "stdout",
     "output_type": "stream",
     "text": [
      "Training 3 OvR SVM models...\n",
      "\n"
     ]
    },
    {
     "name": "stderr",
     "output_type": "stream",
     "text": [
      "OvR SVM Training: 100%|██████████| 3/3 [01:10<00:00, 23.42s/it]\n",
      "Grid Search CV:  17%|█▋        | 5/30 [20:39<1:44:16, 250.27s/it]"
     ]
    },
    {
     "name": "stdout",
     "output_type": "stream",
     "text": [
      "CV Scores: [0.875      0.88541667 0.87083333 0.85208333 0.84166667]\n",
      "Mean: 0.8650 (+/- 0.0318)\n",
      "\n",
      "Evaluating: {'kernel': 'poly', 'C': 0.1, 'gamma': 0.01, 'degree': 2}\n",
      "Training 3 OvR SVM models...\n",
      "\n"
     ]
    },
    {
     "name": "stderr",
     "output_type": "stream",
     "text": [
      "OvR SVM Training: 100%|██████████| 3/3 [00:47<00:00, 15.92s/it]\n"
     ]
    },
    {
     "name": "stdout",
     "output_type": "stream",
     "text": [
      "Training 3 OvR SVM models...\n",
      "\n"
     ]
    },
    {
     "name": "stderr",
     "output_type": "stream",
     "text": [
      "OvR SVM Training: 100%|██████████| 3/3 [02:19<00:00, 46.55s/it]\n"
     ]
    },
    {
     "name": "stdout",
     "output_type": "stream",
     "text": [
      "Training 3 OvR SVM models...\n",
      "\n"
     ]
    },
    {
     "name": "stderr",
     "output_type": "stream",
     "text": [
      "OvR SVM Training: 100%|██████████| 3/3 [02:14<00:00, 45.00s/it]\n"
     ]
    },
    {
     "name": "stdout",
     "output_type": "stream",
     "text": [
      "Training 3 OvR SVM models...\n",
      "\n"
     ]
    },
    {
     "name": "stderr",
     "output_type": "stream",
     "text": [
      "OvR SVM Training: 100%|██████████| 3/3 [01:24<00:00, 28.16s/it]\n"
     ]
    },
    {
     "name": "stdout",
     "output_type": "stream",
     "text": [
      "Training 3 OvR SVM models...\n",
      "\n"
     ]
    },
    {
     "name": "stderr",
     "output_type": "stream",
     "text": [
      "OvR SVM Training: 100%|██████████| 3/3 [01:20<00:00, 26.75s/it]\n",
      "Grid Search CV:  20%|██        | 6/30 [29:09<2:15:20, 338.34s/it]"
     ]
    },
    {
     "name": "stdout",
     "output_type": "stream",
     "text": [
      "CV Scores: [0.90208333 0.90625    0.8875     0.86875    0.86666667]\n",
      "Mean: 0.8863 (+/- 0.0328)\n",
      "\n",
      "Evaluating: {'kernel': 'poly', 'C': 0.1, 'gamma': 0.01, 'degree': 3}\n",
      "Training 3 OvR SVM models...\n",
      "\n"
     ]
    },
    {
     "name": "stderr",
     "output_type": "stream",
     "text": [
      "OvR SVM Training: 100%|██████████| 3/3 [01:10<00:00, 23.37s/it]\n"
     ]
    },
    {
     "name": "stdout",
     "output_type": "stream",
     "text": [
      "Training 3 OvR SVM models...\n",
      "\n"
     ]
    },
    {
     "name": "stderr",
     "output_type": "stream",
     "text": [
      "OvR SVM Training: 100%|██████████| 3/3 [01:04<00:00, 21.60s/it]\n"
     ]
    },
    {
     "name": "stdout",
     "output_type": "stream",
     "text": [
      "Training 3 OvR SVM models...\n",
      "\n"
     ]
    },
    {
     "name": "stderr",
     "output_type": "stream",
     "text": [
      "OvR SVM Training: 100%|██████████| 3/3 [01:02<00:00, 20.72s/it]\n"
     ]
    },
    {
     "name": "stdout",
     "output_type": "stream",
     "text": [
      "Training 3 OvR SVM models...\n",
      "\n"
     ]
    },
    {
     "name": "stderr",
     "output_type": "stream",
     "text": [
      "OvR SVM Training: 100%|██████████| 3/3 [01:21<00:00, 27.06s/it]\n"
     ]
    },
    {
     "name": "stdout",
     "output_type": "stream",
     "text": [
      "Training 3 OvR SVM models...\n",
      "\n"
     ]
    },
    {
     "name": "stderr",
     "output_type": "stream",
     "text": [
      "OvR SVM Training: 100%|██████████| 3/3 [02:14<00:00, 44.73s/it]\n",
      "Grid Search CV:  23%|██▎       | 7/30 [36:10<2:20:05, 365.47s/it]"
     ]
    },
    {
     "name": "stdout",
     "output_type": "stream",
     "text": [
      "CV Scores: [0.91041667 0.91875    0.89791667 0.88125    0.88541667]\n",
      "Mean: 0.8988 (+/- 0.0286)\n",
      "\n",
      "Evaluating: {'kernel': 'poly', 'C': 0.1, 'gamma': 0.1, 'degree': 2}\n",
      "Training 3 OvR SVM models...\n",
      "\n"
     ]
    },
    {
     "name": "stderr",
     "output_type": "stream",
     "text": [
      "OvR SVM Training: 100%|██████████| 3/3 [00:51<00:00, 17.10s/it]\n"
     ]
    },
    {
     "name": "stdout",
     "output_type": "stream",
     "text": [
      "Training 3 OvR SVM models...\n",
      "\n"
     ]
    },
    {
     "name": "stderr",
     "output_type": "stream",
     "text": [
      "OvR SVM Training: 100%|██████████| 3/3 [02:22<00:00, 47.41s/it]\n"
     ]
    },
    {
     "name": "stdout",
     "output_type": "stream",
     "text": [
      "Training 3 OvR SVM models...\n",
      "\n"
     ]
    },
    {
     "name": "stderr",
     "output_type": "stream",
     "text": [
      "OvR SVM Training: 100%|██████████| 3/3 [01:56<00:00, 38.86s/it]\n"
     ]
    },
    {
     "name": "stdout",
     "output_type": "stream",
     "text": [
      "Training 3 OvR SVM models...\n",
      "\n"
     ]
    },
    {
     "name": "stderr",
     "output_type": "stream",
     "text": [
      "OvR SVM Training: 100%|██████████| 3/3 [01:54<00:00, 38.25s/it]\n"
     ]
    },
    {
     "name": "stdout",
     "output_type": "stream",
     "text": [
      "Training 3 OvR SVM models...\n",
      "\n"
     ]
    },
    {
     "name": "stderr",
     "output_type": "stream",
     "text": [
      "OvR SVM Training: 100%|██████████| 3/3 [00:47<00:00, 15.84s/it]\n",
      "Grid Search CV:  27%|██▋       | 8/30 [44:11<2:27:29, 402.26s/it]"
     ]
    },
    {
     "name": "stdout",
     "output_type": "stream",
     "text": [
      "CV Scores: [0.96041667 0.96458333 0.9625     0.9375     0.96041667]\n",
      "Mean: 0.9571 (+/- 0.0198)\n",
      "★ New best score: 0.9571\n",
      "\n",
      "Evaluating: {'kernel': 'poly', 'C': 0.1, 'gamma': 0.1, 'degree': 3}\n",
      "Training 3 OvR SVM models...\n",
      "\n"
     ]
    },
    {
     "name": "stderr",
     "output_type": "stream",
     "text": [
      "OvR SVM Training: 100%|██████████| 3/3 [00:46<00:00, 15.40s/it]\n"
     ]
    },
    {
     "name": "stdout",
     "output_type": "stream",
     "text": [
      "Training 3 OvR SVM models...\n",
      "\n"
     ]
    },
    {
     "name": "stderr",
     "output_type": "stream",
     "text": [
      "OvR SVM Training: 100%|██████████| 3/3 [00:46<00:00, 15.42s/it]\n"
     ]
    },
    {
     "name": "stdout",
     "output_type": "stream",
     "text": [
      "Training 3 OvR SVM models...\n",
      "\n"
     ]
    },
    {
     "name": "stderr",
     "output_type": "stream",
     "text": [
      "OvR SVM Training: 100%|██████████| 3/3 [00:52<00:00, 17.41s/it]\n"
     ]
    },
    {
     "name": "stdout",
     "output_type": "stream",
     "text": [
      "Training 3 OvR SVM models...\n",
      "\n"
     ]
    },
    {
     "name": "stderr",
     "output_type": "stream",
     "text": [
      "OvR SVM Training: 100%|██████████| 3/3 [00:46<00:00, 15.64s/it]\n"
     ]
    },
    {
     "name": "stdout",
     "output_type": "stream",
     "text": [
      "Training 3 OvR SVM models...\n",
      "\n"
     ]
    },
    {
     "name": "stderr",
     "output_type": "stream",
     "text": [
      "OvR SVM Training: 100%|██████████| 3/3 [00:47<00:00, 15.99s/it]\n",
      "Grid Search CV:  30%|███       | 9/30 [48:13<2:03:15, 352.16s/it]"
     ]
    },
    {
     "name": "stdout",
     "output_type": "stream",
     "text": [
      "CV Scores: [0.97083333 0.97708333 0.97916667 0.95416667 0.98541667]\n",
      "Mean: 0.9733 (+/- 0.0213)\n",
      "★ New best score: 0.9733\n",
      "\n",
      "Evaluating: {'kernel': 'poly', 'C': 1.0, 'gamma': 0.001, 'degree': 2}\n",
      "Training 3 OvR SVM models...\n",
      "\n"
     ]
    },
    {
     "name": "stderr",
     "output_type": "stream",
     "text": [
      "OvR SVM Training: 100%|██████████| 3/3 [00:44<00:00, 14.89s/it]\n"
     ]
    },
    {
     "name": "stdout",
     "output_type": "stream",
     "text": [
      "Training 3 OvR SVM models...\n",
      "\n"
     ]
    },
    {
     "name": "stderr",
     "output_type": "stream",
     "text": [
      "OvR SVM Training: 100%|██████████| 3/3 [00:45<00:00, 15.01s/it]\n"
     ]
    },
    {
     "name": "stdout",
     "output_type": "stream",
     "text": [
      "Training 3 OvR SVM models...\n",
      "\n"
     ]
    },
    {
     "name": "stderr",
     "output_type": "stream",
     "text": [
      "OvR SVM Training: 100%|██████████| 3/3 [00:43<00:00, 14.47s/it]\n"
     ]
    },
    {
     "name": "stdout",
     "output_type": "stream",
     "text": [
      "Training 3 OvR SVM models...\n",
      "\n"
     ]
    },
    {
     "name": "stderr",
     "output_type": "stream",
     "text": [
      "OvR SVM Training: 100%|██████████| 3/3 [01:04<00:00, 21.52s/it]\n"
     ]
    },
    {
     "name": "stdout",
     "output_type": "stream",
     "text": [
      "Training 3 OvR SVM models...\n",
      "\n"
     ]
    },
    {
     "name": "stderr",
     "output_type": "stream",
     "text": [
      "OvR SVM Training: 100%|██████████| 3/3 [00:48<00:00, 16.25s/it]\n",
      "Grid Search CV:  33%|███▎      | 10/30 [52:31<1:47:39, 322.99s/it]"
     ]
    },
    {
     "name": "stdout",
     "output_type": "stream",
     "text": [
      "CV Scores: [0.89166667 0.89791667 0.8875     0.86041667 0.85625   ]\n",
      "Mean: 0.8787 (+/- 0.0341)\n",
      "\n",
      "Evaluating: {'kernel': 'poly', 'C': 1.0, 'gamma': 0.001, 'degree': 3}\n",
      "Training 3 OvR SVM models...\n",
      "\n"
     ]
    },
    {
     "name": "stderr",
     "output_type": "stream",
     "text": [
      "OvR SVM Training: 100%|██████████| 3/3 [00:55<00:00, 18.45s/it]\n"
     ]
    },
    {
     "name": "stdout",
     "output_type": "stream",
     "text": [
      "Training 3 OvR SVM models...\n",
      "\n"
     ]
    },
    {
     "name": "stderr",
     "output_type": "stream",
     "text": [
      "OvR SVM Training: 100%|██████████| 3/3 [01:46<00:00, 35.36s/it]\n"
     ]
    },
    {
     "name": "stdout",
     "output_type": "stream",
     "text": [
      "Training 3 OvR SVM models...\n",
      "\n"
     ]
    },
    {
     "name": "stderr",
     "output_type": "stream",
     "text": [
      "OvR SVM Training: 100%|██████████| 3/3 [00:46<00:00, 15.35s/it]\n"
     ]
    },
    {
     "name": "stdout",
     "output_type": "stream",
     "text": [
      "Training 3 OvR SVM models...\n",
      "\n"
     ]
    },
    {
     "name": "stderr",
     "output_type": "stream",
     "text": [
      "OvR SVM Training: 100%|██████████| 3/3 [00:58<00:00, 19.37s/it]\n"
     ]
    },
    {
     "name": "stdout",
     "output_type": "stream",
     "text": [
      "Training 3 OvR SVM models...\n",
      "\n"
     ]
    },
    {
     "name": "stderr",
     "output_type": "stream",
     "text": [
      "OvR SVM Training: 100%|██████████| 3/3 [00:49<00:00, 16.43s/it]\n",
      "Grid Search CV:  37%|███▋      | 11/30 [57:59<1:42:47, 324.58s/it]"
     ]
    },
    {
     "name": "stdout",
     "output_type": "stream",
     "text": [
      "CV Scores: [0.89375    0.9        0.88541667 0.86458333 0.8625    ]\n",
      "Mean: 0.8812 (+/- 0.0304)\n",
      "\n",
      "Evaluating: {'kernel': 'poly', 'C': 1.0, 'gamma': 0.01, 'degree': 2}\n",
      "Training 3 OvR SVM models...\n",
      "\n"
     ]
    },
    {
     "name": "stderr",
     "output_type": "stream",
     "text": [
      "OvR SVM Training: 100%|██████████| 3/3 [00:50<00:00, 16.73s/it]\n"
     ]
    },
    {
     "name": "stdout",
     "output_type": "stream",
     "text": [
      "Training 3 OvR SVM models...\n",
      "\n"
     ]
    },
    {
     "name": "stderr",
     "output_type": "stream",
     "text": [
      "OvR SVM Training: 100%|██████████| 3/3 [00:45<00:00, 15.19s/it]\n"
     ]
    },
    {
     "name": "stdout",
     "output_type": "stream",
     "text": [
      "Training 3 OvR SVM models...\n",
      "\n"
     ]
    },
    {
     "name": "stderr",
     "output_type": "stream",
     "text": [
      "OvR SVM Training: 100%|██████████| 3/3 [00:45<00:00, 15.20s/it]\n"
     ]
    },
    {
     "name": "stdout",
     "output_type": "stream",
     "text": [
      "Training 3 OvR SVM models...\n",
      "\n"
     ]
    },
    {
     "name": "stderr",
     "output_type": "stream",
     "text": [
      "OvR SVM Training: 100%|██████████| 3/3 [01:04<00:00, 21.34s/it]\n"
     ]
    },
    {
     "name": "stdout",
     "output_type": "stream",
     "text": [
      "Training 3 OvR SVM models...\n",
      "\n"
     ]
    },
    {
     "name": "stderr",
     "output_type": "stream",
     "text": [
      "OvR SVM Training: 100%|██████████| 3/3 [00:49<00:00, 16.38s/it]\n",
      "Grid Search CV:  40%|████      | 12/30 [1:02:18<1:31:22, 304.58s/it]"
     ]
    },
    {
     "name": "stdout",
     "output_type": "stream",
     "text": [
      "CV Scores: [0.94791667 0.92916667 0.91666667 0.92708333 0.92708333]\n",
      "Mean: 0.9296 (+/- 0.0203)\n",
      "\n",
      "Evaluating: {'kernel': 'poly', 'C': 1.0, 'gamma': 0.01, 'degree': 3}\n",
      "Training 3 OvR SVM models...\n",
      "\n"
     ]
    },
    {
     "name": "stderr",
     "output_type": "stream",
     "text": [
      "OvR SVM Training: 100%|██████████| 3/3 [00:59<00:00, 19.89s/it]\n"
     ]
    },
    {
     "name": "stdout",
     "output_type": "stream",
     "text": [
      "Training 3 OvR SVM models...\n",
      "\n"
     ]
    },
    {
     "name": "stderr",
     "output_type": "stream",
     "text": [
      "OvR SVM Training: 100%|██████████| 3/3 [01:09<00:00, 23.02s/it]\n"
     ]
    },
    {
     "name": "stdout",
     "output_type": "stream",
     "text": [
      "Training 3 OvR SVM models...\n",
      "\n"
     ]
    },
    {
     "name": "stderr",
     "output_type": "stream",
     "text": [
      "OvR SVM Training: 100%|██████████| 3/3 [01:04<00:00, 21.55s/it]\n"
     ]
    },
    {
     "name": "stdout",
     "output_type": "stream",
     "text": [
      "Training 3 OvR SVM models...\n",
      "\n"
     ]
    },
    {
     "name": "stderr",
     "output_type": "stream",
     "text": [
      "OvR SVM Training: 100%|██████████| 3/3 [00:57<00:00, 19.00s/it]\n"
     ]
    },
    {
     "name": "stdout",
     "output_type": "stream",
     "text": [
      "Training 3 OvR SVM models...\n",
      "\n"
     ]
    },
    {
     "name": "stderr",
     "output_type": "stream",
     "text": [
      "OvR SVM Training: 100%|██████████| 3/3 [00:48<00:00, 16.11s/it]\n",
      "Grid Search CV:  43%|████▎     | 13/30 [1:07:24<1:26:24, 305.00s/it]"
     ]
    },
    {
     "name": "stdout",
     "output_type": "stream",
     "text": [
      "CV Scores: [0.95416667 0.95833333 0.94583333 0.925      0.94791667]\n",
      "Mean: 0.9463 (+/- 0.0230)\n",
      "\n",
      "Evaluating: {'kernel': 'poly', 'C': 1.0, 'gamma': 0.1, 'degree': 2}\n",
      "Training 3 OvR SVM models...\n",
      "\n"
     ]
    },
    {
     "name": "stderr",
     "output_type": "stream",
     "text": [
      "OvR SVM Training: 100%|██████████| 3/3 [01:43<00:00, 34.57s/it]\n"
     ]
    },
    {
     "name": "stdout",
     "output_type": "stream",
     "text": [
      "Training 3 OvR SVM models...\n",
      "\n"
     ]
    },
    {
     "name": "stderr",
     "output_type": "stream",
     "text": [
      "OvR SVM Training: 100%|██████████| 3/3 [00:54<00:00, 18.28s/it]\n"
     ]
    },
    {
     "name": "stdout",
     "output_type": "stream",
     "text": [
      "Training 3 OvR SVM models...\n",
      "\n"
     ]
    },
    {
     "name": "stderr",
     "output_type": "stream",
     "text": [
      "OvR SVM Training: 100%|██████████| 3/3 [01:02<00:00, 20.75s/it]\n"
     ]
    },
    {
     "name": "stdout",
     "output_type": "stream",
     "text": [
      "Training 3 OvR SVM models...\n",
      "\n"
     ]
    },
    {
     "name": "stderr",
     "output_type": "stream",
     "text": [
      "OvR SVM Training: 100%|██████████| 3/3 [00:44<00:00, 14.79s/it]\n"
     ]
    },
    {
     "name": "stdout",
     "output_type": "stream",
     "text": [
      "Training 3 OvR SVM models...\n",
      "\n"
     ]
    },
    {
     "name": "stderr",
     "output_type": "stream",
     "text": [
      "OvR SVM Training: 100%|██████████| 3/3 [00:47<00:00, 15.81s/it]\n",
      "Grid Search CV:  47%|████▋     | 14/30 [1:12:38<1:22:05, 307.87s/it]"
     ]
    },
    {
     "name": "stdout",
     "output_type": "stream",
     "text": [
      "CV Scores: [0.97083333 0.98125    0.97708333 0.9625     0.98125   ]\n",
      "Mean: 0.9746 (+/- 0.0143)\n",
      "★ New best score: 0.9746\n",
      "\n",
      "Evaluating: {'kernel': 'poly', 'C': 1.0, 'gamma': 0.1, 'degree': 3}\n",
      "Training 3 OvR SVM models...\n",
      "\n"
     ]
    },
    {
     "name": "stderr",
     "output_type": "stream",
     "text": [
      "OvR SVM Training: 100%|██████████| 3/3 [01:03<00:00, 21.11s/it]\n"
     ]
    },
    {
     "name": "stdout",
     "output_type": "stream",
     "text": [
      "Training 3 OvR SVM models...\n",
      "\n"
     ]
    },
    {
     "name": "stderr",
     "output_type": "stream",
     "text": [
      "OvR SVM Training: 100%|██████████| 3/3 [00:48<00:00, 16.18s/it]\n"
     ]
    },
    {
     "name": "stdout",
     "output_type": "stream",
     "text": [
      "Training 3 OvR SVM models...\n",
      "\n"
     ]
    },
    {
     "name": "stderr",
     "output_type": "stream",
     "text": [
      "OvR SVM Training: 100%|██████████| 3/3 [00:47<00:00, 15.83s/it]\n"
     ]
    },
    {
     "name": "stdout",
     "output_type": "stream",
     "text": [
      "Training 3 OvR SVM models...\n",
      "\n"
     ]
    },
    {
     "name": "stderr",
     "output_type": "stream",
     "text": [
      "OvR SVM Training: 100%|██████████| 3/3 [01:01<00:00, 20.56s/it]\n"
     ]
    },
    {
     "name": "stdout",
     "output_type": "stream",
     "text": [
      "Training 3 OvR SVM models...\n",
      "\n"
     ]
    },
    {
     "name": "stderr",
     "output_type": "stream",
     "text": [
      "OvR SVM Training: 100%|██████████| 3/3 [00:47<00:00, 15.90s/it]\n",
      "Grid Search CV:  50%|█████     | 15/30 [1:17:09<1:14:09, 296.60s/it]"
     ]
    },
    {
     "name": "stdout",
     "output_type": "stream",
     "text": [
      "CV Scores: [0.98333333 0.9875     0.98333333 0.96041667 0.98541667]\n",
      "Mean: 0.9800 (+/- 0.0198)\n",
      "★ New best score: 0.9800\n",
      "\n",
      "Evaluating: {'kernel': 'poly', 'C': 10.0, 'gamma': 0.001, 'degree': 2}\n",
      "Training 3 OvR SVM models...\n",
      "\n"
     ]
    },
    {
     "name": "stderr",
     "output_type": "stream",
     "text": [
      "OvR SVM Training: 100%|██████████| 3/3 [00:53<00:00, 17.72s/it]\n"
     ]
    },
    {
     "name": "stdout",
     "output_type": "stream",
     "text": [
      "Training 3 OvR SVM models...\n",
      "\n"
     ]
    },
    {
     "name": "stderr",
     "output_type": "stream",
     "text": [
      "OvR SVM Training: 100%|██████████| 3/3 [01:00<00:00, 20.03s/it]\n"
     ]
    },
    {
     "name": "stdout",
     "output_type": "stream",
     "text": [
      "Training 3 OvR SVM models...\n",
      "\n"
     ]
    },
    {
     "name": "stderr",
     "output_type": "stream",
     "text": [
      "OvR SVM Training: 100%|██████████| 3/3 [01:03<00:00, 21.06s/it]\n"
     ]
    },
    {
     "name": "stdout",
     "output_type": "stream",
     "text": [
      "Training 3 OvR SVM models...\n",
      "\n"
     ]
    },
    {
     "name": "stderr",
     "output_type": "stream",
     "text": [
      "OvR SVM Training: 100%|██████████| 3/3 [01:14<00:00, 24.72s/it]\n"
     ]
    },
    {
     "name": "stdout",
     "output_type": "stream",
     "text": [
      "Training 3 OvR SVM models...\n",
      "\n"
     ]
    },
    {
     "name": "stderr",
     "output_type": "stream",
     "text": [
      "OvR SVM Training: 100%|██████████| 3/3 [01:01<00:00, 20.63s/it]\n",
      "Grid Search CV:  53%|█████▎    | 16/30 [1:22:32<1:11:03, 304.54s/it]"
     ]
    },
    {
     "name": "stdout",
     "output_type": "stream",
     "text": [
      "CV Scores: [0.92916667 0.90625    0.90416667 0.89791667 0.89583333]\n",
      "Mean: 0.9067 (+/- 0.0238)\n",
      "\n",
      "Evaluating: {'kernel': 'poly', 'C': 10.0, 'gamma': 0.001, 'degree': 3}\n",
      "Training 3 OvR SVM models...\n",
      "\n"
     ]
    },
    {
     "name": "stderr",
     "output_type": "stream",
     "text": [
      "OvR SVM Training: 100%|██████████| 3/3 [01:59<00:00, 40.00s/it]\n"
     ]
    },
    {
     "name": "stdout",
     "output_type": "stream",
     "text": [
      "Training 3 OvR SVM models...\n",
      "\n"
     ]
    },
    {
     "name": "stderr",
     "output_type": "stream",
     "text": [
      "OvR SVM Training: 100%|██████████| 3/3 [02:00<00:00, 40.28s/it]\n"
     ]
    },
    {
     "name": "stdout",
     "output_type": "stream",
     "text": [
      "Training 3 OvR SVM models...\n",
      "\n"
     ]
    },
    {
     "name": "stderr",
     "output_type": "stream",
     "text": [
      "OvR SVM Training: 100%|██████████| 3/3 [00:51<00:00, 17.13s/it]\n"
     ]
    },
    {
     "name": "stdout",
     "output_type": "stream",
     "text": [
      "Training 3 OvR SVM models...\n",
      "\n"
     ]
    },
    {
     "name": "stderr",
     "output_type": "stream",
     "text": [
      "OvR SVM Training: 100%|██████████| 3/3 [00:54<00:00, 18.18s/it]\n"
     ]
    },
    {
     "name": "stdout",
     "output_type": "stream",
     "text": [
      "Training 3 OvR SVM models...\n",
      "\n"
     ]
    },
    {
     "name": "stderr",
     "output_type": "stream",
     "text": [
      "OvR SVM Training: 100%|██████████| 3/3 [00:52<00:00, 17.44s/it]\n",
      "Grid Search CV:  57%|█████▋    | 17/30 [1:29:18<1:12:34, 335.00s/it]"
     ]
    },
    {
     "name": "stdout",
     "output_type": "stream",
     "text": [
      "CV Scores: [0.94166667 0.9125     0.90625    0.9125     0.9       ]\n",
      "Mean: 0.9146 (+/- 0.0286)\n",
      "\n",
      "Evaluating: {'kernel': 'poly', 'C': 10.0, 'gamma': 0.01, 'degree': 2}\n",
      "Training 3 OvR SVM models...\n",
      "\n"
     ]
    },
    {
     "name": "stderr",
     "output_type": "stream",
     "text": [
      "OvR SVM Training: 100%|██████████| 3/3 [01:21<00:00, 27.22s/it]\n"
     ]
    },
    {
     "name": "stdout",
     "output_type": "stream",
     "text": [
      "Training 3 OvR SVM models...\n",
      "\n"
     ]
    },
    {
     "name": "stderr",
     "output_type": "stream",
     "text": [
      "OvR SVM Training: 100%|██████████| 3/3 [01:42<00:00, 34.02s/it]\n"
     ]
    },
    {
     "name": "stdout",
     "output_type": "stream",
     "text": [
      "Training 3 OvR SVM models...\n",
      "\n"
     ]
    },
    {
     "name": "stderr",
     "output_type": "stream",
     "text": [
      "OvR SVM Training: 100%|██████████| 3/3 [00:52<00:00, 17.38s/it]\n"
     ]
    },
    {
     "name": "stdout",
     "output_type": "stream",
     "text": [
      "Training 3 OvR SVM models...\n",
      "\n"
     ]
    },
    {
     "name": "stderr",
     "output_type": "stream",
     "text": [
      "OvR SVM Training: 100%|██████████| 3/3 [01:25<00:00, 28.54s/it]\n"
     ]
    },
    {
     "name": "stdout",
     "output_type": "stream",
     "text": [
      "Training 3 OvR SVM models...\n",
      "\n"
     ]
    },
    {
     "name": "stderr",
     "output_type": "stream",
     "text": [
      "OvR SVM Training: 100%|██████████| 3/3 [02:26<00:00, 48.84s/it]\n",
      "Grid Search CV:  60%|██████    | 18/30 [1:37:10<1:15:15, 376.25s/it]"
     ]
    },
    {
     "name": "stdout",
     "output_type": "stream",
     "text": [
      "CV Scores: [0.96458333 0.96875    0.97083333 0.94583333 0.96041667]\n",
      "Mean: 0.9621 (+/- 0.0178)\n",
      "\n",
      "Evaluating: {'kernel': 'poly', 'C': 10.0, 'gamma': 0.01, 'degree': 3}\n",
      "Training 3 OvR SVM models...\n",
      "\n"
     ]
    },
    {
     "name": "stderr",
     "output_type": "stream",
     "text": [
      "OvR SVM Training: 100%|██████████| 3/3 [00:51<00:00, 17.22s/it]\n"
     ]
    },
    {
     "name": "stdout",
     "output_type": "stream",
     "text": [
      "Training 3 OvR SVM models...\n",
      "\n"
     ]
    },
    {
     "name": "stderr",
     "output_type": "stream",
     "text": [
      "OvR SVM Training: 100%|██████████| 3/3 [02:13<00:00, 44.58s/it]\n"
     ]
    },
    {
     "name": "stdout",
     "output_type": "stream",
     "text": [
      "Training 3 OvR SVM models...\n",
      "\n"
     ]
    },
    {
     "name": "stderr",
     "output_type": "stream",
     "text": [
      "OvR SVM Training: 100%|██████████| 3/3 [00:54<00:00, 18.28s/it]\n"
     ]
    },
    {
     "name": "stdout",
     "output_type": "stream",
     "text": [
      "Training 3 OvR SVM models...\n",
      "\n"
     ]
    },
    {
     "name": "stderr",
     "output_type": "stream",
     "text": [
      "OvR SVM Training: 100%|██████████| 3/3 [01:02<00:00, 20.88s/it]\n"
     ]
    },
    {
     "name": "stdout",
     "output_type": "stream",
     "text": [
      "Training 3 OvR SVM models...\n",
      "\n"
     ]
    },
    {
     "name": "stderr",
     "output_type": "stream",
     "text": [
      "OvR SVM Training: 100%|██████████| 3/3 [01:12<00:00, 24.04s/it]\n",
      "Grid Search CV:  63%|██████▎   | 19/30 [1:43:30<1:09:10, 377.33s/it]"
     ]
    },
    {
     "name": "stdout",
     "output_type": "stream",
     "text": [
      "CV Scores: [0.96875    0.975      0.975      0.95625    0.97708333]\n",
      "Mean: 0.9704 (+/- 0.0152)\n",
      "\n",
      "Evaluating: {'kernel': 'poly', 'C': 10.0, 'gamma': 0.1, 'degree': 2}\n",
      "Training 3 OvR SVM models...\n",
      "\n"
     ]
    },
    {
     "name": "stderr",
     "output_type": "stream",
     "text": [
      "OvR SVM Training: 100%|██████████| 3/3 [02:17<00:00, 45.73s/it]\n"
     ]
    },
    {
     "name": "stdout",
     "output_type": "stream",
     "text": [
      "Training 3 OvR SVM models...\n",
      "\n"
     ]
    },
    {
     "name": "stderr",
     "output_type": "stream",
     "text": [
      "OvR SVM Training: 100%|██████████| 3/3 [00:46<00:00, 15.34s/it]\n"
     ]
    },
    {
     "name": "stdout",
     "output_type": "stream",
     "text": [
      "Training 3 OvR SVM models...\n",
      "\n"
     ]
    },
    {
     "name": "stderr",
     "output_type": "stream",
     "text": [
      "OvR SVM Training: 100%|██████████| 3/3 [00:47<00:00, 15.83s/it]\n"
     ]
    },
    {
     "name": "stdout",
     "output_type": "stream",
     "text": [
      "Training 3 OvR SVM models...\n",
      "\n"
     ]
    },
    {
     "name": "stderr",
     "output_type": "stream",
     "text": [
      "OvR SVM Training: 100%|██████████| 3/3 [00:48<00:00, 16.29s/it]\n"
     ]
    },
    {
     "name": "stdout",
     "output_type": "stream",
     "text": [
      "Training 3 OvR SVM models...\n",
      "\n"
     ]
    },
    {
     "name": "stderr",
     "output_type": "stream",
     "text": [
      "OvR SVM Training: 100%|██████████| 3/3 [00:48<00:00, 16.25s/it]\n",
      "Grid Search CV:  67%|██████▋   | 20/30 [1:48:59<1:00:30, 363.03s/it]"
     ]
    },
    {
     "name": "stdout",
     "output_type": "stream",
     "text": [
      "CV Scores: [0.97916667 0.99166667 0.98958333 0.97291667 0.98958333]\n",
      "Mean: 0.9846 (+/- 0.0146)\n",
      "★ New best score: 0.9846\n",
      "\n",
      "Evaluating: {'kernel': 'poly', 'C': 10.0, 'gamma': 0.1, 'degree': 3}\n",
      "Training 3 OvR SVM models...\n",
      "\n"
     ]
    },
    {
     "name": "stderr",
     "output_type": "stream",
     "text": [
      "OvR SVM Training: 100%|██████████| 3/3 [00:47<00:00, 15.87s/it]\n"
     ]
    },
    {
     "name": "stdout",
     "output_type": "stream",
     "text": [
      "Training 3 OvR SVM models...\n",
      "\n"
     ]
    },
    {
     "name": "stderr",
     "output_type": "stream",
     "text": [
      "OvR SVM Training: 100%|██████████| 3/3 [00:48<00:00, 16.26s/it]\n"
     ]
    },
    {
     "name": "stdout",
     "output_type": "stream",
     "text": [
      "Training 3 OvR SVM models...\n",
      "\n"
     ]
    },
    {
     "name": "stderr",
     "output_type": "stream",
     "text": [
      "OvR SVM Training: 100%|██████████| 3/3 [00:48<00:00, 16.16s/it]\n"
     ]
    },
    {
     "name": "stdout",
     "output_type": "stream",
     "text": [
      "Training 3 OvR SVM models...\n",
      "\n"
     ]
    },
    {
     "name": "stderr",
     "output_type": "stream",
     "text": [
      "OvR SVM Training: 100%|██████████| 3/3 [00:47<00:00, 15.87s/it]\n"
     ]
    },
    {
     "name": "stdout",
     "output_type": "stream",
     "text": [
      "Training 3 OvR SVM models...\n",
      "\n"
     ]
    },
    {
     "name": "stderr",
     "output_type": "stream",
     "text": [
      "OvR SVM Training: 100%|██████████| 3/3 [00:48<00:00, 16.33s/it]\n",
      "Grid Search CV:  70%|███████   | 21/30 [1:53:02<49:03, 327.02s/it]  "
     ]
    },
    {
     "name": "stdout",
     "output_type": "stream",
     "text": [
      "CV Scores: [0.98541667 0.98333333 0.99375    0.95416667 0.98958333]\n",
      "Mean: 0.9812 (+/- 0.0280)\n",
      "\n",
      "Evaluating: {'kernel': 'rbf', 'C': 0.1, 'gamma': 0.001}\n",
      "Training 3 OvR SVM models...\n",
      "\n"
     ]
    },
    {
     "name": "stderr",
     "output_type": "stream",
     "text": [
      "OvR SVM Training: 100%|██████████| 3/3 [01:27<00:00, 29.02s/it]\n"
     ]
    },
    {
     "name": "stdout",
     "output_type": "stream",
     "text": [
      "Training 3 OvR SVM models...\n",
      "\n"
     ]
    },
    {
     "name": "stderr",
     "output_type": "stream",
     "text": [
      "OvR SVM Training: 100%|██████████| 3/3 [03:22<00:00, 67.44s/it]\n"
     ]
    },
    {
     "name": "stdout",
     "output_type": "stream",
     "text": [
      "Training 3 OvR SVM models...\n",
      "\n"
     ]
    },
    {
     "name": "stderr",
     "output_type": "stream",
     "text": [
      "OvR SVM Training: 100%|██████████| 3/3 [02:39<00:00, 53.20s/it]\n"
     ]
    },
    {
     "name": "stdout",
     "output_type": "stream",
     "text": [
      "Training 3 OvR SVM models...\n",
      "\n"
     ]
    },
    {
     "name": "stderr",
     "output_type": "stream",
     "text": [
      "OvR SVM Training: 100%|██████████| 3/3 [02:17<00:00, 45.92s/it]\n"
     ]
    },
    {
     "name": "stdout",
     "output_type": "stream",
     "text": [
      "Training 3 OvR SVM models...\n",
      "\n"
     ]
    },
    {
     "name": "stderr",
     "output_type": "stream",
     "text": [
      "OvR SVM Training: 100%|██████████| 3/3 [05:05<00:00, 101.96s/it]\n",
      "Grid Search CV:  73%|███████▎  | 22/30 [2:09:41<1:10:27, 528.43s/it]"
     ]
    },
    {
     "name": "stdout",
     "output_type": "stream",
     "text": [
      "CV Scores: [0.86875    0.88541667 0.87083333 0.85       0.84375   ]\n",
      "Mean: 0.8637 (+/- 0.0301)\n",
      "\n",
      "Evaluating: {'kernel': 'rbf', 'C': 0.1, 'gamma': 0.01}\n",
      "Training 3 OvR SVM models...\n",
      "\n"
     ]
    },
    {
     "name": "stderr",
     "output_type": "stream",
     "text": [
      "OvR SVM Training: 100%|██████████| 3/3 [02:36<00:00, 52.30s/it]\n"
     ]
    },
    {
     "name": "stdout",
     "output_type": "stream",
     "text": [
      "Training 3 OvR SVM models...\n",
      "\n"
     ]
    },
    {
     "name": "stderr",
     "output_type": "stream",
     "text": [
      "OvR SVM Training: 100%|██████████| 3/3 [01:44<00:00, 34.73s/it]\n"
     ]
    },
    {
     "name": "stdout",
     "output_type": "stream",
     "text": [
      "Training 3 OvR SVM models...\n",
      "\n"
     ]
    },
    {
     "name": "stderr",
     "output_type": "stream",
     "text": [
      "OvR SVM Training: 100%|██████████| 3/3 [01:17<00:00, 25.83s/it]\n"
     ]
    },
    {
     "name": "stdout",
     "output_type": "stream",
     "text": [
      "Training 3 OvR SVM models...\n",
      "\n"
     ]
    },
    {
     "name": "stderr",
     "output_type": "stream",
     "text": [
      "OvR SVM Training: 100%|██████████| 3/3 [01:16<00:00, 25.42s/it]\n"
     ]
    },
    {
     "name": "stdout",
     "output_type": "stream",
     "text": [
      "Training 3 OvR SVM models...\n",
      "\n"
     ]
    },
    {
     "name": "stderr",
     "output_type": "stream",
     "text": [
      "OvR SVM Training: 100%|██████████| 3/3 [01:19<00:00, 26.35s/it]\n",
      "Grid Search CV:  77%|███████▋  | 23/30 [2:18:15<1:01:09, 524.19s/it]"
     ]
    },
    {
     "name": "stdout",
     "output_type": "stream",
     "text": [
      "CV Scores: [0.90833333 0.91875    0.90625    0.88125    0.88541667]\n",
      "Mean: 0.9000 (+/- 0.0286)\n",
      "\n",
      "Evaluating: {'kernel': 'rbf', 'C': 0.1, 'gamma': 0.1}\n",
      "Training 3 OvR SVM models...\n",
      "\n"
     ]
    },
    {
     "name": "stderr",
     "output_type": "stream",
     "text": [
      "OvR SVM Training: 100%|██████████| 3/3 [03:26<00:00, 68.72s/it]\n"
     ]
    },
    {
     "name": "stdout",
     "output_type": "stream",
     "text": [
      "Training 3 OvR SVM models...\n",
      "\n"
     ]
    },
    {
     "name": "stderr",
     "output_type": "stream",
     "text": [
      "OvR SVM Training: 100%|██████████| 3/3 [02:12<00:00, 44.03s/it]\n"
     ]
    },
    {
     "name": "stdout",
     "output_type": "stream",
     "text": [
      "Training 3 OvR SVM models...\n",
      "\n"
     ]
    },
    {
     "name": "stderr",
     "output_type": "stream",
     "text": [
      "OvR SVM Training: 100%|██████████| 3/3 [01:27<00:00, 29.01s/it]\n"
     ]
    },
    {
     "name": "stdout",
     "output_type": "stream",
     "text": [
      "Training 3 OvR SVM models...\n",
      "\n"
     ]
    },
    {
     "name": "stderr",
     "output_type": "stream",
     "text": [
      "OvR SVM Training: 100%|██████████| 3/3 [02:43<00:00, 54.58s/it]\n"
     ]
    },
    {
     "name": "stdout",
     "output_type": "stream",
     "text": [
      "Training 3 OvR SVM models...\n",
      "\n"
     ]
    },
    {
     "name": "stderr",
     "output_type": "stream",
     "text": [
      "OvR SVM Training: 100%|██████████| 3/3 [02:01<00:00, 40.34s/it]\n",
      "Grid Search CV:  80%|████████  | 24/30 [2:30:51<59:22, 593.69s/it]  "
     ]
    },
    {
     "name": "stdout",
     "output_type": "stream",
     "text": [
      "CV Scores: [0.94166667 0.95625    0.95       0.92708333 0.93541667]\n",
      "Mean: 0.9421 (+/- 0.0206)\n",
      "\n",
      "Evaluating: {'kernel': 'rbf', 'C': 1.0, 'gamma': 0.001}\n",
      "Training 3 OvR SVM models...\n",
      "\n"
     ]
    },
    {
     "name": "stderr",
     "output_type": "stream",
     "text": [
      "OvR SVM Training: 100%|██████████| 3/3 [01:18<00:00, 26.26s/it]\n"
     ]
    },
    {
     "name": "stdout",
     "output_type": "stream",
     "text": [
      "Training 3 OvR SVM models...\n",
      "\n"
     ]
    },
    {
     "name": "stderr",
     "output_type": "stream",
     "text": [
      "OvR SVM Training: 100%|██████████| 3/3 [01:52<00:00, 37.39s/it]\n"
     ]
    },
    {
     "name": "stdout",
     "output_type": "stream",
     "text": [
      "Training 3 OvR SVM models...\n",
      "\n"
     ]
    },
    {
     "name": "stderr",
     "output_type": "stream",
     "text": [
      "OvR SVM Training: 100%|██████████| 3/3 [01:29<00:00, 29.72s/it]\n"
     ]
    },
    {
     "name": "stdout",
     "output_type": "stream",
     "text": [
      "Training 3 OvR SVM models...\n",
      "\n"
     ]
    },
    {
     "name": "stderr",
     "output_type": "stream",
     "text": [
      "OvR SVM Training: 100%|██████████| 3/3 [01:25<00:00, 28.66s/it]\n"
     ]
    },
    {
     "name": "stdout",
     "output_type": "stream",
     "text": [
      "Training 3 OvR SVM models...\n",
      "\n"
     ]
    },
    {
     "name": "stderr",
     "output_type": "stream",
     "text": [
      "OvR SVM Training: 100%|██████████| 3/3 [01:18<00:00, 26.05s/it]\n",
      "Grid Search CV:  83%|████████▎ | 25/30 [2:38:48<46:33, 558.67s/it]"
     ]
    },
    {
     "name": "stdout",
     "output_type": "stream",
     "text": [
      "CV Scores: [0.89583333 0.9        0.89166667 0.86458333 0.85625   ]\n",
      "Mean: 0.8817 (+/- 0.0355)\n",
      "\n",
      "Evaluating: {'kernel': 'rbf', 'C': 1.0, 'gamma': 0.01}\n",
      "Training 3 OvR SVM models...\n",
      "\n"
     ]
    },
    {
     "name": "stderr",
     "output_type": "stream",
     "text": [
      "OvR SVM Training: 100%|██████████| 3/3 [01:32<00:00, 30.86s/it]\n"
     ]
    },
    {
     "name": "stdout",
     "output_type": "stream",
     "text": [
      "Training 3 OvR SVM models...\n",
      "\n"
     ]
    },
    {
     "name": "stderr",
     "output_type": "stream",
     "text": [
      "OvR SVM Training: 100%|██████████| 3/3 [01:21<00:00, 27.06s/it]\n"
     ]
    },
    {
     "name": "stdout",
     "output_type": "stream",
     "text": [
      "Training 3 OvR SVM models...\n",
      "\n"
     ]
    },
    {
     "name": "stderr",
     "output_type": "stream",
     "text": [
      "OvR SVM Training: 100%|██████████| 3/3 [01:45<00:00, 35.02s/it]\n"
     ]
    },
    {
     "name": "stdout",
     "output_type": "stream",
     "text": [
      "Training 3 OvR SVM models...\n",
      "\n"
     ]
    },
    {
     "name": "stderr",
     "output_type": "stream",
     "text": [
      "OvR SVM Training: 100%|██████████| 3/3 [01:41<00:00, 33.96s/it]\n"
     ]
    },
    {
     "name": "stdout",
     "output_type": "stream",
     "text": [
      "Training 3 OvR SVM models...\n",
      "\n"
     ]
    },
    {
     "name": "stderr",
     "output_type": "stream",
     "text": [
      "OvR SVM Training: 100%|██████████| 3/3 [01:34<00:00, 31.37s/it]\n",
      "Grid Search CV:  87%|████████▋ | 26/30 [2:46:57<35:51, 537.95s/it]"
     ]
    },
    {
     "name": "stdout",
     "output_type": "stream",
     "text": [
      "CV Scores: [0.94791667 0.94166667 0.93333333 0.92916667 0.93541667]\n",
      "Mean: 0.9375 (+/- 0.0132)\n",
      "\n",
      "Evaluating: {'kernel': 'rbf', 'C': 1.0, 'gamma': 0.1}\n",
      "Training 3 OvR SVM models...\n",
      "\n"
     ]
    },
    {
     "name": "stderr",
     "output_type": "stream",
     "text": [
      "OvR SVM Training: 100%|██████████| 3/3 [01:45<00:00, 35.16s/it]\n"
     ]
    },
    {
     "name": "stdout",
     "output_type": "stream",
     "text": [
      "Training 3 OvR SVM models...\n",
      "\n"
     ]
    },
    {
     "name": "stderr",
     "output_type": "stream",
     "text": [
      "OvR SVM Training: 100%|██████████| 3/3 [02:26<00:00, 48.77s/it]\n"
     ]
    },
    {
     "name": "stdout",
     "output_type": "stream",
     "text": [
      "Training 3 OvR SVM models...\n",
      "\n"
     ]
    },
    {
     "name": "stderr",
     "output_type": "stream",
     "text": [
      "OvR SVM Training: 100%|██████████| 3/3 [01:29<00:00, 29.97s/it]\n"
     ]
    },
    {
     "name": "stdout",
     "output_type": "stream",
     "text": [
      "Training 3 OvR SVM models...\n",
      "\n"
     ]
    },
    {
     "name": "stderr",
     "output_type": "stream",
     "text": [
      "OvR SVM Training: 100%|██████████| 3/3 [02:21<00:00, 47.33s/it]\n"
     ]
    },
    {
     "name": "stdout",
     "output_type": "stream",
     "text": [
      "Training 3 OvR SVM models...\n",
      "\n"
     ]
    },
    {
     "name": "stderr",
     "output_type": "stream",
     "text": [
      "OvR SVM Training: 100%|██████████| 3/3 [02:08<00:00, 42.87s/it]\n",
      "Grid Search CV:  90%|█████████ | 27/30 [2:57:39<28:27, 569.14s/it]"
     ]
    },
    {
     "name": "stdout",
     "output_type": "stream",
     "text": [
      "CV Scores: [0.975      0.97708333 0.98541667 0.95416667 0.98958333]\n",
      "Mean: 0.9762 (+/- 0.0245)\n",
      "\n",
      "Evaluating: {'kernel': 'rbf', 'C': 10.0, 'gamma': 0.001}\n",
      "Training 3 OvR SVM models...\n",
      "\n"
     ]
    },
    {
     "name": "stderr",
     "output_type": "stream",
     "text": [
      "OvR SVM Training: 100%|██████████| 3/3 [04:49<00:00, 96.38s/it]\n"
     ]
    },
    {
     "name": "stdout",
     "output_type": "stream",
     "text": [
      "Training 3 OvR SVM models...\n",
      "\n"
     ]
    },
    {
     "name": "stderr",
     "output_type": "stream",
     "text": [
      "OvR SVM Training: 100%|██████████| 3/3 [04:46<00:00, 95.67s/it]\n"
     ]
    },
    {
     "name": "stdout",
     "output_type": "stream",
     "text": [
      "Training 3 OvR SVM models...\n",
      "\n"
     ]
    },
    {
     "name": "stderr",
     "output_type": "stream",
     "text": [
      "OvR SVM Training: 100%|██████████| 3/3 [03:46<00:00, 75.54s/it]\n"
     ]
    },
    {
     "name": "stdout",
     "output_type": "stream",
     "text": [
      "Training 3 OvR SVM models...\n",
      "\n"
     ]
    },
    {
     "name": "stderr",
     "output_type": "stream",
     "text": [
      "OvR SVM Training: 100%|██████████| 3/3 [04:00<00:00, 80.04s/it]\n"
     ]
    },
    {
     "name": "stdout",
     "output_type": "stream",
     "text": [
      "Training 3 OvR SVM models...\n",
      "\n"
     ]
    },
    {
     "name": "stderr",
     "output_type": "stream",
     "text": [
      "OvR SVM Training: 100%|██████████| 3/3 [02:00<00:00, 40.15s/it]\n",
      "Grid Search CV:  93%|█████████▎| 28/30 [3:17:39<25:16, 758.37s/it]"
     ]
    },
    {
     "name": "stdout",
     "output_type": "stream",
     "text": [
      "CV Scores: [0.93333333 0.91041667 0.9        0.90416667 0.90208333]\n",
      "Mean: 0.9100 (+/- 0.0244)\n",
      "\n",
      "Evaluating: {'kernel': 'rbf', 'C': 10.0, 'gamma': 0.01}\n",
      "Training 3 OvR SVM models...\n",
      "\n"
     ]
    },
    {
     "name": "stderr",
     "output_type": "stream",
     "text": [
      "OvR SVM Training: 100%|██████████| 3/3 [01:26<00:00, 28.89s/it]\n"
     ]
    },
    {
     "name": "stdout",
     "output_type": "stream",
     "text": [
      "Training 3 OvR SVM models...\n",
      "\n"
     ]
    },
    {
     "name": "stderr",
     "output_type": "stream",
     "text": [
      "OvR SVM Training: 100%|██████████| 3/3 [02:07<00:00, 42.52s/it]\n"
     ]
    },
    {
     "name": "stdout",
     "output_type": "stream",
     "text": [
      "Training 3 OvR SVM models...\n",
      "\n"
     ]
    },
    {
     "name": "stderr",
     "output_type": "stream",
     "text": [
      "OvR SVM Training: 100%|██████████| 3/3 [03:14<00:00, 64.77s/it]\n"
     ]
    },
    {
     "name": "stdout",
     "output_type": "stream",
     "text": [
      "Training 3 OvR SVM models...\n",
      "\n"
     ]
    },
    {
     "name": "stderr",
     "output_type": "stream",
     "text": [
      "OvR SVM Training: 100%|██████████| 3/3 [01:26<00:00, 28.71s/it]\n"
     ]
    },
    {
     "name": "stdout",
     "output_type": "stream",
     "text": [
      "Training 3 OvR SVM models...\n",
      "\n"
     ]
    },
    {
     "name": "stderr",
     "output_type": "stream",
     "text": [
      "OvR SVM Training: 100%|██████████| 3/3 [01:31<00:00, 30.46s/it]\n",
      "Grid Search CV:  97%|█████████▋| 29/30 [3:27:37<11:50, 710.17s/it]"
     ]
    },
    {
     "name": "stdout",
     "output_type": "stream",
     "text": [
      "CV Scores: [0.96666667 0.96875    0.97083333 0.95208333 0.96875   ]\n",
      "Mean: 0.9654 (+/- 0.0136)\n",
      "\n",
      "Evaluating: {'kernel': 'rbf', 'C': 10.0, 'gamma': 0.1}\n",
      "Training 3 OvR SVM models...\n",
      "\n"
     ]
    },
    {
     "name": "stderr",
     "output_type": "stream",
     "text": [
      "OvR SVM Training: 100%|██████████| 3/3 [01:17<00:00, 25.85s/it]\n"
     ]
    },
    {
     "name": "stdout",
     "output_type": "stream",
     "text": [
      "Training 3 OvR SVM models...\n",
      "\n"
     ]
    },
    {
     "name": "stderr",
     "output_type": "stream",
     "text": [
      "OvR SVM Training: 100%|██████████| 3/3 [01:45<00:00, 35.14s/it]\n"
     ]
    },
    {
     "name": "stdout",
     "output_type": "stream",
     "text": [
      "Training 3 OvR SVM models...\n",
      "\n"
     ]
    },
    {
     "name": "stderr",
     "output_type": "stream",
     "text": [
      "OvR SVM Training: 100%|██████████| 3/3 [01:16<00:00, 25.59s/it]\n"
     ]
    },
    {
     "name": "stdout",
     "output_type": "stream",
     "text": [
      "Training 3 OvR SVM models...\n",
      "\n"
     ]
    },
    {
     "name": "stderr",
     "output_type": "stream",
     "text": [
      "OvR SVM Training: 100%|██████████| 3/3 [01:16<00:00, 25.37s/it]\n"
     ]
    },
    {
     "name": "stdout",
     "output_type": "stream",
     "text": [
      "Training 3 OvR SVM models...\n",
      "\n"
     ]
    },
    {
     "name": "stderr",
     "output_type": "stream",
     "text": [
      "OvR SVM Training: 100%|██████████| 3/3 [01:16<00:00, 25.47s/it]\n",
      "Grid Search CV: 100%|██████████| 30/30 [3:34:41<00:00, 429.40s/it]\n"
     ]
    },
    {
     "name": "stdout",
     "output_type": "stream",
     "text": [
      "CV Scores: [0.97916667 0.99166667 0.98958333 0.96458333 0.99375   ]\n",
      "Mean: 0.9838 (+/- 0.0216)\n",
      "\n",
      "Refitting model with best parameters on full training set...\n",
      "Training 3 OvR SVM models...\n",
      "\n"
     ]
    },
    {
     "name": "stderr",
     "output_type": "stream",
     "text": [
      "OvR SVM Training: 100%|██████████| 3/3 [01:37<00:00, 32.45s/it]\n"
     ]
    },
    {
     "name": "stdout",
     "output_type": "stream",
     "text": [
      "\n",
      "GRID SEARCH RESULTS\n",
      "\n",
      "Best parameters: {'kernel': 'poly', 'C': 10.0, 'gamma': 0.1, 'degree': 2}\n",
      "Best cross-validation score: 0.9846\n",
      "\n",
      "Top 5 parameter combinations:\n",
      "1. {'kernel': 'poly', 'C': 10.0, 'gamma': 0.1, 'degree': 2}\n",
      "   Score: 0.9846 (+/- 0.0146)\n",
      "2. {'kernel': 'rbf', 'C': 10.0, 'gamma': 0.1}\n",
      "   Score: 0.9838 (+/- 0.0216)\n",
      "3. {'kernel': 'poly', 'C': 10.0, 'gamma': 0.1, 'degree': 3}\n",
      "   Score: 0.9812 (+/- 0.0280)\n",
      "4. {'kernel': 'poly', 'C': 1.0, 'gamma': 0.1, 'degree': 3}\n",
      "   Score: 0.9800 (+/- 0.0198)\n",
      "5. {'kernel': 'rbf', 'C': 1.0, 'gamma': 0.1}\n",
      "   Score: 0.9762 (+/- 0.0245)\n",
      "\n",
      "FINAL EVALUATION ON TEST SET\n",
      "\n",
      "Best CV score (on training data): 0.9846\n",
      "Test score (on unseen data): 0.9917\n",
      "CV vs Test gap: -0.0071\n",
      "✅ Good model generalization - similar CV and test performance\n",
      "\n",
      "Best Parameters: {'kernel': 'poly', 'C': 10.0, 'gamma': 0.1, 'degree': 2}\n",
      "Best CV Score: 0.9846\n",
      "Test Score: 0.9917\n"
     ]
    }
   ],
   "source": [
    "# Jalankan Grid Search CV (seperti sklearn)\n",
    "param_grid = {\n",
    "    'kernel': ['linear', 'poly', 'rbf'],\n",
    "    'C': [0.1, 1.0, 10.0],\n",
    "    'gamma': [0.001, 0.01, 0.1],\n",
    "    'degree': [2, 3],\n",
    "}\n",
    "\n",
    "print(\"GRID SEARCH CROSS VALIDATION\\n\")\n",
    "\n",
    "# Grid search hanya menggunakan training data\n",
    "best_model, best_params, best_cv_score, cv_results = grid_search_cv(\n",
    "    X_train, y_train, param_grid, cv=5, random_state=42\n",
    ")\n",
    "\n",
    "# Evaluasi final pada test set (data yang benar-benar unseen)\n",
    "print(\"\\nFINAL EVALUATION ON TEST SET\\n\")\n",
    "\n",
    "y_test_pred = best_model.predict(X_test)\n",
    "test_score = accuracy_score(y_test, y_test_pred)\n",
    "\n",
    "print(f\"Best CV score (on training data): {best_cv_score:.4f}\")\n",
    "print(f\"Test score (on unseen data): {test_score:.4f}\")\n",
    "\n",
    "# Performance analysis\n",
    "cv_test_gap = best_cv_score - test_score\n",
    "print(f\"CV vs Test gap: {cv_test_gap:.4f}\")\n",
    "\n",
    "if cv_test_gap > 0.05:\n",
    "    print(\"⚠️  Warning: Large gap between CV and test scores may indicate overfitting\")\n",
    "elif cv_test_gap < -0.02:\n",
    "    print(\"⚠️  Note: Test score higher than CV score - good generalization\")\n",
    "else:\n",
    "    print(\"✅ Good model generalization - similar CV and test performance\")\n",
    "\n",
    "print(f\"\\nBest Parameters: {best_params}\")\n",
    "print(f\"Best CV Score: {best_cv_score:.4f}\")\n",
    "print(f\"Test Score: {test_score:.4f}\")"
   ]
  },
  {
   "cell_type": "markdown",
   "id": "c253938a",
   "metadata": {},
   "source": [
    "# **4. Evaluate Model**"
   ]
  },
  {
   "cell_type": "markdown",
   "id": "d514bc66",
   "metadata": {},
   "source": [
    "### **4.1. Labels Prediction**"
   ]
  },
  {
   "cell_type": "code",
   "execution_count": 30,
   "id": "6a6381db",
   "metadata": {},
   "outputs": [
    {
     "name": "stdout",
     "output_type": "stream",
     "text": [
      "Training 3 OvR SVM models...\n",
      "\n"
     ]
    },
    {
     "name": "stderr",
     "output_type": "stream",
     "text": [
      "OvR SVM Training: 100%|██████████| 3/3 [01:25<00:00, 28.49s/it]\n"
     ]
    }
   ],
   "source": [
    "best_model = SVM(**best_params)\n",
    "best_model.fit(X_train, y_train)"
   ]
  },
  {
   "cell_type": "code",
   "execution_count": 31,
   "id": "1fd34b66",
   "metadata": {},
   "outputs": [
    {
     "name": "stdout",
     "output_type": "stream",
     "text": [
      "Accuracy: 99.17%\n"
     ]
    }
   ],
   "source": [
    "y_pred = best_model.predict(X_test)\n",
    "acc = accuracy_score(y_test, y_pred)\n",
    "print(f\"Accuracy: {acc*100:.2f}%\")"
   ]
  },
  {
   "cell_type": "markdown",
   "id": "d05524a1",
   "metadata": {},
   "source": [
    "### **4.2. Metrics Evaluation**"
   ]
  },
  {
   "cell_type": "code",
   "execution_count": null,
   "id": "328e419a",
   "metadata": {},
   "outputs": [
    {
     "name": "stdout",
     "output_type": "stream",
     "text": [
      "DETAILED EVALUATION\n",
      "\n",
      "\n",
      "Test Set Classification Report:\n",
      "              precision    recall  f1-score   support\n",
      "\n",
      "   ambulance       0.99      0.98      0.99       200\n",
      "   firetruck       0.99      0.99      0.99       200\n",
      "     traffic       1.00      1.00      1.00       200\n",
      "\n",
      "    accuracy                           0.99       600\n",
      "   macro avg       0.99      0.99      0.99       600\n",
      "weighted avg       0.99      0.99      0.99       600\n",
      "\n"
     ]
    },
    {
     "data": {
      "image/png": "[encoded data removed]",
      "text/plain": [
       "<Figure size 800x600 with 2 Axes>"
      ]
     },
     "metadata": {},
     "output_type": "display_data"
    },
    {
     "name": "stdout",
     "output_type": "stream",
     "text": [
      "\n",
      "SUMMARY\n",
      "\n",
      "Total samples: 3000\n",
      "Training samples: 2400\n",
      "Test samples: 600\n",
      "Features: 23\n",
      "Classes: 3 (ambulance, firetruck, traffic)\n"
     ]
    }
   ],
   "source": [
    "print(\"DETAILED EVALUATION\\n\")\n",
    "\n",
    "print(\"Test Set Classification Report:\")\n",
    "print(classification_report(y_test, y_pred, target_names=label_encoder.classes_))\n",
    "\n",
    "# Confusion matrix\n",
    "cm = confusion_matrix(y_test, y_pred)\n",
    "plt.figure(figsize=(8, 6))\n",
    "sns.heatmap(cm, annot=True, fmt='d', cmap='Blues', \n",
    "           xticklabels=label_encoder.classes_, yticklabels=label_encoder.classes_)\n",
    "plt.title('Confusion Matrix - SVM (Test Set)')\n",
    "plt.xlabel('Predicted Label')\n",
    "plt.ylabel('True Label')\n",
    "plt.tight_layout()\n",
    "plt.show()\n",
    "\n",
    "# Summary\n",
    "print(\"SUMMARY\\n\")\n",
    "print(f\"Total samples: {X.shape[0]}\")\n",
    "print(f\"Training samples: {X_train.shape[0]}\")\n",
    "print(f\"Test samples: {X_test.shape[0]}\")\n",
    "print(f\"Features: {X_train.shape[1]}\")\n",
    "print(f\"Classes: {len(label_encoder.classes_)} ({', '.join(label_encoder.classes_)})\")"
   ]
  },
  {
   "cell_type": "markdown",
   "id": "6675d7ea",
   "metadata": {},
   "source": [
    "# **5. Export Model**"
   ]
  },
  {
   "cell_type": "code",
   "execution_count": 33,
   "id": "e2aa3487",
   "metadata": {},
   "outputs": [],
   "source": [
    "with open(\"svm_model.pkl\", \"wb\") as f:\n",
    "    pickle.dump(best_model, f)"
   ]
  },
  {
   "cell_type": "code",
   "execution_count": 34,
   "id": "2aee7eb7",
   "metadata": {},
   "outputs": [],
   "source": [
    "with open(\"svm_scaler.pkl\", \"wb\") as f:\n",
    "    pickle.dump(scaler, f)"
   ]
  },
  {
   "cell_type": "code",
   "execution_count": 35,
   "id": "1d3d11f0",
   "metadata": {},
   "outputs": [],
   "source": [
    "with open(\"svm_encoder.pkl\", \"wb\") as f:\n",
    "    pickle.dump(label_encoder, f)"
   ]
  }
 ],
 "metadata": {
  "kernelspec": {
   "display_name": ".venv",
   "language": "python",
   "name": "python3"
  },
  "language_info": {
   "codemirror_mode": {
    "name": "ipython",
    "version": 3
   },
   "file_extension": ".py",
   "mimetype": "text/x-python",
   "name": "python",
   "nbconvert_exporter": "python",
   "pygments_lexer": "ipython3",
   "version": "3.12.4"
  }
 },
 "nbformat": 4,
 "nbformat_minor": 5
}
