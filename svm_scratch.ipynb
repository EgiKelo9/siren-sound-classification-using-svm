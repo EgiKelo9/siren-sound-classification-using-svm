{
 "cells": [
  {
   "cell_type": "markdown",
   "id": "b82f0237",
   "metadata": {},
   "source": [
    "# **0. Import Library**"
   ]
  },
  {
   "cell_type": "code",
   "execution_count": 1,
   "id": "57529c16",
   "metadata": {},
   "outputs": [],
   "source": [
    "import os\n",
    "import numpy as np\n",
    "import pandas as pd\n",
    "import scipy.fftpack\n",
    "import seaborn as sns\n",
    "import cloudpickle as pickle\n",
    "import matplotlib.pyplot as plt\n",
    "from tqdm import tqdm\n",
    "from collections import Counter\n",
    "from scipy.io import wavfile\n",
    "from cvxopt import matrix, solvers\n",
    "from sklearn.model_selection import train_test_split\n",
    "from sklearn.preprocessing import LabelEncoder, StandardScaler\n",
    "from sklearn.metrics import classification_report, confusion_matrix, accuracy_score"
   ]
  },
  {
   "cell_type": "markdown",
   "id": "883a001f",
   "metadata": {},
   "source": [
    "# **1. Data Preprocessing**"
   ]
  },
  {
   "cell_type": "markdown",
   "id": "f22436df",
   "metadata": {},
   "source": [
    "### **1.1. Set Important Variables**"
   ]
  },
  {
   "cell_type": "code",
   "execution_count": 2,
   "id": "8daabf2c",
   "metadata": {},
   "outputs": [],
   "source": [
    "base_path = './sounds/'\n",
    "categories = ['ambulance', 'firetruck', 'traffic']\n",
    "data_path = []\n",
    "labels = []"
   ]
  },
  {
   "cell_type": "markdown",
   "id": "4ff43cda",
   "metadata": {},
   "source": [
    "### **1.2. Load Dataset**"
   ]
  },
  {
   "cell_type": "code",
   "execution_count": 3,
   "id": "3173d2c8",
   "metadata": {},
   "outputs": [],
   "source": [
    "for category in categories:\n",
    "    folder_path = f'sounds/{category}'\n",
    "    for file_name in os.listdir(folder_path):\n",
    "        if file_name.endswith('.wav'):\n",
    "            file_path = os.path.join(folder_path, file_name)\n",
    "            data_path.append(file_path)\n",
    "            labels.append(category)"
   ]
  },
  {
   "cell_type": "code",
   "execution_count": 4,
   "id": "1aa50da5",
   "metadata": {},
   "outputs": [
    {
     "name": "stdout",
     "output_type": "stream",
     "text": [
      "Number of labels: 600\n",
      "Unique labels: {'traffic', 'firetruck', 'ambulance'}\n",
      "Number of each label: {'ambulance': 200, 'firetruck': 200, 'traffic': 200}\n"
     ]
    }
   ],
   "source": [
    "print(f\"Number of labels: {len(labels)}\")\n",
    "print(f\"Unique labels: {set(labels)}\")\n",
    "label_counts = Counter(labels)\n",
    "print(f\"Number of each label: {dict(label_counts)}\")"
   ]
  },
  {
   "cell_type": "markdown",
   "id": "052e79cc",
   "metadata": {},
   "source": [
    "### **1.3. Data Augmentation**"
   ]
  },
  {
   "cell_type": "code",
   "execution_count": 5,
   "id": "2406d09c",
   "metadata": {},
   "outputs": [],
   "source": [
    "def add_noise(signal, noise_level=0.005):\n",
    "    noise = np.random.randn(len(signal))\n",
    "    augmented = signal + noise_level * noise\n",
    "    return augmented.astype(np.float32)\n",
    "\n",
    "def time_stretch(signal, stretch_factor=1.1):\n",
    "    indices = np.arange(0, len(signal), stretch_factor)\n",
    "    indices = indices[indices < len(signal)].astype(int)\n",
    "    return signal[indices]\n",
    "\n",
    "def pitch_shift(signal, sr, n_steps=2):\n",
    "    factor = 2 ** (n_steps / 12)\n",
    "    resampled = scipy.signal.resample(signal, int(len(signal) / factor))\n",
    "    if len(resampled) < len(signal):\n",
    "        pad_width = len(signal) - len(resampled)\n",
    "        resampled = np.pad(resampled, (0, pad_width), mode='constant')\n",
    "    else:\n",
    "        resampled = resampled[:len(signal)]\n",
    "    return resampled.astype(np.float32)\n",
    "\n",
    "def volume_perturb(signal, gain=1.2):\n",
    "    return (signal * gain).astype(np.float32)\n",
    "\n",
    "def fix_len(sig, target_len):\n",
    "    if len(sig) < target_len:\n",
    "        return np.pad(sig, (0, target_len - len(sig)), mode='constant')\n",
    "    else:\n",
    "        return sig[:target_len]"
   ]
  },
  {
   "cell_type": "code",
   "execution_count": 6,
   "id": "fa4b7072",
   "metadata": {},
   "outputs": [],
   "source": [
    "def augment_audio(signal, sr):\n",
    "    aug1 = signal\n",
    "    aug2 = add_noise(signal)\n",
    "    aug3 = time_stretch(signal, 1.1)\n",
    "    aug4 = pitch_shift(signal, sr, n_steps=2)\n",
    "    aug5 = volume_perturb(signal, gain=0.8)\n",
    "\n",
    "    original_len = len(signal)\n",
    "    all_signals = [fix_len(s, original_len) for s in [aug1, aug2, aug3, aug4, aug5]]\n",
    "    return all_signals"
   ]
  },
  {
   "cell_type": "code",
   "execution_count": 7,
   "id": "357c3d62",
   "metadata": {},
   "outputs": [],
   "source": [
    "def load_audio(filepath):\n",
    "    sr, data = wavfile.read(filepath)\n",
    "    if len(data.shape) > 1:\n",
    "        data = data[:, 0]\n",
    "    data = data.astype(np.float32)\n",
    "    return sr, data"
   ]
  },
  {
   "cell_type": "code",
   "execution_count": 8,
   "id": "90506174",
   "metadata": {},
   "outputs": [],
   "source": [
    "def augment_signal(filepath):\n",
    "    sr, signal = load_audio(filepath)\n",
    "    augmented_signals = augment_audio(signal, sr)\n",
    "    sr_signal_pair = []\n",
    "    for aug_signal in augmented_signals:\n",
    "        sr_signal_pair.append((sr, aug_signal))\n",
    "    return sr_signal_pair"
   ]
  },
  {
   "cell_type": "code",
   "execution_count": 9,
   "id": "b09fc85a",
   "metadata": {},
   "outputs": [
    {
     "name": "stderr",
     "output_type": "stream",
     "text": [
      "Augmenting audio files: 100%|██████████| 600/600 [00:11<00:00, 54.29it/s]"
     ]
    },
    {
     "name": "stdout",
     "output_type": "stream",
     "text": [
      "Total augmented samples: 3000\n",
      "      sample_rate                                             signal  \\\n",
      "0           44100  [0.0, 0.0, 0.0, 0.0, 0.0, 0.0, 0.0, 0.0, 0.0, ...   \n",
      "1           44100  [0.0042600557, -0.0020886527, -0.0062843617, -...   \n",
      "2           44100  [0.0, 0.0, 0.0, 0.0, 0.0, 0.0, 0.0, 0.0, 0.0, ...   \n",
      "3           44100  [14.3213005, -4.9273396, 2.7958882, -1.9206804...   \n",
      "4           44100  [0.0, 0.0, 0.0, 0.0, 0.0, 0.0, 0.0, 0.0, 0.0, ...   \n",
      "...           ...                                                ...   \n",
      "2995        44100  [-1113.0, -858.0, -563.0, -230.0, 98.0, 357.0,...   \n",
      "2996        44100  [-1112.9961, -858.0041, -562.9968, -229.99547,...   \n",
      "2997        44100  [-1113.0, -858.0, -563.0, -230.0, 98.0, 357.0,...   \n",
      "2998        44100  [-1075.7485, -837.7126, -476.45578, -110.32513...   \n",
      "2999        44100  [-890.4, -686.4, -450.4, -184.0, 78.4, 285.6, ...   \n",
      "\n",
      "          label  \n",
      "0     ambulance  \n",
      "1     ambulance  \n",
      "2     ambulance  \n",
      "3     ambulance  \n",
      "4     ambulance  \n",
      "...         ...  \n",
      "2995    traffic  \n",
      "2996    traffic  \n",
      "2997    traffic  \n",
      "2998    traffic  \n",
      "2999    traffic  \n",
      "\n",
      "[3000 rows x 3 columns]\n"
     ]
    },
    {
     "name": "stderr",
     "output_type": "stream",
     "text": [
      "\n"
     ]
    }
   ],
   "source": [
    "augmented_data = []\n",
    "for file_path in tqdm(data_path, desc=\"Augmenting audio files\"):\n",
    "    augmented_data.extend(augment_signal(file_path))\n",
    "print(f\"Total augmented samples: {len(augmented_data)}\")\n",
    "\n",
    "augmented_df = pd.DataFrame(augmented_data, columns=['sample_rate', 'signal'])\n",
    "augmented_df['label'] = np.repeat(labels, 5)\n",
    "print(augmented_df)"
   ]
  },
  {
   "cell_type": "markdown",
   "id": "a0562de8",
   "metadata": {},
   "source": [
    "# **2. Feature Extraction**"
   ]
  },
  {
   "cell_type": "markdown",
   "id": "ad12a090",
   "metadata": {},
   "source": [
    "### **2.1. Time Domain**"
   ]
  },
  {
   "cell_type": "code",
   "execution_count": 10,
   "id": "d4d65e18",
   "metadata": {},
   "outputs": [],
   "source": [
    "def time_domain_features(signal):\n",
    "    zcr = np.mean(np.abs(np.diff(np.sign(signal)))) / 2\n",
    "    rms = np.sqrt(np.mean(signal**2))\n",
    "    return zcr, rms"
   ]
  },
  {
   "cell_type": "markdown",
   "id": "04b25fbc",
   "metadata": {},
   "source": [
    "### **2.2. Domain Frekuensi**"
   ]
  },
  {
   "cell_type": "code",
   "execution_count": 11,
   "id": "34029ff0",
   "metadata": {},
   "outputs": [],
   "source": [
    "def frequency_domain_features(signal, sr):\n",
    "    N = len(signal)\n",
    "    fft = np.fft.rfft(signal)\n",
    "    mag = np.abs(fft)\n",
    "    freqs = np.fft.rfftfreq(N, d=1/sr)\n",
    "\n",
    "    spec_centroid = np.sum(freqs * mag) / np.sum(mag)\n",
    "    spec_bandwidth = np.sqrt(np.sum(((freqs - spec_centroid)**2) * mag) / np.sum(mag))\n",
    "    rolloff_thresh = 0.85 * np.sum(mag)\n",
    "    rolloff_freq = freqs[np.where(np.cumsum(mag) >= rolloff_thresh)[0][0]]\n",
    "\n",
    "    return spec_centroid, spec_bandwidth, rolloff_freq"
   ]
  },
  {
   "cell_type": "markdown",
   "id": "491e1686",
   "metadata": {},
   "source": [
    "### **2.3. MFCC Feature**"
   ]
  },
  {
   "cell_type": "code",
   "execution_count": 12,
   "id": "50564fb4",
   "metadata": {},
   "outputs": [],
   "source": [
    "def hz_to_mel(hz): return 2595 * np.log10(1 + hz / 700.0)\n",
    "def mel_to_hz(mel): return 700 * (10**(mel / 2595.0) - 1)\n",
    "\n",
    "def mfcc(signal, sr, n_mfcc=13, n_filters=26, n_fft=512):\n",
    "    # 1. Framing\n",
    "    frame_len = int(0.025 * sr)\n",
    "    frame_step = int(0.010 * sr)\n",
    "    signal_len = len(signal)\n",
    "    num_frames = int(np.ceil(float(np.abs(signal_len - frame_len)) / frame_step)) + 1\n",
    "\n",
    "    pad_len = num_frames * frame_step + frame_len\n",
    "    z = np.zeros((pad_len - signal_len))\n",
    "    pad_signal = np.append(signal, z)\n",
    "\n",
    "    indices = np.tile(np.arange(0, frame_len), (num_frames, 1)) + \\\n",
    "              np.tile(np.arange(0, num_frames * frame_step, frame_step), (frame_len, 1)).T\n",
    "    frames = pad_signal[indices.astype(np.int32, copy=False)]\n",
    "\n",
    "    # 2. Windowing\n",
    "    frames *= np.hamming(frame_len)\n",
    "\n",
    "    # 3. FFT and power spectrum\n",
    "    mag_frames = np.absolute(np.fft.rfft(frames, n_fft))\n",
    "    pow_frames = ((1.0 / n_fft) * (mag_frames ** 2))\n",
    "\n",
    "    # 4. Mel filterbank\n",
    "    low_mel = hz_to_mel(0)\n",
    "    high_mel = hz_to_mel(sr / 2)\n",
    "    mel_points = np.linspace(low_mel, high_mel, n_filters + 2)\n",
    "    hz_points = mel_to_hz(mel_points)\n",
    "    bin = np.floor((n_fft + 1) * hz_points / sr).astype(int)\n",
    "\n",
    "    fbank = np.zeros((n_filters, int(n_fft / 2 + 1)))\n",
    "    for m in range(1, n_filters + 1):\n",
    "        f_m_minus, f_m, f_m_plus = bin[m - 1], bin[m], bin[m + 1]\n",
    "        for k in range(f_m_minus, f_m):\n",
    "            fbank[m - 1, k] = (k - bin[m - 1]) / (bin[m] - bin[m - 1])\n",
    "        for k in range(f_m, f_m_plus):\n",
    "            fbank[m - 1, k] = (bin[m + 1] - k) / (bin[m + 1] - bin[m])\n",
    "\n",
    "    filter_banks = np.dot(pow_frames, fbank.T)\n",
    "    filter_banks = np.where(filter_banks == 0, np.finfo(float).eps, filter_banks)\n",
    "    log_fbanks = np.log(filter_banks)\n",
    "\n",
    "    # 5. DCT\n",
    "    mfccs = scipy.fftpack.dct(log_fbanks, type=2, axis=1, norm='ortho')[:, :n_mfcc]\n",
    "    return np.mean(mfccs, axis=0)\n"
   ]
  },
  {
   "cell_type": "markdown",
   "id": "939bee18",
   "metadata": {},
   "source": [
    "### **2.4. Extract Features From Data**"
   ]
  },
  {
   "cell_type": "code",
   "execution_count": 13,
   "id": "7113fb61",
   "metadata": {},
   "outputs": [],
   "source": [
    "def extract_all_features(sr, signal):\n",
    "    zcr, rms = time_domain_features(signal)\n",
    "    centroid, bandwidth, rolloff = frequency_domain_features(signal, sr)\n",
    "    mfccs = mfcc(signal, sr)\n",
    "    return np.array([zcr, rms, centroid, bandwidth, rolloff] + mfccs.tolist())"
   ]
  },
  {
   "cell_type": "code",
   "execution_count": 14,
   "id": "0adb633c",
   "metadata": {},
   "outputs": [
    {
     "name": "stderr",
     "output_type": "stream",
     "text": [
      "Extracting features: 100%|██████████| 3000/3000 [00:43<00:00, 68.72it/s]\n"
     ]
    }
   ],
   "source": [
    "extracted_data = []\n",
    "for data in tqdm(augmented_data, desc=\"Extracting features\"):\n",
    "    sr, signal = data[0], data[1]\n",
    "    features = extract_all_features(sr, signal)\n",
    "    extracted_data.append(features)"
   ]
  },
  {
   "cell_type": "code",
   "execution_count": 15,
   "id": "73b5c88d",
   "metadata": {},
   "outputs": [
    {
     "name": "stdout",
     "output_type": "stream",
     "text": [
      "Shape of feature matrix X: (3000, 18)\n",
      "Shape of label vector y: (3000,)\n"
     ]
    }
   ],
   "source": [
    "data_uniform = []\n",
    "for feature_list in extracted_data:\n",
    "    processed_features = []\n",
    "    for feature in feature_list:\n",
    "        if isinstance(feature, np.ndarray):\n",
    "            processed_features.append(feature.item())\n",
    "        else:\n",
    "            processed_features.append(feature)\n",
    "    data_uniform.append(processed_features)\n",
    "\n",
    "X = np.array(data_uniform)\n",
    "y = np.array(np.repeat(labels, 5))\n",
    "\n",
    "print(f\"Shape of feature matrix X: {X.shape}\")\n",
    "print(f\"Shape of label vector y: {y.shape}\")"
   ]
  },
  {
   "cell_type": "markdown",
   "id": "8aad72a7",
   "metadata": {},
   "source": [
    "# **3. Set Up and Train Model**"
   ]
  },
  {
   "cell_type": "markdown",
   "id": "ff038081",
   "metadata": {},
   "source": [
    "### **3.1. Support Vector Machine (SVM) Model**"
   ]
  },
  {
   "cell_type": "code",
   "execution_count": 16,
   "id": "ace2af66",
   "metadata": {},
   "outputs": [],
   "source": [
    "class SVM:\n",
    "    \n",
    "    # Fungsi konstruktor untuk menginisialisasi parameter SVM\n",
    "    def __init__(self, kernel='rbf', C=10.0, degree=3, gamma=0.1):\n",
    "        self.kernel_type = kernel\n",
    "        self.C = C\n",
    "        self.degree = degree\n",
    "        self.gamma = gamma\n",
    "        self.models = {}\n",
    "        self.is_multiclass = False\n",
    "    \n",
    "    # Fungsi untuk mendapatkan parameter SVM\n",
    "    def get_params(self):\n",
    "        return {\n",
    "            \"C\": self.C,\n",
    "            \"kernel\": self._compute_kernel,\n",
    "            \"gamma\": self.gamma,\n",
    "            \"degree\": self.degree,\n",
    "        }\n",
    "\n",
    "    # Fungsi untuk mengatur parameter SVM\n",
    "    def set_params(self, **parameters):\n",
    "        for parameter, value in parameters.items():\n",
    "            setattr(self, parameter, value)\n",
    "        return self\n",
    "    \n",
    "    # Fungsi untuk menghitung kernel\n",
    "    def _compute_kernel(self, x, y):\n",
    "        if self.kernel_type == 'linear':\n",
    "            return np.dot(x, y)\n",
    "        elif self.kernel_type == 'poly':\n",
    "            return (1 + self.gamma * np.dot(x, y)) ** self.degree\n",
    "        elif self.kernel_type == 'rbf':\n",
    "            return np.exp(-self._gamma * np.linalg.norm(x - y) ** 2)\n",
    "        else:\n",
    "            raise ValueError(\"Unknown kernel\")\n",
    "\n",
    "    # Fungsi untuk melakukan proses fitting model SVM\n",
    "    def fit(self, X, y):\n",
    "        self.classes = np.unique(y)\n",
    "        n_classes = len(self.classes)\n",
    "        self.is_multiclass = n_classes > 2\n",
    "\n",
    "        if self.is_multiclass:\n",
    "            self.models = {}\n",
    "            print(f\"Training {n_classes} OvR SVM models...\\n\")\n",
    "            for cls in tqdm(self.classes, desc=\"OvR SVM Training\"):\n",
    "                y_binary = np.where(y == cls, 1, -1)\n",
    "                model = SVM(kernel=self.kernel_type, C=self.C, degree=self.degree, gamma=self.gamma)\n",
    "                model.fit(X, y_binary)\n",
    "                self.models[cls] = model\n",
    "        else:\n",
    "            y = y.astype(float)\n",
    "            n_samples, n_features = X.shape\n",
    "            self.X = X\n",
    "            self.y = y\n",
    "\n",
    "            if self.kernel_type == 'rbf':\n",
    "                self._gamma = self.gamma if self.gamma else 1 / n_features\n",
    "\n",
    "            # Gram matrix\n",
    "            K = np.zeros((n_samples, n_samples))\n",
    "            for i in range(n_samples):\n",
    "                for j in range(n_samples):\n",
    "                    K[i, j] = self._compute_kernel(X[i], X[j])\n",
    "\n",
    "            P = matrix(np.outer(y, y) * K)\n",
    "            q = matrix(-np.ones(n_samples))\n",
    "            A = matrix(y.reshape(1, -1))\n",
    "            b = matrix(0.0)\n",
    "\n",
    "            if self.C is None:\n",
    "                G = matrix(-np.eye(n_samples))\n",
    "                h = matrix(np.zeros(n_samples))\n",
    "            else:\n",
    "                G = matrix(np.vstack((-np.eye(n_samples), np.eye(n_samples))))\n",
    "                h = matrix(np.hstack((np.zeros(n_samples), np.ones(n_samples) * self.C)))\n",
    "\n",
    "            solvers.options['show_progress'] = False\n",
    "            solution = solvers.qp(P, q, G, h, A, b)\n",
    "            alphas = np.ravel(solution['x'])\n",
    "\n",
    "            # Support vectors\n",
    "            sv = alphas > 1e-5\n",
    "            self.alphas = alphas[sv]\n",
    "            self.support_vectors = X[sv]\n",
    "            self.support_vector_labels = y[sv]\n",
    "            # print(f\"Self Alphas: {self.alphas}\")\n",
    "            # print(f\"Alphas shape: {self.alphas.shape}\")\n",
    "            # print(f\"Support vectors shape: {self.support_vectors.shape}\")\n",
    "\n",
    "            # Intercept\n",
    "            self.b = np.mean([\n",
    "                y_k - np.sum(self.alphas * self.support_vector_labels *\n",
    "                             [self._compute_kernel(x_k, x_i) for x_i in self.support_vectors])\n",
    "                for (x_k, y_k) in zip(self.support_vectors, self.support_vector_labels)\n",
    "            ])\n",
    "\n",
    "    # Fungsi untuk menghitung nilai keputusan\n",
    "    def project(self, X):\n",
    "        if self.is_multiclass:\n",
    "            decision_values = np.column_stack([\n",
    "                model.project(X) for model in self.models.values()\n",
    "            ])\n",
    "            return decision_values\n",
    "        else:\n",
    "            y_predict = np.zeros(len(X))\n",
    "            for i in range(len(X)):\n",
    "                s = 0\n",
    "                for alpha, sv_y, sv in zip(self.alphas, self.support_vector_labels, self.support_vectors):\n",
    "                    s += alpha * sv_y * self._compute_kernel(X[i], sv)\n",
    "                y_predict[i] = s\n",
    "            return y_predict + self.b\n",
    "    \n",
    "    # Fungsi untuk menghitung probabilitas prediksi\n",
    "    def predict_proba(self, X):\n",
    "        if not self.is_multiclass:\n",
    "            raise NotImplementedError(\"predict_proba hanya didukung untuk mode multiclass OvR\")\n",
    "\n",
    "        decision = self.project(X)\n",
    "        # Softmax untuk setiap baris\n",
    "        exp_scores = np.exp(decision - np.max(decision, axis=1, keepdims=True))  # stabilisasi\n",
    "        probs = exp_scores / np.sum(exp_scores, axis=1, keepdims=True)\n",
    "        return probs\n",
    "\n",
    "    # Fungsi untuk melakukan prediksi\n",
    "    def predict(self, X):\n",
    "        if self.is_multiclass:\n",
    "            decision = self.project(X)\n",
    "            predictions = np.argmax(decision, axis=1)\n",
    "            return self.classes[predictions]\n",
    "        else:\n",
    "            return np.sign(self.project(X))"
   ]
  },
  {
   "cell_type": "markdown",
   "id": "f52cf2dd",
   "metadata": {},
   "source": [
    "### **3.2. Train Test Split**"
   ]
  },
  {
   "cell_type": "code",
   "execution_count": 17,
   "id": "2bb76b3c",
   "metadata": {},
   "outputs": [
    {
     "name": "stdout",
     "output_type": "stream",
     "text": [
      "X_train shape: (2400, 18)\n",
      "X_test shape: (600, 18)\n",
      "y_train shape: (2400,)\n",
      "y_test shape: (600,)\n",
      "\n",
      "Class distribution in training set:\n",
      "  ambulance: 800\n",
      "  firetruck: 800\n",
      "  traffic: 800\n",
      "\n",
      "Class distribution in testing set:\n",
      "  ambulance: 200\n",
      "  firetruck: 200\n",
      "  traffic: 200\n"
     ]
    }
   ],
   "source": [
    "# Split the data into training and testing sets (80% train, 20% test)\n",
    "X_train_raw, X_test_raw, y_train_raw, y_test_raw = train_test_split(\n",
    "    X, y, test_size=0.2, random_state=42, stratify=y\n",
    ")\n",
    "\n",
    "# Scale the features\n",
    "scaler = StandardScaler()\n",
    "X_train = scaler.fit_transform(X_train_raw)\n",
    "X_test = scaler.transform(X_test_raw)\n",
    "\n",
    "# Encode the labels\n",
    "label_encoder = LabelEncoder()\n",
    "y_train = label_encoder.fit_transform(y_train_raw)\n",
    "y_test = label_encoder.transform(y_test_raw)\n",
    "\n",
    "# Check the shapes\n",
    "print(f\"X_train shape: {X_train.shape}\")\n",
    "print(f\"X_test shape: {X_test.shape}\")\n",
    "print(f\"y_train shape: {y_train.shape}\")\n",
    "print(f\"y_test shape: {y_test.shape}\")\n",
    "\n",
    "# Check class distribution in train and test sets\n",
    "train_distribution = {category: np.sum(y_train_raw == category) for category in categories}\n",
    "test_distribution = {category: np.sum(y_test_raw == category) for category in categories}\n",
    "\n",
    "print(\"\\nClass distribution in training set:\")\n",
    "for category, count in train_distribution.items():\n",
    "    print(f\"  {category}: {count}\")\n",
    "\n",
    "print(\"\\nClass distribution in testing set:\")\n",
    "for category, count in test_distribution.items():\n",
    "    print(f\"  {category}: {count}\")"
   ]
  },
  {
   "cell_type": "markdown",
   "id": "6e33b239",
   "metadata": {},
   "source": [
    "### **3.3. Train Model**"
   ]
  },
  {
   "cell_type": "code",
   "execution_count": 18,
   "id": "d3187bdf",
   "metadata": {},
   "outputs": [
    {
     "name": "stdout",
     "output_type": "stream",
     "text": [
      "Training 3 OvR SVM models...\n",
      "\n"
     ]
    },
    {
     "name": "stderr",
     "output_type": "stream",
     "text": [
      "OvR SVM Training: 100%|██████████| 3/3 [04:47<00:00, 95.97s/it] \n"
     ]
    }
   ],
   "source": [
    "model = SVM()\n",
    "model.fit(X_train, y_train)"
   ]
  },
  {
   "cell_type": "markdown",
   "id": "c253938a",
   "metadata": {},
   "source": [
    "# **4. Evaluate Model**"
   ]
  },
  {
   "cell_type": "markdown",
   "id": "d514bc66",
   "metadata": {},
   "source": [
    "### **4.1. Labels Prediction**"
   ]
  },
  {
   "cell_type": "code",
   "execution_count": 19,
   "id": "1fd34b66",
   "metadata": {},
   "outputs": [
    {
     "name": "stdout",
     "output_type": "stream",
     "text": [
      "Accuracy: 99.83%\n"
     ]
    }
   ],
   "source": [
    "y_pred = model.predict(X_test)\n",
    "acc = accuracy_score(y_test, y_pred)\n",
    "print(f\"Accuracy: {acc*100:.2f}%\")"
   ]
  },
  {
   "cell_type": "markdown",
   "id": "d05524a1",
   "metadata": {},
   "source": [
    "### **4.2. Metrics Evaluation**"
   ]
  },
  {
   "cell_type": "code",
   "execution_count": 20,
   "id": "328e419a",
   "metadata": {},
   "outputs": [
    {
     "name": "stdout",
     "output_type": "stream",
     "text": [
      "Classification Report:\n",
      "              precision    recall  f1-score   support\n",
      "\n",
      "   ambulance       1.00      0.99      1.00       200\n",
      "   firetruck       1.00      1.00      1.00       200\n",
      "     traffic       1.00      1.00      1.00       200\n",
      "\n",
      "    accuracy                           1.00       600\n",
      "   macro avg       1.00      1.00      1.00       600\n",
      "weighted avg       1.00      1.00      1.00       600\n",
      "\n"
     ]
    },
    {
     "data": {
      "image/png": "[encoded data removed]",
      "text/plain": [
       "<Figure size 800x600 with 2 Axes>"
      ]
     },
     "metadata": {},
     "output_type": "display_data"
    }
   ],
   "source": [
    "print(\"Classification Report:\")\n",
    "print(classification_report(y_test, y_pred, target_names=label_encoder.classes_))\n",
    "\n",
    "cm = confusion_matrix(y_test, y_pred)\n",
    "class_names = label_encoder.classes_\n",
    "\n",
    "plt.figure(figsize=(8, 6))\n",
    "sns.heatmap(cm, annot=True, fmt='d', cmap='Blues', xticklabels=class_names, yticklabels=class_names)\n",
    "plt.title('Confusion Matrix - SVM')\n",
    "plt.xlabel('Predicted Label')\n",
    "plt.ylabel('True Label')\n",
    "plt.tight_layout()\n",
    "plt.show()"
   ]
  },
  {
   "cell_type": "markdown",
   "id": "6675d7ea",
   "metadata": {},
   "source": [
    "# **5. Export Model**"
   ]
  },
  {
   "cell_type": "code",
   "execution_count": 21,
   "id": "e2aa3487",
   "metadata": {},
   "outputs": [],
   "source": [
    "with open(\"svm_model.pkl\", \"wb\") as f:\n",
    "    pickle.dump(model, f)"
   ]
  },
  {
   "cell_type": "code",
   "execution_count": 22,
   "id": "2aee7eb7",
   "metadata": {},
   "outputs": [],
   "source": [
    "with open(\"svm_scaler.pkl\", \"wb\") as f:\n",
    "    pickle.dump(scaler, f)"
   ]
  },
  {
   "cell_type": "code",
   "execution_count": 23,
   "id": "1d3d11f0",
   "metadata": {},
   "outputs": [],
   "source": [
    "with open(\"svm_encoder.pkl\", \"wb\") as f:\n",
    "    pickle.dump(label_encoder, f)"
   ]
  }
 ],
 "metadata": {
  "kernelspec": {
   "display_name": ".venv",
   "language": "python",
   "name": "python3"
  },
  "language_info": {
   "codemirror_mode": {
    "name": "ipython",
    "version": 3
   },
   "file_extension": ".py",
   "mimetype": "text/x-python",
   "name": "python",
   "nbconvert_exporter": "python",
   "pygments_lexer": "ipython3",
   "version": "3.12.4"
  }
 },
 "nbformat": 4,
 "nbformat_minor": 5
}
